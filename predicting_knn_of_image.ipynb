{
  "nbformat": 4,
  "nbformat_minor": 0,
  "metadata": {
    "kernelspec": {
      "display_name": "Python 2",
      "language": "python",
      "name": "python2"
    },
    "language_info": {
      "codemirror_mode": {
        "name": "ipython",
        "version": 2
      },
      "file_extension": ".py",
      "mimetype": "text/x-python",
      "name": "python",
      "nbconvert_exporter": "python",
      "pygments_lexer": "ipython2",
      "version": "2.7.10"
    },
    "colab": {
      "name": "FND06-NB02.ipynb",
      "provenance": []
    }
  },
  "cells": [
    {
      "cell_type": "code",
      "metadata": {
        "id": "-7kXnGuhyWwo",
        "outputId": "fb995404-5cad-4afe-8b8e-890c8bba54a3",
        "colab": {
          "base_uri": "https://localhost:8080/"
        }
      },
      "source": [
        "from google.colab import drive\n",
        "drive.mount('/content/drive')"
      ],
      "execution_count": 1,
      "outputs": [
        {
          "output_type": "stream",
          "text": [
            "Mounted at /content/drive\n"
          ],
          "name": "stdout"
        }
      ]
    },
    {
      "cell_type": "code",
      "metadata": {
        "id": "3GrtQw5Aym7f",
        "outputId": "88f0e0db-da69-4249-93c5-f5ddfb68de34",
        "colab": {
          "base_uri": "https://localhost:8080/",
          "height": 1000
        }
      },
      "source": [
        "pip install turicreate"
      ],
      "execution_count": 2,
      "outputs": [
        {
          "output_type": "stream",
          "text": [
            "Collecting turicreate\n",
            "\u001b[?25l  Downloading https://files.pythonhosted.org/packages/75/38/77a081ce35f012bd4789551db9e5196e766a2641cb05114ded9cc268182c/turicreate-6.4.1-cp27-cp27mu-manylinux1_x86_64.whl (91.9MB)\n",
            "\u001b[K     |████████████████████████████████| 91.9MB 63kB/s \n",
            "\u001b[?25hCollecting pillow>=5.2.0\n",
            "\u001b[?25l  Downloading https://files.pythonhosted.org/packages/12/ad/61f8dfba88c4e56196bf6d056cdbba64dc9c5dfdfbc97d02e6472feed913/Pillow-6.2.2-cp27-cp27mu-manylinux1_x86_64.whl (2.1MB)\n",
            "\u001b[K     |████████████████████████████████| 2.1MB 61.8MB/s \n",
            "\u001b[?25hRequirement already satisfied: numpy in /usr/local/lib/python2.7/dist-packages (from turicreate) (1.16.4)\n",
            "Requirement already satisfied: requests>=2.9.1 in /usr/local/lib/python2.7/dist-packages (from turicreate) (2.23.0)\n",
            "Collecting tensorflow<2.1.0,>=2.0.0\n",
            "\u001b[?25l  Downloading https://files.pythonhosted.org/packages/17/08/1ff15637a03b1565dd6cb0916b3ca6873db3a1fc69be0ed851be936e5633/tensorflow-2.0.0-cp27-cp27mu-manylinux2010_x86_64.whl (86.3MB)\n",
            "\u001b[K     |████████████████████████████████| 86.3MB 64kB/s \n",
            "\u001b[?25hRequirement already satisfied: prettytable==0.7.2 in /usr/local/lib/python2.7/dist-packages (from turicreate) (0.7.2)\n",
            "Collecting llvmlite==0.31.0\n",
            "\u001b[?25l  Downloading https://files.pythonhosted.org/packages/91/07/90cd9cdd43b287960b16dbf7929bff2267dc0b6647e8e0117a4937b19620/llvmlite-0.31.0-cp27-cp27mu-manylinux1_x86_64.whl (20.2MB)\n",
            "\u001b[K     |████████████████████████████████| 20.2MB 1.2MB/s \n",
            "\u001b[?25hRequirement already satisfied: pandas>=0.23.2 in /usr/local/lib/python2.7/dist-packages (from turicreate) (0.24.2)\n",
            "Requirement already satisfied: numba<0.51.0 in /usr/local/lib/python2.7/dist-packages (from turicreate) (0.40.1)\n",
            "Requirement already satisfied: decorator>=4.0.9 in /usr/local/lib/python2.7/dist-packages (from turicreate) (4.4.0)\n",
            "Requirement already satisfied: scipy>=1.1.0 in /usr/local/lib/python2.7/dist-packages (from turicreate) (1.2.2)\n",
            "Requirement already satisfied: six>=1.10.0 in /usr/local/lib/python2.7/dist-packages (from turicreate) (1.15.0)\n",
            "Requirement already satisfied: resampy==0.2.1 in /usr/local/lib/python2.7/dist-packages (from turicreate) (0.2.1)\n",
            "Collecting coremltools==3.3\n",
            "\u001b[?25l  Downloading https://files.pythonhosted.org/packages/46/9b/f6feac5d9369c68ee718d3c3140435452773a36ff08ef3bcc4fe378e8676/coremltools-3.3-cp27-none-manylinux1_x86_64.whl (3.4MB)\n",
            "\u001b[K     |████████████████████████████████| 3.4MB 47.5MB/s \n",
            "\u001b[?25hRequirement already satisfied: urllib3!=1.25.0,!=1.25.1,<1.26,>=1.21.1 in /usr/local/lib/python2.7/dist-packages (from requests>=2.9.1->turicreate) (1.24.3)\n",
            "Requirement already satisfied: chardet<4,>=3.0.2 in /usr/local/lib/python2.7/dist-packages (from requests>=2.9.1->turicreate) (3.0.4)\n",
            "Requirement already satisfied: certifi>=2017.4.17 in /usr/local/lib/python2.7/dist-packages (from requests>=2.9.1->turicreate) (2019.6.16)\n",
            "Requirement already satisfied: idna<3,>=2.5 in /usr/local/lib/python2.7/dist-packages (from requests>=2.9.1->turicreate) (2.8)\n",
            "Requirement already satisfied: gast==0.2.2 in /usr/local/lib/python2.7/dist-packages (from tensorflow<2.1.0,>=2.0.0->turicreate) (0.2.2)\n",
            "Requirement already satisfied: grpcio>=1.8.6 in /usr/local/lib/python2.7/dist-packages (from tensorflow<2.1.0,>=2.0.0->turicreate) (1.15.0)\n",
            "Collecting tensorboard<2.1.0,>=2.0.0\n",
            "\u001b[?25l  Downloading https://files.pythonhosted.org/packages/a7/3d/993131c622ae34f9401a81526853f2310a4834bd042420a7982fb5bc5fd0/tensorboard-2.0.2-py2-none-any.whl (3.8MB)\n",
            "\u001b[K     |████████████████████████████████| 3.8MB 43.6MB/s \n",
            "\u001b[?25hRequirement already satisfied: wrapt>=1.11.1 in /usr/local/lib/python2.7/dist-packages (from tensorflow<2.1.0,>=2.0.0->turicreate) (1.11.2)\n",
            "Requirement already satisfied: protobuf>=3.6.1 in /usr/local/lib/python2.7/dist-packages (from tensorflow<2.1.0,>=2.0.0->turicreate) (3.8.0)\n",
            "Requirement already satisfied: keras-preprocessing>=1.0.5 in /usr/local/lib/python2.7/dist-packages (from tensorflow<2.1.0,>=2.0.0->turicreate) (1.1.0)\n",
            "Requirement already satisfied: backports.weakref>=1.0rc1; python_version < \"3.4\" in /usr/local/lib/python2.7/dist-packages (from tensorflow<2.1.0,>=2.0.0->turicreate) (1.0.post1)\n",
            "Requirement already satisfied: mock>=2.0.0 in /usr/local/lib/python2.7/dist-packages (from tensorflow<2.1.0,>=2.0.0->turicreate) (2.0.0)\n",
            "Requirement already satisfied: keras-applications>=1.0.8 in /usr/local/lib/python2.7/dist-packages (from tensorflow<2.1.0,>=2.0.0->turicreate) (1.0.8)\n",
            "Requirement already satisfied: wheel in /usr/local/lib/python2.7/dist-packages (from tensorflow<2.1.0,>=2.0.0->turicreate) (0.35.1)\n",
            "Requirement already satisfied: functools32>=3.2.3 in /usr/local/lib/python2.7/dist-packages (from tensorflow<2.1.0,>=2.0.0->turicreate) (3.2.3.post2)\n",
            "Requirement already satisfied: absl-py>=0.7.0 in /usr/local/lib/python2.7/dist-packages (from tensorflow<2.1.0,>=2.0.0->turicreate) (0.7.1)\n",
            "Requirement already satisfied: opt-einsum>=2.3.2 in /usr/local/lib/python2.7/dist-packages (from tensorflow<2.1.0,>=2.0.0->turicreate) (2.3.2)\n",
            "Requirement already satisfied: termcolor>=1.1.0 in /usr/local/lib/python2.7/dist-packages (from tensorflow<2.1.0,>=2.0.0->turicreate) (1.1.0)\n",
            "Requirement already satisfied: google-pasta>=0.1.6 in /usr/local/lib/python2.7/dist-packages (from tensorflow<2.1.0,>=2.0.0->turicreate) (0.1.7)\n",
            "Requirement already satisfied: enum34>=1.1.6; python_version < \"3.4\" in /usr/local/lib/python2.7/dist-packages (from tensorflow<2.1.0,>=2.0.0->turicreate) (1.1.6)\n",
            "Collecting tensorflow-estimator<2.1.0,>=2.0.0\n",
            "\u001b[?25l  Downloading https://files.pythonhosted.org/packages/fc/08/8b927337b7019c374719145d1dceba21a8bb909b93b1ad6f8fb7d22c1ca1/tensorflow_estimator-2.0.1-py2.py3-none-any.whl (449kB)\n",
            "\u001b[K     |████████████████████████████████| 450kB 56.9MB/s \n",
            "\u001b[?25hRequirement already satisfied: astor>=0.6.0 in /usr/local/lib/python2.7/dist-packages (from tensorflow<2.1.0,>=2.0.0->turicreate) (0.8.0)\n",
            "Requirement already satisfied: pytz>=2011k in /usr/local/lib/python2.7/dist-packages (from pandas>=0.23.2->turicreate) (2018.9)\n",
            "Requirement already satisfied: python-dateutil>=2.5.0 in /usr/local/lib/python2.7/dist-packages (from pandas>=0.23.2->turicreate) (2.5.3)\n",
            "Requirement already satisfied: funcsigs in /usr/local/lib/python2.7/dist-packages (from numba<0.51.0->turicreate) (1.0.2)\n",
            "Requirement already satisfied: singledispatch in /usr/local/lib/python2.7/dist-packages (from numba<0.51.0->turicreate) (3.4.0.3)\n",
            "Requirement already satisfied: futures>=2.2.0 in /usr/local/lib/python2.7/dist-packages (from grpcio>=1.8.6->tensorflow<2.1.0,>=2.0.0->turicreate) (3.2.0)\n",
            "Requirement already satisfied: setuptools>=41.0.0 in /usr/local/lib/python2.7/dist-packages (from tensorboard<2.1.0,>=2.0.0->tensorflow<2.1.0,>=2.0.0->turicreate) (44.1.1)\n",
            "Collecting google-auth-oauthlib<0.5,>=0.4.1\n",
            "  Downloading https://files.pythonhosted.org/packages/7b/b8/88def36e74bee9fce511c9519571f4e485e890093ab7442284f4ffaef60b/google_auth_oauthlib-0.4.1-py2.py3-none-any.whl\n",
            "Requirement already satisfied: werkzeug>=0.11.15 in /usr/local/lib/python2.7/dist-packages (from tensorboard<2.1.0,>=2.0.0->tensorflow<2.1.0,>=2.0.0->turicreate) (0.15.5)\n",
            "Requirement already satisfied: google-auth<2,>=1.6.3 in /usr/local/lib/python2.7/dist-packages (from tensorboard<2.1.0,>=2.0.0->tensorflow<2.1.0,>=2.0.0->turicreate) (1.17.2)\n",
            "Requirement already satisfied: markdown>=2.6.8 in /usr/local/lib/python2.7/dist-packages (from tensorboard<2.1.0,>=2.0.0->tensorflow<2.1.0,>=2.0.0->turicreate) (3.1.1)\n",
            "Requirement already satisfied: pbr>=0.11 in /usr/local/lib/python2.7/dist-packages (from mock>=2.0.0->tensorflow<2.1.0,>=2.0.0->turicreate) (5.4.0)\n",
            "Requirement already satisfied: h5py in /usr/local/lib/python2.7/dist-packages (from keras-applications>=1.0.8->tensorflow<2.1.0,>=2.0.0->turicreate) (2.8.0)\n",
            "Requirement already satisfied: requests-oauthlib>=0.7.0 in /usr/local/lib/python2.7/dist-packages (from google-auth-oauthlib<0.5,>=0.4.1->tensorboard<2.1.0,>=2.0.0->tensorflow<2.1.0,>=2.0.0->turicreate) (1.2.0)\n",
            "Requirement already satisfied: cachetools<5.0,>=2.0.0 in /usr/local/lib/python2.7/dist-packages (from google-auth<2,>=1.6.3->tensorboard<2.1.0,>=2.0.0->tensorflow<2.1.0,>=2.0.0->turicreate) (3.1.1)\n",
            "Requirement already satisfied: rsa<4.1; python_version < \"3\" in /usr/local/lib/python2.7/dist-packages (from google-auth<2,>=1.6.3->tensorboard<2.1.0,>=2.0.0->tensorflow<2.1.0,>=2.0.0->turicreate) (4.0)\n",
            "Requirement already satisfied: pyasn1-modules>=0.2.1 in /usr/local/lib/python2.7/dist-packages (from google-auth<2,>=1.6.3->tensorboard<2.1.0,>=2.0.0->tensorflow<2.1.0,>=2.0.0->turicreate) (0.2.5)\n",
            "Requirement already satisfied: oauthlib>=3.0.0 in /usr/local/lib/python2.7/dist-packages (from requests-oauthlib>=0.7.0->google-auth-oauthlib<0.5,>=0.4.1->tensorboard<2.1.0,>=2.0.0->tensorflow<2.1.0,>=2.0.0->turicreate) (3.0.2)\n",
            "Requirement already satisfied: pyasn1>=0.1.3 in /usr/local/lib/python2.7/dist-packages (from rsa<4.1; python_version < \"3\"->google-auth<2,>=1.6.3->tensorboard<2.1.0,>=2.0.0->tensorflow<2.1.0,>=2.0.0->turicreate) (0.4.5)\n",
            "\u001b[31mERROR: fastai 0.7.0 has requirement torch<0.4, but you'll have torch 1.4.0 which is incompatible.\u001b[0m\n",
            "\u001b[31mERROR: tensorboard 2.0.2 has requirement grpcio>=1.24.3, but you'll have grpcio 1.15.0 which is incompatible.\u001b[0m\n",
            "Installing collected packages: pillow, google-auth-oauthlib, tensorboard, tensorflow-estimator, tensorflow, llvmlite, coremltools, turicreate\n",
            "  Found existing installation: Pillow 4.3.0\n",
            "    Uninstalling Pillow-4.3.0:\n",
            "      Successfully uninstalled Pillow-4.3.0\n",
            "  Found existing installation: google-auth-oauthlib 0.4.0\n",
            "    Uninstalling google-auth-oauthlib-0.4.0:\n",
            "      Successfully uninstalled google-auth-oauthlib-0.4.0\n",
            "  Found existing installation: tensorboard 2.1.0\n",
            "    Uninstalling tensorboard-2.1.0:\n",
            "      Successfully uninstalled tensorboard-2.1.0\n",
            "  Found existing installation: tensorflow-estimator 1.15.0\n",
            "    Uninstalling tensorflow-estimator-1.15.0:\n",
            "      Successfully uninstalled tensorflow-estimator-1.15.0\n",
            "  Found existing installation: tensorflow 2.1.0\n",
            "    Uninstalling tensorflow-2.1.0:\n",
            "      Successfully uninstalled tensorflow-2.1.0\n",
            "  Found existing installation: llvmlite 0.29.0\n",
            "    Uninstalling llvmlite-0.29.0:\n",
            "      Successfully uninstalled llvmlite-0.29.0\n",
            "Successfully installed coremltools-3.3 google-auth-oauthlib-0.4.1 llvmlite-0.31.0 pillow-6.2.2 tensorboard-2.0.2 tensorflow-2.0.0 tensorflow-estimator-2.0.1 turicreate-6.4.1\n"
          ],
          "name": "stdout"
        },
        {
          "output_type": "display_data",
          "data": {
            "application/vnd.colab-display-data+json": {
              "pip_warning": {
                "packages": [
                  "PIL"
                ]
              }
            }
          },
          "metadata": {
            "tags": []
          }
        }
      ]
    },
    {
      "cell_type": "markdown",
      "metadata": {
        "id": "Kq9QXYawyUhU"
      },
      "source": [
        "# Image retrieval using deep features"
      ]
    },
    {
      "cell_type": "code",
      "metadata": {
        "id": "6ddeAWLRyUhY"
      },
      "source": [
        "import turicreate"
      ],
      "execution_count": 81,
      "outputs": []
    },
    {
      "cell_type": "markdown",
      "metadata": {
        "id": "eBd91tAQyUhq"
      },
      "source": [
        "# Load some CIFAR-10 images"
      ]
    },
    {
      "cell_type": "code",
      "metadata": {
        "id": "letGz-v5yUhs"
      },
      "source": [
        "image_data = turicreate.SFrame('/content/drive/My Drive/Coursera/image_train_data/')"
      ],
      "execution_count": 82,
      "outputs": []
    },
    {
      "cell_type": "markdown",
      "metadata": {
        "id": "2Oz3y4fzyUiN"
      },
      "source": [
        "# Compute deep features from our images"
      ]
    },
    {
      "cell_type": "markdown",
      "metadata": {
        "id": "AKJMrC_JXBB_"
      },
      "source": [
        "## Creating deep features for our model \n",
        "* We will use ImageNet model \n",
        "* Extract deep feature for the image_data using the pretraind model"
      ]
    },
    {
      "cell_type": "code",
      "metadata": {
        "id": "wnXtmLr2yUiR"
      },
      "source": [
        "#deep_learning_model = turicreate.load_model('imagenet_model_iter45')\n",
        "#image_data['deep_features'] = deep_learning_model.extract_features(image_data)"
      ],
      "execution_count": 83,
      "outputs": []
    },
    {
      "cell_type": "code",
      "metadata": {
        "id": "W3tz_SnTyUin",
        "outputId": "5bcb0fb1-7ce8-4582-deb4-85c827546f09",
        "colab": {
          "base_uri": "https://localhost:8080/",
          "height": 449
        }
      },
      "source": [
        "image_data"
      ],
      "execution_count": 84,
      "outputs": [
        {
          "output_type": "execute_result",
          "data": {
            "text/plain": [
              "Columns:\n",
              "\tid\tint\n",
              "\timage\tImage\n",
              "\tlabel\tstr\n",
              "\tdeep_features\tarray\n",
              "\timage_array\tarray\n",
              "\n",
              "Rows: 2005\n",
              "\n",
              "Data:\n",
              "+-----+----------------------+------------+-------------------------------+\n",
              "|  id |        image         |   label    |         deep_features         |\n",
              "+-----+----------------------+------------+-------------------------------+\n",
              "|  24 | Height: 32 Width: 32 |    bird    | [0.242871761322, 1.0954537... |\n",
              "|  33 | Height: 32 Width: 32 |    cat     | [0.525087952614, 0.0, 0.0,... |\n",
              "|  36 | Height: 32 Width: 32 |    cat     | [0.566015958786, 0.0, 0.0,... |\n",
              "|  70 | Height: 32 Width: 32 |    dog     | [1.12979578972, 0.0, 0.0, ... |\n",
              "|  90 | Height: 32 Width: 32 |    bird    | [1.71786928177, 0.0, 0.0, ... |\n",
              "|  97 | Height: 32 Width: 32 | automobile | [1.57818555832, 0.0, 0.0, ... |\n",
              "| 107 | Height: 32 Width: 32 |    dog     | [0.0, 0.0, 0.220677852631,... |\n",
              "| 121 | Height: 32 Width: 32 |    bird    | [0.0, 0.23753464222, 0.0, ... |\n",
              "| 136 | Height: 32 Width: 32 | automobile | [0.0, 0.0, 0.0, 0.0, 0.0, ... |\n",
              "| 138 | Height: 32 Width: 32 |    bird    | [0.658935725689, 0.0, 0.0,... |\n",
              "+-----+----------------------+------------+-------------------------------+\n",
              "+-------------------------------+\n",
              "|          image_array          |\n",
              "+-------------------------------+\n",
              "| [73.0, 77.0, 58.0, 71.0, 6... |\n",
              "| [7.0, 5.0, 8.0, 7.0, 5.0, ... |\n",
              "| [169.0, 122.0, 65.0, 131.0... |\n",
              "| [154.0, 179.0, 152.0, 159.... |\n",
              "| [216.0, 195.0, 180.0, 201.... |\n",
              "| [33.0, 44.0, 27.0, 29.0, 4... |\n",
              "| [97.0, 51.0, 31.0, 104.0, ... |\n",
              "| [93.0, 96.0, 88.0, 102.0, ... |\n",
              "| [35.0, 59.0, 53.0, 36.0, 5... |\n",
              "| [205.0, 193.0, 195.0, 200.... |\n",
              "+-------------------------------+\n",
              "[2005 rows x 5 columns]\n",
              "Note: Only the head of the SFrame is printed.\n",
              "You can use print_rows(num_rows=m, num_columns=n) to print more rows and columns."
            ],
            "text/html": [
              "<div style=\"max-height:1000px;max-width:1500px;overflow:auto;\"><table frame=\"box\" rules=\"cols\">\n",
              "    <tr>\n",
              "        <th style=\"padding-left: 1em; padding-right: 1em; text-align: center\">id</th>\n",
              "        <th style=\"padding-left: 1em; padding-right: 1em; text-align: center\">image</th>\n",
              "        <th style=\"padding-left: 1em; padding-right: 1em; text-align: center\">label</th>\n",
              "        <th style=\"padding-left: 1em; padding-right: 1em; text-align: center\">deep_features</th>\n",
              "        <th style=\"padding-left: 1em; padding-right: 1em; text-align: center\">image_array</th>\n",
              "    </tr>\n",
              "    <tr>\n",
              "        <td style=\"padding-left: 1em; padding-right: 1em; text-align: center; vertical-align: top\">24</td>\n",
              "        <td style=\"padding-left: 1em; padding-right: 1em; text-align: center; vertical-align: top\">Height: 32 Width: 32</td>\n",
              "        <td style=\"padding-left: 1em; padding-right: 1em; text-align: center; vertical-align: top\">bird</td>\n",
              "        <td style=\"padding-left: 1em; padding-right: 1em; text-align: center; vertical-align: top\">[0.242871761322,<br>1.09545373917, 0.0, ...</td>\n",
              "        <td style=\"padding-left: 1em; padding-right: 1em; text-align: center; vertical-align: top\">[73.0, 77.0, 58.0, 71.0,<br>68.0, 50.0, 77.0, 69.0, ...</td>\n",
              "    </tr>\n",
              "    <tr>\n",
              "        <td style=\"padding-left: 1em; padding-right: 1em; text-align: center; vertical-align: top\">33</td>\n",
              "        <td style=\"padding-left: 1em; padding-right: 1em; text-align: center; vertical-align: top\">Height: 32 Width: 32</td>\n",
              "        <td style=\"padding-left: 1em; padding-right: 1em; text-align: center; vertical-align: top\">cat</td>\n",
              "        <td style=\"padding-left: 1em; padding-right: 1em; text-align: center; vertical-align: top\">[0.525087952614, 0.0,<br>0.0, 0.0, 0.0, 0.0, ...</td>\n",
              "        <td style=\"padding-left: 1em; padding-right: 1em; text-align: center; vertical-align: top\">[7.0, 5.0, 8.0, 7.0, 5.0,<br>8.0, 5.0, 4.0, 6.0, 7.0, ...</td>\n",
              "    </tr>\n",
              "    <tr>\n",
              "        <td style=\"padding-left: 1em; padding-right: 1em; text-align: center; vertical-align: top\">36</td>\n",
              "        <td style=\"padding-left: 1em; padding-right: 1em; text-align: center; vertical-align: top\">Height: 32 Width: 32</td>\n",
              "        <td style=\"padding-left: 1em; padding-right: 1em; text-align: center; vertical-align: top\">cat</td>\n",
              "        <td style=\"padding-left: 1em; padding-right: 1em; text-align: center; vertical-align: top\">[0.566015958786, 0.0,<br>0.0, 0.0, 0.0, 0.0, ...</td>\n",
              "        <td style=\"padding-left: 1em; padding-right: 1em; text-align: center; vertical-align: top\">[169.0, 122.0, 65.0,<br>131.0, 108.0, 75.0, ...</td>\n",
              "    </tr>\n",
              "    <tr>\n",
              "        <td style=\"padding-left: 1em; padding-right: 1em; text-align: center; vertical-align: top\">70</td>\n",
              "        <td style=\"padding-left: 1em; padding-right: 1em; text-align: center; vertical-align: top\">Height: 32 Width: 32</td>\n",
              "        <td style=\"padding-left: 1em; padding-right: 1em; text-align: center; vertical-align: top\">dog</td>\n",
              "        <td style=\"padding-left: 1em; padding-right: 1em; text-align: center; vertical-align: top\">[1.12979578972, 0.0, 0.0,<br>0.778194487095, 0.0, ...</td>\n",
              "        <td style=\"padding-left: 1em; padding-right: 1em; text-align: center; vertical-align: top\">[154.0, 179.0, 152.0,<br>159.0, 183.0, 157.0, ...</td>\n",
              "    </tr>\n",
              "    <tr>\n",
              "        <td style=\"padding-left: 1em; padding-right: 1em; text-align: center; vertical-align: top\">90</td>\n",
              "        <td style=\"padding-left: 1em; padding-right: 1em; text-align: center; vertical-align: top\">Height: 32 Width: 32</td>\n",
              "        <td style=\"padding-left: 1em; padding-right: 1em; text-align: center; vertical-align: top\">bird</td>\n",
              "        <td style=\"padding-left: 1em; padding-right: 1em; text-align: center; vertical-align: top\">[1.71786928177, 0.0, 0.0,<br>0.0, 0.0, 0.0, ...</td>\n",
              "        <td style=\"padding-left: 1em; padding-right: 1em; text-align: center; vertical-align: top\">[216.0, 195.0, 180.0,<br>201.0, 178.0, 160.0, ...</td>\n",
              "    </tr>\n",
              "    <tr>\n",
              "        <td style=\"padding-left: 1em; padding-right: 1em; text-align: center; vertical-align: top\">97</td>\n",
              "        <td style=\"padding-left: 1em; padding-right: 1em; text-align: center; vertical-align: top\">Height: 32 Width: 32</td>\n",
              "        <td style=\"padding-left: 1em; padding-right: 1em; text-align: center; vertical-align: top\">automobile</td>\n",
              "        <td style=\"padding-left: 1em; padding-right: 1em; text-align: center; vertical-align: top\">[1.57818555832, 0.0, 0.0,<br>0.0, 0.0, 0.0, ...</td>\n",
              "        <td style=\"padding-left: 1em; padding-right: 1em; text-align: center; vertical-align: top\">[33.0, 44.0, 27.0, 29.0,<br>44.0, 31.0, 32.0, 45.0, ...</td>\n",
              "    </tr>\n",
              "    <tr>\n",
              "        <td style=\"padding-left: 1em; padding-right: 1em; text-align: center; vertical-align: top\">107</td>\n",
              "        <td style=\"padding-left: 1em; padding-right: 1em; text-align: center; vertical-align: top\">Height: 32 Width: 32</td>\n",
              "        <td style=\"padding-left: 1em; padding-right: 1em; text-align: center; vertical-align: top\">dog</td>\n",
              "        <td style=\"padding-left: 1em; padding-right: 1em; text-align: center; vertical-align: top\">[0.0, 0.0,<br>0.220677852631, 0.0,  ...</td>\n",
              "        <td style=\"padding-left: 1em; padding-right: 1em; text-align: center; vertical-align: top\">[97.0, 51.0, 31.0, 104.0,<br>58.0, 38.0, 107.0, 61.0, ...</td>\n",
              "    </tr>\n",
              "    <tr>\n",
              "        <td style=\"padding-left: 1em; padding-right: 1em; text-align: center; vertical-align: top\">121</td>\n",
              "        <td style=\"padding-left: 1em; padding-right: 1em; text-align: center; vertical-align: top\">Height: 32 Width: 32</td>\n",
              "        <td style=\"padding-left: 1em; padding-right: 1em; text-align: center; vertical-align: top\">bird</td>\n",
              "        <td style=\"padding-left: 1em; padding-right: 1em; text-align: center; vertical-align: top\">[0.0, 0.23753464222, 0.0,<br>0.0, 0.0, 0.0, ...</td>\n",
              "        <td style=\"padding-left: 1em; padding-right: 1em; text-align: center; vertical-align: top\">[93.0, 96.0, 88.0, 102.0,<br>106.0, 97.0, 117.0, ...</td>\n",
              "    </tr>\n",
              "    <tr>\n",
              "        <td style=\"padding-left: 1em; padding-right: 1em; text-align: center; vertical-align: top\">136</td>\n",
              "        <td style=\"padding-left: 1em; padding-right: 1em; text-align: center; vertical-align: top\">Height: 32 Width: 32</td>\n",
              "        <td style=\"padding-left: 1em; padding-right: 1em; text-align: center; vertical-align: top\">automobile</td>\n",
              "        <td style=\"padding-left: 1em; padding-right: 1em; text-align: center; vertical-align: top\">[0.0, 0.0, 0.0, 0.0, 0.0,<br>0.0, 7.5737862587, 0.0, ...</td>\n",
              "        <td style=\"padding-left: 1em; padding-right: 1em; text-align: center; vertical-align: top\">[35.0, 59.0, 53.0, 36.0,<br>56.0, 56.0, 42.0, 62.0, ...</td>\n",
              "    </tr>\n",
              "    <tr>\n",
              "        <td style=\"padding-left: 1em; padding-right: 1em; text-align: center; vertical-align: top\">138</td>\n",
              "        <td style=\"padding-left: 1em; padding-right: 1em; text-align: center; vertical-align: top\">Height: 32 Width: 32</td>\n",
              "        <td style=\"padding-left: 1em; padding-right: 1em; text-align: center; vertical-align: top\">bird</td>\n",
              "        <td style=\"padding-left: 1em; padding-right: 1em; text-align: center; vertical-align: top\">[0.658935725689, 0.0,<br>0.0, 0.0, 0.0, 0.0, ...</td>\n",
              "        <td style=\"padding-left: 1em; padding-right: 1em; text-align: center; vertical-align: top\">[205.0, 193.0, 195.0,<br>200.0, 187.0, 193.0, ...</td>\n",
              "    </tr>\n",
              "</table>\n",
              "[2005 rows x 5 columns]<br/>Note: Only the head of the SFrame is printed.<br/>You can use print_rows(num_rows=m, num_columns=n) to print more rows and columns.\n",
              "</div>"
            ]
          },
          "metadata": {
            "tags": []
          },
          "execution_count": 84
        }
      ]
    },
    {
      "cell_type": "markdown",
      "metadata": {
        "id": "5yoIK7F6ugnV"
      },
      "source": [
        "##### Count the label from each category "
      ]
    },
    {
      "cell_type": "code",
      "metadata": {
        "id": "s4F5ETUMupVh",
        "outputId": "d07ebe41-8150-4e18-8780-ec969ba6e133",
        "colab": {
          "base_uri": "https://localhost:8080/",
          "height": 808
        }
      },
      "source": [
        "image_data['label'].show()"
      ],
      "execution_count": 85,
      "outputs": [
        {
          "output_type": "display_data",
          "data": {
            "text/plain": [
              "Materializing SArray"
            ],
            "text/html": [
              "<pre>Materializing SArray</pre>"
            ]
          },
          "metadata": {
            "tags": []
          }
        },
        {
          "output_type": "display_data",
          "data": {
            "text/plain": [
              "<IPython.core.display.HTML object>"
            ],
            "text/html": [
              "<html>                 <body>                     <iframe style=\"border:0;margin:0\" width=\"920\" height=\"770\" srcdoc='<html lang=\"en\">                         <head>                             <script src=\"https://cdnjs.cloudflare.com/ajax/libs/vega/5.4.0/vega.js\"></script>                             <script src=\"https://cdnjs.cloudflare.com/ajax/libs/vega-embed/4.0.0/vega-embed.js\"></script>                             <script src=\"https://cdnjs.cloudflare.com/ajax/libs/vega-tooltip/0.5.1/vega-tooltip.min.js\"></script>                             <link rel=\"stylesheet\" type=\"text/css\" href=\"https://cdnjs.cloudflare.com/ajax/libs/vega-tooltip/0.5.1/vega-tooltip.min.css\">                             <style>                             .vega-actions > a{                                 color:white;                                 text-decoration: none;                                 font-family: \"Arial\";                                 cursor:pointer;                                 padding:5px;                                 background:#AAAAAA;                                 border-radius:4px;                                 padding-left:10px;                                 padding-right:10px;                                 margin-right:5px;                             }                             .vega-actions{                                 margin-top:20px;                                 text-align:center                             }                            .vega-actions > a{                                 background:#999999;                            }                             </style>                         </head>                         <body>                             <div id=\"vis\">                             </div>                             <script>                                 var vega_json = \"{\\\"signals\\\": [{\\\"on\\\": [{\\\"events\\\": \\\"mousemove\\\", \\\"update\\\": \\\"isTuple(group()) ? group() : unit\\\"}], \\\"name\\\": \\\"unit\\\", \\\"value\\\": {}}, {\\\"name\\\": \\\"pts_store\\\", \\\"update\\\": \\\"data(\\\\\\\"pts_store_store\\\\\\\").length &amp;&amp; {count: data(\\\\\\\"pts_store_store\\\\\\\")[0].values[0]}\\\"}, {\\\"on\\\": [{\\\"force\\\": true, \\\"events\\\": [{\\\"source\\\": \\\"scope\\\", \\\"type\\\": \\\"click\\\"}], \\\"update\\\": \\\"datum &amp;&amp; item().mark.marktype !== &apos;group&apos; ? {unit: \\\\\\\"\\\\\\\", encodings: [\\\\\\\"x\\\\\\\"], fields: [\\\\\\\"count\\\\\\\"], values: [datum[\\\\\\\"count\\\\\\\"]]} : null\\\"}], \\\"name\\\": \\\"pts_store_tuple\\\", \\\"value\\\": {}}, {\\\"on\\\": [{\\\"events\\\": {\\\"signal\\\": \\\"pts_store_tuple\\\"}, \\\"update\\\": \\\"modify(\\\\\\\"pts_store_store\\\\\\\", pts_store_tuple, true)\\\"}], \\\"name\\\": \\\"pts_store_modify\\\"}], \\\"autosize\\\": {\\\"contains\\\": \\\"padding\\\", \\\"type\\\": \\\"fit\\\", \\\"resize\\\": false}, \\\"axes\\\": [{\\\"scale\\\": \\\"x\\\", \\\"title\\\": \\\"Count\\\", \\\"tickCount\\\": {\\\"signal\\\": \\\"ceil(width/40)\\\"}, \\\"zindex\\\": 1, \\\"labelOverlap\\\": true, \\\"orient\\\": \\\"top\\\"}, {\\\"domain\\\": false, \\\"scale\\\": \\\"x\\\", \\\"ticks\\\": false, \\\"labels\\\": false, \\\"tickCount\\\": {\\\"signal\\\": \\\"ceil(width/40)\\\"}, \\\"zindex\\\": 0, \\\"grid\\\": true, \\\"minExtent\\\": 0, \\\"gridScale\\\": \\\"y\\\", \\\"orient\\\": \\\"top\\\", \\\"maxExtent\\\": 0}, {\\\"zindex\\\": 1, \\\"title\\\": \\\"Values\\\", \\\"scale\\\": \\\"y\\\", \\\"orient\\\": \\\"left\\\", \\\"labelOverlap\\\": true}], \\\"title\\\": \\\"Distribution of Values [string]\\\", \\\"config\\\": {\\\"style\\\": {\\\"cell\\\": {\\\"stroke\\\": \\\"transparent\\\"}, \\\"rect\\\": {\\\"stroke\\\": \\\"rgba(200, 200, 200, 0.5)\\\"}, \\\"group-title\\\": {\\\"fontWeight\\\": \\\"normal\\\", \\\"font\\\": \\\"HelveticaNeue, Arial\\\", \\\"fontSize\\\": 29, \\\"fill\\\": \\\"rgba(0,0,0,0.65)\\\"}}, \\\"title\\\": {\\\"color\\\": \\\"rgba(0,0,0,0.847)\\\", \\\"fontWeight\\\": \\\"normal\\\", \\\"font\\\": \\\"\\\\\\\"San Francisco\\\\\\\", HelveticaNeue, Arial\\\", \\\"fontSize\\\": 18, \\\"offset\\\": 30}, \\\"axisY\\\": {\\\"minExtent\\\": 30}, \\\"range\\\": {\\\"heatmap\\\": {\\\"scheme\\\": \\\"greenblue\\\"}}, \\\"legend\\\": {\\\"labelFont\\\": \\\"\\\\\\\"San Francisco\\\\\\\", HelveticaNeue, Arial\\\", \\\"labelColor\\\": \\\"rgba(0,0,0,0.847)\\\", \\\"titleFont\\\": \\\"\\\\\\\"San Francisco\\\\\\\", HelveticaNeue, Arial\\\", \\\"cornerRadius\\\": 30, \\\"titleColor\\\": \\\"rgba(0,0,0,0.847)\\\", \\\"gradientLength\\\": 608}, \\\"axis\\\": {\\\"titlePadding\\\": 20, \\\"titleColor\\\": \\\"rgba(0,0,0,0.847)\\\", \\\"titleFont\\\": \\\"\\\\\\\"San Francisco\\\\\\\", HelveticaNeue, Arial\\\", \\\"labelPadding\\\": 10, \\\"labelFont\\\": \\\"\\\\\\\"San Francisco\\\\\\\", HelveticaNeue, Arial\\\", \\\"labelFontSize\\\": 12, \\\"labelColor\\\": \\\"rgba(0,0,0,0.847)\\\", \\\"gridColor\\\": \\\"rgba(204,204,204,1.0)\\\", \\\"titleFontSize\\\": 14, \\\"tickColor\\\": \\\"rgb(136,136,136)\\\", \\\"titleFontWeight\\\": \\\"normal\\\"}}, \\\"scales\\\": [{\\\"domain\\\": {\\\"field\\\": \\\"count\\\", \\\"data\\\": \\\"data_0\\\"}, \\\"name\\\": \\\"x\\\", \\\"zero\\\": true, \\\"range\\\": [0, {\\\"signal\\\": \\\"width\\\"}], \\\"type\\\": \\\"linear\\\", \\\"nice\\\": true}, {\\\"paddingInner\\\": 0.1, \\\"domain\\\": {\\\"sort\\\": {\\\"field\\\": \\\"label_idx\\\", \\\"order\\\": \\\"descending\\\", \\\"op\\\": \\\"mean\\\"}, \\\"field\\\": \\\"label\\\", \\\"data\\\": \\\"data_0\\\"}, \\\"name\\\": \\\"y\\\", \\\"paddingOuter\\\": 0.05, \\\"range\\\": [{\\\"signal\\\": \\\"height\\\"}, 0], \\\"type\\\": \\\"band\\\"}], \\\"style\\\": \\\"cell\\\", \\\"height\\\": 550, \\\"padding\\\": 8, \\\"width\\\": 720, \\\"marks\\\": [{\\\"encode\\\": {\\\"hover\\\": {\\\"fill\\\": {\\\"value\\\": \\\"#7EC2F3\\\"}}, \\\"update\\\": {\\\"x2\\\": {\\\"scale\\\": \\\"x\\\", \\\"value\\\": 0}, \\\"x\\\": {\\\"field\\\": \\\"count\\\", \\\"scale\\\": \\\"x\\\"}, \\\"fill\\\": {\\\"value\\\": \\\"#108EE9\\\"}, \\\"y\\\": {\\\"field\\\": \\\"label\\\", \\\"scale\\\": \\\"y\\\"}, \\\"height\\\": {\\\"band\\\": true, \\\"scale\\\": \\\"y\\\"}}}, \\\"from\\\": {\\\"data\\\": \\\"data_0\\\"}, \\\"style\\\": [\\\"bar\\\"], \\\"type\\\": \\\"rect\\\", \\\"name\\\": \\\"marks\\\"}], \\\"$schema\\\": \\\"https://vega.github.io/schema/vega/v4.json\\\", \\\"data\\\": [{\\\"name\\\": \\\"pts_store_store\\\"}, {\\\"values\\\": [{\\\"count\\\": 509, \\\"percentage\\\": \\\"25.3865%\\\", \\\"label_idx\\\": 0, \\\"label\\\": \\\"automobile\\\"}, {\\\"count\\\": 509, \\\"percentage\\\": \\\"25.3865%\\\", \\\"label_idx\\\": 1, \\\"label\\\": \\\"cat\\\"}, {\\\"count\\\": 509, \\\"percentage\\\": \\\"25.3865%\\\", \\\"label_idx\\\": 2, \\\"label\\\": \\\"dog\\\"}, {\\\"count\\\": 478, \\\"percentage\\\": \\\"23.8404%\\\", \\\"label_idx\\\": 3, \\\"label\\\": \\\"bird\\\"}], \\\"name\\\": \\\"source_2\\\"}, {\\\"source\\\": \\\"source_2\\\", \\\"name\\\": \\\"data_0\\\", \\\"transform\\\": [{\\\"expr\\\": \\\"toNumber(datum[\\\\\\\"count\\\\\\\"])\\\", \\\"as\\\": \\\"count\\\", \\\"type\\\": \\\"formula\\\"}, {\\\"expr\\\": \\\"datum[\\\\\\\"count\\\\\\\"] !== null &amp;&amp; !isNaN(datum[\\\\\\\"count\\\\\\\"])\\\", \\\"type\\\": \\\"filter\\\"}]}], \\\"metadata\\\": {\\\"bubbleOpts\\\": {\\\"fields\\\": [{\\\"field\\\": \\\"count\\\"}, {\\\"field\\\": \\\"label\\\"}, {\\\"field\\\": \\\"percentage\\\"}], \\\"showAllFields\\\": false}}}\";                                 var vega_json_parsed = JSON.parse(vega_json);                                 var toolTipOpts = {                                     showAllFields: true                                 };                                 if(vega_json_parsed[\"metadata\"] != null){                                     if(vega_json_parsed[\"metadata\"][\"bubbleOpts\"] != null){                                         toolTipOpts = vega_json_parsed[\"metadata\"][\"bubbleOpts\"];                                     };                                 };                                 vegaEmbed(\"#vis\", vega_json_parsed).then(function (result) {                                     vegaTooltip.vega(result.view, toolTipOpts);                                  });                             </script>                         </body>                     </html>' src=\"demo_iframe_srcdoc.htm\">                         <p>Your browser does not support iframes.</p>                     </iframe>                 </body>             </html>"
            ]
          },
          "metadata": {
            "tags": []
          }
        }
      ]
    },
    {
      "cell_type": "markdown",
      "metadata": {
        "id": "fzOV5xQru1gr"
      },
      "source": [
        "From above bar plot we can say three categories automobile, cat, and dag have same number of samples but compare to those bird has less number of samples."
      ]
    },
    {
      "cell_type": "markdown",
      "metadata": {
        "id": "wrLoa0--yUi-"
      },
      "source": [
        "# Create a nearest neighbors model to retrieve images from deep features\n",
        "\n",
        "* We can follow the k-nearest neighbor algorithm.\n",
        "* We can use the nearest_neighbors method in turicreate and can figure out the closet image.\n",
        "* For the atgument we are giving features as deep_features, we created above.\n",
        "* Finally, We can create a model which figures out most closest image to the specific image.\n",
        " "
      ]
    },
    {
      "cell_type": "code",
      "metadata": {
        "id": "mSIkLMUQyUjA",
        "outputId": "f27989d3-60e4-4003-e6b4-8a4b582e9e17",
        "colab": {
          "base_uri": "https://localhost:8080/",
          "height": 102
        }
      },
      "source": [
        "knn_model = turicreate.nearest_neighbors.create(image_data,\n",
        "                                               features = ['deep_features'],\n",
        "                                               label = 'id')"
      ],
      "execution_count": 86,
      "outputs": [
        {
          "output_type": "display_data",
          "data": {
            "text/plain": [
              "Starting brute force nearest neighbors model training."
            ],
            "text/html": [
              "<pre>Starting brute force nearest neighbors model training.</pre>"
            ]
          },
          "metadata": {
            "tags": []
          }
        },
        {
          "output_type": "display_data",
          "data": {
            "text/plain": [
              "Validating distance components."
            ],
            "text/html": [
              "<pre>Validating distance components.</pre>"
            ]
          },
          "metadata": {
            "tags": []
          }
        },
        {
          "output_type": "display_data",
          "data": {
            "text/plain": [
              "Initializing model data."
            ],
            "text/html": [
              "<pre>Initializing model data.</pre>"
            ]
          },
          "metadata": {
            "tags": []
          }
        },
        {
          "output_type": "display_data",
          "data": {
            "text/plain": [
              "Initializing distances."
            ],
            "text/html": [
              "<pre>Initializing distances.</pre>"
            ]
          },
          "metadata": {
            "tags": []
          }
        },
        {
          "output_type": "display_data",
          "data": {
            "text/plain": [
              "Done."
            ],
            "text/html": [
              "<pre>Done.</pre>"
            ]
          },
          "metadata": {
            "tags": []
          }
        }
      ]
    },
    {
      "cell_type": "markdown",
      "metadata": {
        "id": "YReFQGPWyUjS"
      },
      "source": [
        "# Use image retrieval model with deep features to find similar images"
      ]
    },
    {
      "cell_type": "markdown",
      "metadata": {
        "id": "eQVXAQ0KZQBT"
      },
      "source": [
        "* Checking what is the label at 18th position \n",
        "* Knowing the label we will store that in specific variable"
      ]
    },
    {
      "cell_type": "code",
      "metadata": {
        "id": "XX2PPK2fZHY5",
        "outputId": "70db0b1b-6a16-47b1-b371-54398ff76b21",
        "colab": {
          "base_uri": "https://localhost:8080/"
        }
      },
      "source": [
        "image_data[18]"
      ],
      "execution_count": 87,
      "outputs": [
        {
          "output_type": "execute_result",
          "data": {
            "text/plain": [
              "{'deep_features': array('d', [1.0440353155136108, 0.0, 0.0, 0.0, 0.0, 0.0, 9.495406150817871, 0.0, 0.0, 0.0, 0.0, 0.0, 1.015682339668274, 0.654792070388794, 0.0, 0.3271738886833191, 0.0, 0.0, 0.0, 1.240085482597351, 0.0, 2.6598682403564453, 0.0, 0.0, 0.0, 0.16509848833084106, 0.0, 0.6701491475105286, 0.0, 0.0, 0.0, 0.0, 0.417128324508667, 0.0, 0.0, 0.0, 0.0, 0.0, 0.0, 0.0, 0.0, 0.0, 1.8625438213348389, 0.0, 0.47617536783218384, 1.9455668926239014, 0.0, 0.0, 0.6290905475616455, 0.0, 0.0, 0.0, 0.0, 0.0, 0.0, 0.0, 0.0, 0.0, 0.0, 0.0, 0.0, 0.0, 0.0, 0.6789456605911255, 0.0, 0.1041874885559082, 4.074601173400879, 0.0, 0.0, 0.0, 0.08778756856918335, 0.0, 0.35365527868270874, 0.0, 0.0, 0.23898005485534668, 0.0, 0.0, 0.0, 0.0, 0.0, 0.0, 0.0, 0.0, 0.0, 0.0, 0.0, 0.0, 0.0, 0.0, 0.0, 1.9145865440368652, 0.0, 0.0, 0.0, 0.0, 0.0, 0.0, 0.0, 0.0, 0.0, 0.1655166745185852, 0.0, 0.0, 0.0, 0.0, 0.0, 0.0, 0.0, 0.0, 0.0, 1.6437466144561768, 0.45629486441612244, 0.0, 0.0, 0.0, 0.0, 0.0, 0.0, 0.0, 0.0, 0.0, 0.0, 0.0, 0.0, 0.0, 0.0, 0.0, 0.0, 0.15954923629760742, 0.0, 0.0, 0.0, 0.0, 0.0, 2.377811908721924, 0.0, 0.0, 0.0, 1.3780206441879272, 0.0, 0.0, 0.0, 0.0, 0.0, 0.0, 0.0, 0.6206432580947876, 2.578195095062256, 0.0, 0.0, 0.0, 0.0, 0.0, 0.0, 1.007771372795105, 0.0, 0.0, 0.0, 0.0, 0.19831013679504395, 0.0, 0.0, 0.0, 0.0, 1.0240530967712402, 0.9716023802757263, 0.0, 0.0, 0.0, 0.0, 0.0, 0.0, 0.872759997844696, 1.017945408821106, 0.71439528465271, 1.608480453491211, 0.5460830926895142, 3.129974842071533, 1.656278371810913, 0.0, 0.35770612955093384, 0.21351778507232666, 0.0, 0.044892728328704834, 0.0, 0.0, 0.0, 0.0, 7.380366802215576, 0.22060710191726685, 0.0, 0.0, 0.0, 0.0, 0.0, 0.0, 0.0, 0.0, 0.0, 0.522321343421936, 0.0, 0.0, 0.0, 0.0, 4.264302730560303, 0.0, 0.0, 3.1527278423309326, 0.0, 1.103008508682251, 0.0, 0.0, 1.414656639099121, 0.11949282884597778, 0.0, 0.0, 0.0, 1.5020661354064941, 0.0, 0.9475871920585632, 0.9234997630119324, 0.0, 0.3919922709465027, 0.9393444061279297, 0.0, 0.43592923879623413, 2.0331530570983887, 0.0, 0.0, 0.49048280715942383, 0.0700986385345459, 0.0, 0.0, 0.0, 2.029283285140991, 0.0, 0.0, 1.0350148677825928, 0.17864155769348145, 0.0, 0.0, 1.4725384712219238, 1.7522199153900146, 0.0, 0.0, 0.0, 0.0, 0.9342018961906433, 0.0, 1.9825290441513062, 0.0, 0.0, 2.1477208137512207, 0.0, 1.6170860528945923, 0.0, 0.6452585458755493, 0.0, 0.0, 0.0, 1.5951522588729858, 5.274371147155762, 0.5986564755439758, 0.0, 0.0, 0.34652435779571533, 0.12509500980377197, 0.0, 0.0, 0.0, 0.0, 5.29648494720459, 0.0, 0.0, 0.0, 0.0, 0.0, 0.0, 0.0, 0.0, 0.0, 1.4746031761169434, 0.25233733654022217, 0.0, 0.0, 0.0, 0.0, 0.0, 0.0, 0.0, 0.0, 0.0, 2.9195609092712402, 0.0, 0.3347337245941162, 0.0, 0.0, 0.8923577666282654, 0.0, 0.0, 0.0, 0.0, 0.0, 0.0, 0.0, 0.0, 0.0, 0.0, 0.0, 0.0, 1.948603868484497, 0.0, 0.0, 0.0, 1.6896886825561523, 0.6740447282791138, 2.509829044342041, 1.518395185470581, 0.0, 3.1719741821289062, 0.6419068574905396, 0.4168608784675598, 0.0, 2.5730156898498535, 0.0, 0.0, 0.0, 1.4401923418045044, 0.0, 0.0, 0.0, 0.4694986939430237, 0.0, 0.0, 0.0, 1.3398706912994385, 0.0, 1.6735643148422241, 0.0, 0.0, 1.3760628700256348, 2.4920406341552734, 0.0, 0.4198928475379944, 0.0, 1.4580786228179932, 0.0, 0.0, 0.0, 0.0, 0.0, 0.0, 0.0, 0.0, 0.0, 0.04991281032562256, 0.0, 0.0, 0.0, 0.0, 0.0, 0.3231174945831299, 0.5094338059425354, 0.0, 0.9048770070075989, 0.0, 0.3128635287284851, 0.2040872573852539, 0.0, 0.0, 0.0, 2.7755048274993896, 0.0, 1.9978277683258057, 0.0, 0.24444204568862915, 0.0, 0.0, 3.612825870513916, 0.0, 0.0, 0.7360687255859375, 0.0, 0.0, 0.0, 0.0, 0.0, 0.0, 0.0, 0.0, 0.0, 0.06999987363815308, 0.0, 0.0, 0.0, 0.0, 0.16531455516815186, 0.0, 0.02475559711456299, 0.0, 0.0, 0.0, 0.0, 0.0, 0.0, 2.5153794288635254, 0.0, 0.0, 0.0, 3.085965394973755, 0.0, 0.0, 0.0, 2.487210750579834, 0.0, 0.0, 2.2493367195129395, 1.9092857837677002, 0.0, 0.0, 0.0, 0.0, 0.0, 0.0, 0.0, 0.0, 0.0, 0.0, 0.0, 0.0, 0.0, 0.0, 0.0, 0.0, 1.0430803298950195, 0.0, 0.0, 0.0, 0.0, 0.0, 0.39508211612701416, 0.0, 1.7701140642166138, 0.0, 1.3341546058654785, 0.0, 0.0, 2.4303336143493652, 0.0, 0.7300186157226562, 2.488276481628418, 0.0, 0.0, 0.5453111529350281, 0.0, 0.0, 0.0, 0.0, 0.0, 0.16465705633163452, 0.26784610748291016, 0.0, 0.0, 0.0, 0.0, 0.0, 0.0, 0.5067398548126221, 0.0, 0.0, 0.0, 0.0, 0.7325755953788757, 2.1491122245788574, 0.0, 0.0, 0.0, 0.0, 0.0, 3.6602284908294678, 1.5988681316375732, 0.0, 0.0, 0.0, 0.0, 0.0, 0.0, 0.0, 0.0, 0.0, 0.0, 0.0, 0.0, 0.5476720333099365, 0.0, 0.0, 0.0, 0.0, 0.0, 0.0, 0.0, 0.0, 0.0, 0.0, 0.0, 0.0, 0.0, 0.0, 0.0, 0.0, 1.3862744569778442, 0.11108499765396118, 0.0, 0.0, 0.0, 0.0, 1.0352895259857178, 0.0, 0.06126528978347778, 0.0, 0.0, 0.0, 2.9789319038391113, 0.0, 0.0, 0.0, 1.2710895538330078, 1.6651781797409058, 0.0, 0.0, 1.9653329849243164, 0.5953230857849121, 1.0071742534637451, 0.0, 0.0, 0.8469706177711487, 0.0, 0.0, 0.03578895330429077, 1.0702836513519287, 0.793622612953186, 0.0, 0.09292733669281006, 0.0, 0.43288081884384155, 0.0, 2.6449482440948486, 0.8470279574394226, 0.0, 1.280564308166504, 0.0, 1.4371309280395508, 0.0, 0.0, 0.0, 0.0, 1.859913945198059, 0.0, 0.0, 0.0, 0.0, 0.0, 2.813870668411255, 1.121359944343567, 0.0, 0.0, 0.0, 0.0, 0.0, 0.0, 0.0, 0.0, 0.0, 0.0, 1.7361654043197632, 3.2176928520202637, 0.9954317212104797, 0.0, 0.27303546667099, 0.5361325740814209, 0.0, 0.0, 0.0, 0.0, 0.0, 0.0, 0.0, 0.0, 0.0, 0.0, 0.0, 0.10791081190109253, 1.0617077350616455, 1.210038423538208, 0.0, 0.0, 0.0, 2.0736682415008545, 2.5600523948669434, 0.0, 0.0, 3.269697666168213, 2.037637710571289, 0.0, 0.0, 1.1771490573883057, 0.0, 0.0, 0.0, 0.5954216122627258, 0.0, 0.0, 0.0, 0.0, 0.0, 0.0, 0.0, 1.3348877429962158, 0.0, 0.0, 0.015079617500305176, 0.0, 1.357086181640625, 0.0, 0.0, 0.0, 0.0, 0.0, 0.0, 0.0, 0.0, 0.0, 0.0, 0.0, 0.0, 0.0, 0.04482460021972656, 0.0, 0.0, 0.0, 0.0, 4.561374664306641, 0.0, 1.0561683177947998, 0.0, 0.0, 0.0, 0.0, 1.3854691982269287, 0.0, 0.0, 0.0, 0.0, 0.0, 1.3939933776855469, 1.5236328840255737, 0.0, 0.41696298122406006, 0.0, 0.0, 0.0, 0.0, 0.0, 0.0, 0.0, 0.0, 0.7824838757514954, 0.0, 0.0, 0.0, 0.0, 0.0, 0.0, 0.0, 0.0, 7.135659694671631, 0.0, 0.0, 2.6386256217956543, 0.0, 0.0, 0.0, 0.6472070217132568, 0.0, 0.0, 0.0, 0.0, 0.0, 0.0, 0.0, 1.227531909942627, 0.8215571641921997, 0.0, 0.0, 0.39363741874694824, 0.0, 0.0, 0.008382081985473633, 0.0, 0.0, 0.7256482839584351, 0.0, 0.0, 0.0, 1.2557320594787598, 0.0, 0.5140341520309448, 0.9684585332870483, 0.0, 0.0, 0.7567119598388672, 0.0, 0.0, 2.24997878074646, 0.0, 0.0, 0.0, 0.7925282716751099, 0.0, 0.0, 0.0, 1.153650164604187, 0.6754978895187378, 0.0, 1.2910164594650269, 0.0, 0.0, 0.06029576063156128, 0.0, 0.0, 0.0, 0.0, 0.5582600235939026, 0.8301966786384583, 0.0, 0.981056272983551, 0.938220202922821, 0.0, 0.0, 0.0, 0.7282437086105347, 0.0, 0.0, 0.0, 0.0, 0.0, 0.0, 0.0, 0.0, 0.0, 0.0, 0.0, 0.0, 0.6503517627716064, 0.0, 0.0, 0.0, 0.5488100051879883, 0.0, 0.0, 0.0, 3.1730775833129883, 1.8951972723007202, 0.0, 2.63137149810791, 0.0, 0.0, 0.0, 1.5723963975906372, 0.0, 0.0, 1.3083796501159668, 0.21197497844696045, 0.0, 0.0, 0.0, 0.0, 0.0, 0.0, 0.0, 4.755867004394531, 0.0, 1.1479167938232422, 2.0609171390533447, 1.108327031135559, 0.0, 1.911434292793274, 0.0, 2.4175052642822266, 7.409921646118164, 0.0, 1.0107194185256958, 0.0, 1.0521342754364014, 0.0, 0.0, 0.1815006136894226, 0.0, 0.0, 0.0, 1.339409589767456, 0.0, 0.0, 0.0, 0.0, 0.0, 0.0, 0.0, 0.0, 0.0, 2.9492154121398926, 0.0, 0.9446486830711365, 0.0, 1.3625344038009644, 0.0, 0.0, 0.0, 0.0, 0.0, 0.0, 0.26516491174697876, 0.0, 0.0, 0.0, 0.0, 1.6259799003601074, 0.0, 4.050131797790527, 1.6876468658447266, 0.6421653032302856, 0.0, 0.0, 0.0, 1.116756796836853, 0.0, 0.45168155431747437, 0.0, 0.7845364212989807, 0.0, 0.4708958864212036, 0.4532446265220642, 0.0, 0.0, 0.0, 0.0, 0.0, 1.9219944477081299, 2.2431890964508057, 0.0, 0.0, 0.0, 1.3562471866607666, 0.0, 0.0, 0.0, 0.9851493835449219, 0.9012250304222107, 1.4553613662719727, 0.49315857887268066, 0.0, 0.0, 0.7476292848587036, 1.595801591873169, 0.0, 0.7491464614868164, 0.0, 0.0, 0.0, 0.0, 0.0, 0.3982921838760376, 0.0, 0.0, 0.0, 0.0, 0.5175905823707581, 0.0, 0.0, 0.0, 0.0, 0.08595699071884155, 0.0, 0.0, 0.0, 0.0, 2.6901960372924805, 0.0, 0.0, 0.0, 0.0, 1.3783859014511108, 0.0, 1.388848066329956, 0.0, 1.256570816040039, 1.6909866333007812, 0.0, 0.0, 0.0, 0.0, 0.0, 0.5962079763412476, 1.8592555522918701, 0.0, 0.53450608253479, 0.0, 0.0, 0.0, 0.0, 0.0, 0.0, 3.739980936050415, 0.5183289647102356, 0.9442108273506165, 0.0, 0.0, 0.0, 0.0, 0.0, 0.9978612661361694, 0.8406330347061157, 0.0, 0.0, 0.0, 0.0, 0.0, 0.0, 0.0, 3.589618682861328, 1.1708455085754395, 0.0, 0.0, 0.0, 0.0, 0.0, 0.0, 0.0, 0.0, 0.0, 0.0, 2.5239477157592773, 0.0, 0.0, 0.0, 0.0, 0.0, 0.0, 0.0, 0.0, 0.0, 0.0, 0.0, 0.0, 0.0, 2.1018528938293457, 0.0, 0.0, 0.23593151569366455, 0.0, 0.0, 0.0, 0.0, 0.0, 0.0, 0.0, 0.0, 0.0, 0.0, 0.0, 1.8343803882598877, 0.0, 0.0, 0.0, 0.0, 0.0, 0.0, 0.0, 3.7374582290649414, 0.8442721962928772, 0.0, 0.0, 0.0, 0.0, 0.0, 1.6914162635803223, 0.0, 2.3686797618865967, 0.25589990615844727, 0.0, 0.9881579279899597, 2.0514872074127197, 0.03937125205993652, 0.0, 0.0, 0.0, 0.0, 0.0, 0.0, 0.0, 0.9418303370475769, 0.0, 0.0, 1.1224552392959595, 0.0, 0.0, 0.0, 0.6504297256469727, 0.0, 0.9643345475196838, 0.0, 0.0, 0.0, 0.1637730598449707, 0.0, 1.0780997276306152, 0.0, 0.0, 0.21163302659988403, 0.0, 0.0, 0.0, 0.0, 0.0, 0.49773457646369934, 0.0, 0.0, 0.0, 0.279071569442749, 0.0, 0.0, 0.0, 0.0, 0.10676276683807373, 0.0, 0.8337741494178772, 1.898949384689331, 0.0, 0.3726661801338196, 0.0, 0.0, 0.0, 0.0, 0.0, 0.12646245956420898, 0.0, 0.0, 0.0, 0.0, 0.0, 0.0, 0.0, 4.155826568603516, 0.0, 0.9174251556396484, 0.0, 1.179418683052063, 0.0, 0.0, 0.0, 0.0, 0.0, 0.0, 0.0, 0.0, 0.0, 0.1587517261505127, 0.0, 0.0, 0.0, 0.0, 0.0, 0.0, 0.0, 0.032085418701171875, 0.0, 0.0, 3.738558053970337, 0.0, 1.2588045597076416, 0.0, 0.0, 1.160700798034668, 0.0, 2.5195794105529785, 0.0, 0.0, 0.0, 0.0, 0.0, 0.0, 0.43003547191619873, 0.0, 0.0, 0.0, 0.41514378786087036, 0.16188180446624756, 0.0, 0.0, 2.289059638977051, 0.0, 0.28120893239974976, 0.0, 0.0, 0.0, 0.0, 1.4183496236801147, 0.0, 0.0, 0.0, 0.0, 0.9306772351264954, 1.2640807628631592, 0.0, 0.0, 0.0, 1.7519829273223877, 0.0, 0.0, 0.0, 0.8517701029777527, 0.0, 0.0, 0.7017669677734375, 4.087769985198975, 2.2825632095336914, 0.0, 0.0, 1.7245527505874634, 0.0, 0.3212904930114746, 0.0, 0.0, 0.17674118280410767, 1.3320536613464355, 0.11438935995101929, 0.5858507752418518, 0.0, 0.0, 1.9418087005615234, 1.991692304611206, 0.0, 1.079793095588684, 0.0, 0.0, 0.8776326775550842, 0.0, 0.374910831451416, 0.0, 0.0, 0.0, 1.8610458374023438, 0.0, 0.0, 1.3862626552581787, 0.5023165345191956, 0.0, 0.5194011926651001, 0.0, 0.0, 0.0, 0.0, 0.0, 0.573512077331543, 0.0, 0.0, 0.0, 0.0, 0.26949477195739746, 0.7678053379058838, 0.7182151675224304, 0.0, 1.3352551460266113, 0.9211472272872925, 0.0, 0.5798662900924683, 1.3788104057312012, 0.0, 1.4797303676605225, 0.8394933938980103, 0.0, 0.7091447710990906, 1.7229669094085693, 0.0, 0.0, 0.0, 0.0, 1.4599168300628662, 0.0, 0.0, 0.0, 0.0, 0.0, 0.0, 0.6143248677253723, 0.2518984079360962, 0.0, 4.860300064086914, 0.1537507176399231, 0.0, 0.0, 1.1212725639343262, 1.5881118774414062, 1.0672909021377563, 0.0, 0.0, 0.0, 0.0, 0.0, 1.4349154233932495, 0.0, 1.330450177192688, 0.29836708307266235, 0.5643508434295654, 0.0, 0.007864773273468018, 0.0, 0.0, 0.0, 1.1301430463790894, 5.1610002517700195, 0.0, 0.5116568803787231, 0.0, 0.0, 0.0, 0.0, 0.0, 0.0, 4.237521171569824, 0.0, 0.0, 0.8076713681221008, 0.0, 0.0, 0.0, 0.0, 0.0, 0.0, 0.0, 2.824547052383423, 0.0, 0.0, 0.0, 0.6114466190338135, 1.4311870336532593, 0.0, 0.9948167204856873, 0.0, 0.0, 1.666120171546936, 0.0, 0.21103739738464355, 1.1110385656356812, 0.0, 0.0, 0.5710088014602661, 0.0, 0.0, 0.0, 0.0, 0.0, 0.0, 1.5628113746643066, 1.221281886100769, 0.0, 0.0, 0.0, 1.666612982749939, 0.0, 0.0, 0.0, 0.0, 0.0, 0.3635638356208801, 0.0, 0.0, 0.0, 0.0, 0.9293570518493652, 1.9483249187469482, 0.0, 0.0, 0.0, 1.8309924602508545, 0.0, 0.0, 0.0, 0.0, 1.0863982439041138, 0.11966150999069214, 0.0, 0.0, 0.0, 0.0, 0.0, 0.0, 0.0, 0.0, 0.0, 0.0, 0.0, 0.7342564463615417, 0.0, 0.0, 0.0, 0.0, 0.4549723267555237, 1.3543636798858643, 0.0, 0.0, 1.2122703790664673, 2.4564220905303955, 0.0, 1.361396312713623, 0.0, 0.0, 0.0, 0.0, 0.0, 1.2034456729888916, 0.0, 0.0, 1.202983021736145, 2.452422618865967, 0.0, 0.0, 0.0, 0.0, 0.0, 0.0, 3.20330810546875, 0.0, 0.0, 0.0, 0.7352703809738159, 0.0, 1.042721152305603, 0.0, 0.0, 0.0, 3.0931150913238525, 0.0, 0.0, 0.0, 0.35160571336746216, 0.0, 0.0, 0.0, 0.0, 0.0, 0.0, 1.429709553718567, 0.0, 2.104227066040039, 0.27756720781326294, 0.0, 0.9631747007369995, 0.0, 0.0, 0.0, 0.0, 0.0, 0.0, 0.0, 0.0, 0.0, 0.0, 0.0, 0.0, 2.0104005336761475, 0.0, 0.0, 0.0, 0.0, 0.0, 0.0, 0.0, 0.0, 3.388322114944458, 2.5349619388580322, 0.0, 0.0, 1.7622575759887695, 0.0, 0.0, 0.0, 0.0, 0.869316041469574, 0.0, 0.0, 1.8015828132629395, 0.0, 0.0, 0.0, 0.0, 0.07035553455352783, 0.0, 0.0, 0.0, 0.0, 0.0, 0.0, 0.0, 0.0, 0.1876426339149475, 0.0, 0.0, 0.0, 0.0, 3.576453447341919, 0.0, 0.0, 0.0, 0.0, 0.0, 0.0, 0.0, 0.0, 0.0, 0.0, 0.8402182459831238, 0.0, 0.0, 0.0, 0.0, 0.36297518014907837, 0.0, 0.0, 2.9396378993988037, 0.0, 0.0, 2.5800044536590576, 0.17973953485488892, 0.0, 0.0, 0.0, 0.0, 1.2245019674301147, 0.0, 0.5992832183837891, 0.0, 0.0, 1.7632076740264893, 1.800981044769287, 0.0, 0.0, 0.0, 0.0, 2.3172507286071777, 0.0, 0.0, 1.134989619255066, 0.05705916881561279, 0.0, 0.0, 0.0, 0.2820312976837158, 0.0, 0.7116010189056396, 0.0, 0.0, 0.0, 0.6474323272705078, 0.37566477060317993, 0.0, 0.0, 0.0, 0.0, 3.1677143573760986, 0.0, 0.0, 1.167209267616272, 0.0, 0.8254525661468506, 0.0, 0.0, 0.9902013540267944, 1.9827321767807007, 0.0, 0.0, 0.0, 0.0, 0.0, 0.0, 0.9800583720207214, 0.0, 0.4829648733139038, 0.0, 0.0, 0.0, 0.0, 0.0, 2.3181848526000977, 0.0, 0.0, 0.0, 0.0, 2.5260589122772217, 0.0, 0.0, 0.0, 0.0, 0.0, 0.0, 0.0, 0.0, 0.0, 0.0, 0.0, 0.0, 1.5268568992614746, 0.0, 0.0, 0.0, 0.0, 0.0, 0.47955501079559326, 0.08774292469024658, 0.0, 1.1740772724151611, 1.6448400020599365, 0.0, 0.12451297044754028, 0.0, 0.0, 1.1240500211715698, 0.0, 0.0, 0.0, 3.722327470779419, 0.0, 0.0, 0.0, 0.0, 0.0, 0.0, 0.0, 0.7183390855789185, 0.0, 0.0, 0.0, 0.0, 0.0, 1.205378532409668, 0.36995989084243774, 0.0, 0.5294766426086426, 3.583158493041992, 0.0, 0.0, 0.5278359651565552, 0.0, 0.0, 1.8599040508270264, 0.0, 0.0, 0.09425884485244751, 0.0, 0.25998401641845703, 0.0, 0.0, 0.0, 0.0, 0.0, 0.0, 0.0, 1.9850542545318604, 0.0, 0.0, 0.0, 0.0, 2.002243995666504, 1.3212916851043701, 0.0, 0.0, 0.0, 0.5150231122970581, 0.07534706592559814, 0.0, 0.0, 0.0, 0.683134138584137, 0.6411793231964111, 5.792632102966309, 0.0, 0.6914297938346863, 0.0, 0.0, 0.0, 0.0, 0.0, 0.06821471452713013, 0.49989527463912964, 0.0, 1.1302003860473633, 2.238469123840332, 0.0, 1.1487586498260498, 0.0, 0.0, 0.0, 0.0, 0.0, 0.0, 0.0, 0.0, 0.0, 2.2618248462677, 0.0, 0.0, 0.0, 1.019262671470642, 1.683872938156128, 0.0, 0.6473298072814941, 0.0, 1.5457996129989624, 0.0, 0.0, 0.0, 0.0, 0.0, 0.5836851596832275, 0.0, 5.717424392700195, 0.0, 0.5179297924041748, 0.7633013129234314, 0.0, 0.0, 0.0, 2.003411054611206, 0.0, 0.2674328684806824, 0.0, 0.0, 0.0, 0.0, 0.0, 0.0, 1.5686895847320557, 0.0, 0.0, 0.0, 0.0, 0.0, 1.7910232543945312, 0.0, 0.2176055908203125, 0.05771535634994507, 0.0, 0.0, 0.6845037937164307, 0.0, 1.0006568431854248, 0.23958170413970947, 0.0, 0.0, 0.0, 0.0, 0.0, 0.8455595970153809, 0.0, 0.0, 0.0, 0.725520133972168, 1.3145759105682373, 0.0, 0.0, 0.4054604768753052, 0.0, 0.0, 0.0, 0.0, 0.0, 1.6260815858840942, 0.0, 0.0, 0.0, 0.0, 2.8280205726623535, 0.0, 0.0, 0.0, 0.0, 0.0, 1.4164241552352905, 2.3194828033447266, 0.0, 0.2965381145477295, 0.0, 0.0, 1.0796252489089966, 0.0, 0.44424957036972046, 0.0, 0.0, 0.0, 0.1953892707824707, 0.0, 0.0, 0.0, 0.45128804445266724, 0.0, 0.0, 0.0, 0.0, 0.0, 2.3518753051757812, 0.0, 0.0, 0.0, 0.0, 0.0, 0.0, 0.0, 0.5351741313934326, 0.0, 0.0, 0.0, 0.6111247539520264, 0.0, 0.9423366785049438, 0.0, 0.0, 0.0, 0.0, 0.3423305153846741, 0.0, 0.0, 0.0, 0.0, 2.6477763652801514, 0.0453680157661438, 0.0, 0.17998403310775757, 0.0, 0.0, 0.0, 0.0, 0.7619000673294067, 1.3703548908233643, 0.0, 0.0, 0.0, 0.0, 0.4828416109085083, 0.0, 0.41023021936416626, 0.0, 0.0, 1.4934123754501343, 0.0, 0.11964774131774902, 0.0, 1.6275421380996704, 0.0, 0.39905792474746704, 2.110891342163086, 1.6002554893493652, 0.0, 0.36964118480682373, 0.25148773193359375, 1.6254451274871826, 0.0, 0.0, 0.0, 0.0, 0.0, 0.0, 0.0, 0.4316762685775757, 0.0, 0.0, 0.5500609278678894, 0.8124058246612549, 0.0, 0.29307883977890015, 0.0, 0.0, 0.0, 1.256951928138733, 0.0, 0.0, 1.437161922454834, 0.0, 0.0, 0.5837210416793823, 2.3641281127929688, 0.54429030418396, 0.0, 0.07332807779312134, 0.0, 0.0, 0.0, 0.0, 0.0, 0.7434297800064087, 0.0, 1.2991821765899658, 0.0, 0.0, 0.5065602660179138, 0.0, 0.0, 0.0, 2.7191829681396484, 1.0907028913497925, 0.0, 1.3801180124282837, 0.0, 0.03855705261230469, 0.0, 0.0, 0.0, 0.0, 0.0, 0.4350297451019287, 1.6080764532089233, 0.0, 2.4227888584136963, 0.0, 0.0, 0.0, 0.08924359083175659, 0.0, 0.0, 0.0, 0.0, 2.533101797103882, 0.0, 0.0, 0.0, 3.5625991821289062, 3.2097043991088867, 1.542344570159912, 0.0, 0.0, 0.0, 0.0, 1.6474037170410156, 1.2249139547348022, 0.0, 0.23976314067840576, 0.0, 0.0, 3.3673739433288574, 1.984318494796753, 0.0, 0.0, 0.0, 0.0, 0.0, 0.0, 0.0, 0.0, 0.0, 1.5362701416015625, 0.0, 0.0, 0.0, 0.0, 0.0, 0.6227093935012817, 1.205434799194336, 0.0, 2.704000473022461, 0.14094281196594238, 0.0, 0.0, 0.0, 0.0, 0.0, 0.0, 0.0, 1.4042284488677979, 1.2172707319259644, 0.0, 0.0, 0.0, 0.0, 0.0, 0.820756733417511, 1.374571681022644, 0.0, 0.0, 0.0, 0.15518760681152344, 0.0, 2.5690464973449707, 0.0, 0.0, 2.111621141433716, 0.0, 0.0, 0.9753642678260803, 0.0, 0.0, 0.0, 0.0, 0.0, 0.48435091972351074, 0.0, 0.19843792915344238, 3.67262601852417, 0.0, 0.0, 0.0, 0.0, 0.0, 0.0, 0.0, 0.0, 0.0, 0.0, 2.541471004486084, 1.4797163009643555, 0.0, 0.0, 0.0, 0.0, 0.0, 0.0, 0.0, 0.0, 0.5000903606414795, 0.0, 2.1203489303588867, 0.0, 0.16050052642822266, 0.36222344636917114, 0.0, 1.4507802724838257, 0.16555410623550415, 0.0, 0.0, 0.0, 0.0, 0.9946152567863464, 0.0, 0.0, 2.2333459854125977, 0.0, 0.0, 0.0, 0.0, 0.0, 0.0, 0.883273720741272, 4.435095310211182, 1.723703145980835, 0.16329997777938843, 0.0, 0.0, 0.0, 0.9475178122520447, 0.0, 0.36681437492370605, 0.0, 0.0, 0.0, 0.0, 0.0, 0.0, 0.0, 0.0, 0.0, 0.0, 0.0, 0.0, 0.0, 1.9453567266464233, 0.0, 4.103089332580566, 0.014079272747039795, 0.0, 1.8655712604522705, 0.0, 5.002139091491699, 2.3416337966918945, 0.0, 0.0, 0.0, 0.0, 4.112210750579834, 0.0, 0.0, 0.0, 0.0, 0.0, 0.0, 0.812650203704834, 2.9278481006622314, 0.0, 0.0, 1.2008377313613892, 1.0611001253128052, 0.0, 0.0, 0.0, 0.0, 0.0, 0.0, 0.0, 0.9117799997329712, 0.0, 0.0, 0.5037297010421753, 0.0, 0.0, 0.0, 0.0, 2.7751882076263428, 0.2665789723396301, 1.827911138534546, 0.0, 0.0, 0.0, 0.0, 0.0, 0.0, 0.2962982654571533, 0.0, 0.0, 1.1800005435943604, 0.0, 2.5354502201080322, 0.0, 0.7572194933891296, 0.0, 2.1587729454040527, 0.0, 0.538017988204956, 0.0, 0.0, 0.0, 0.0, 0.0, 0.0, 0.0, 0.0, 0.027211248874664307, 0.0, 0.0, 0.0, 0.0, 2.4898877143859863, 0.0, 0.20439684391021729, 0.0, 0.0, 0.0, 0.0, 0.0, 0.31519025564193726, 0.9012894630432129, 0.4133593440055847, 1.6695913076400757, 0.0, 0.0, 0.0, 0.0, 0.0, 0.16023975610733032, 0.0, 0.0, 5.923157215118408, 0.8632063269615173, 0.0, 0.0, 0.5447550415992737, 0.0, 0.0, 0.13772296905517578, 0.0, 3.4250125885009766, 0.0, 0.36706411838531494, 0.0, 0.0, 0.0, 1.988966703414917, 0.0, 0.0, 1.2781825065612793, 0.0, 0.0, 0.0, 0.0, 2.9435596466064453, 0.0, 0.0, 0.0, 0.0, 0.0, 0.0, 0.0, 0.2870083451271057, 0.0, 0.6519386768341064, 0.0, 0.0, 0.0, 0.0, 0.0, 3.6804962158203125, 0.0, 0.0, 0.0, 0.0, 2.1710615158081055, 0.0, 0.0, 0.0, 0.0, 0.0, 1.6128435134887695, 0.31535786390304565, 0.0, 0.0, 0.0, 0.0, 0.0, 0.0, 0.0, 2.774055004119873, 1.2999249696731567, 0.0, 0.0, 0.0, 0.0, 0.0, 0.0, 0.17876678705215454, 0.0, 0.0, 0.8978018164634705, 0.0, 0.0, 0.5017389059066772, 1.7707607746124268, 0.0, 0.0, 0.0, 0.0, 0.0, 0.0, 0.0, 0.0, 0.0, 1.7954535484313965, 1.0353349447250366, 0.0, 2.1445224285125732, 0.0, 0.0, 0.0, 0.8340914249420166, 0.0, 0.0, 0.0, 0.0, 0.0, 0.0, 0.0, 0.0, 0.0, 0.0, 0.37037384510040283, 1.490098476409912, 0.0, 0.0, 0.0, 0.0, 0.0, 0.0, 0.7880460023880005, 0.0, 0.0, 0.0, 0.0, 0.0, 0.0, 0.0, 0.0, 0.026749730110168457, 0.0, 0.8611307740211487, 0.0, 5.505942344665527, 0.0, 0.0, 0.8018491864204407, 0.0, 0.0, 0.0, 0.0, 0.30681806802749634, 0.09271568059921265, 0.0, 1.025137186050415, 0.0, 0.25681692361831665, 0.0, 0.0, 0.9283836483955383, 0.0, 0.0, 0.0, 0.0, 1.2608397006988525, 0.0, 0.9225480556488037, 0.0, 0.0, 2.062866449356079, 0.0, 0.0, 0.0, 0.0, 0.0, 1.1019748449325562, 0.30963975191116333, 0.6703122854232788, 0.0, 0.0, 1.2935898303985596, 0.0, 1.2353581190109253, 0.0, 1.4259227514266968, 0.0, 0.0, 2.775442600250244, 0.9223375916481018, 0.0, 0.0, 0.0, 1.1787872314453125, 0.18423694372177124, 0.00979924201965332, 0.0, 0.0, 0.0, 1.082249641418457, 2.977008819580078, 0.0, 0.0, 0.0, 0.0, 0.0, 0.0, 0.6697463989257812, 0.0, 0.0, 0.0, 0.0, 0.0, 0.0, 0.0, 0.0, 0.0, 0.0, 0.3019096851348877, 0.24238669872283936, 0.0, 1.500516653060913, 0.0, 0.9391995668411255, 0.0, 1.9985854625701904, 0.5865321159362793, 1.0612629652023315, 0.0, 1.7981960773468018, 0.0, 0.0, 0.0, 0.0, 0.0, 0.0, 0.0, 0.0, 0.0, 0.04510486125946045, 0.0, 0.0, 0.0, 0.0, 0.0, 1.8736867904663086, 0.0, 0.0, 4.754775047302246, 2.6486942768096924, 0.0, 0.0, 0.0, 0.0, 5.249061584472656, 0.957687497138977, 1.726042628288269, 0.0, 0.0, 0.0, 0.0, 4.461304664611816, 0.0, 0.40847188234329224, 0.03423202037811279, 0.0, 0.0, 0.0, 0.0, 0.0, 0.0, 0.0, 0.0, 2.0877859592437744, 4.444409370422363, 0.0, 0.0, 0.0, 0.043949007987976074, 1.792079210281372, 1.8817400932312012, 0.20472794771194458, 3.8881306648254395, 0.0, 0.0, 0.0, 0.0, 1.2045297622680664, 1.5133395195007324, 0.0, 7.950764179229736, 3.0854039192199707, 1.6860047578811646, 0.0, 0.0, 0.0, 0.0, 0.0, 0.0, 0.0, 0.0, 0.0, 0.0, 0.0, 0.0, 0.0, 3.2395408153533936, 0.0, 0.0, 0.0, 0.0, 0.0, 2.043828010559082, 0.0, 0.0, 0.0, 0.0, 0.0, 0.0, 0.0, 0.0, 0.41319453716278076, 0.054024457931518555, 0.0, 0.0, 0.0, 2.101681709289551, 1.3194146156311035, 0.0, 0.0, 1.5231828689575195, 0.27170658111572266, 0.0, 0.0, 0.0, 0.0, 0.0, 0.0, 0.0, 3.3728420734405518, 1.1477595567703247, 3.901235342025757, 0.0, 0.6922635436058044, 0.0, 3.5383121967315674, 1.4155099391937256, 0.0, 0.2829163074493408, 0.0, 0.0, 0.0, 0.0, 0.0, 0.0, 0.0, 0.0, 0.0, 0.0, 0.0, 0.0, 0.0, 0.0, 0.043991684913635254, 0.0, 0.0, 0.0, 0.0, 0.0, 0.0, 0.3580114245414734, 0.0, 0.0, 0.0, 0.055269479751586914, 0.0, 0.0, 0.0, 0.0, 0.0, 0.0, 0.0, 2.7472028732299805, 0.0, 1.3131104707717896, 0.0, 0.0, 0.0, 0.0, 0.0, 0.0, 0.0, 0.0, 0.0, 0.0, 0.1287451982498169, 0.9895139932632446, 0.0, 0.0, 0.0, 0.0, 0.2955387830734253, 0.0, 0.0, 5.188852787017822, 0.0, 0.0, 0.00399470329284668, 0.0, 0.34210169315338135, 0.0, 0.08111000061035156, 4.383522033691406, 0.8501651287078857, 0.47511035203933716, 0.0, 0.0, 0.18299263715744019, 0.0, 0.0, 0.0, 0.0, 2.3306756019592285, 5.862829685211182, 9.62470531463623, 0.0, 0.0, 0.0, 1.6504793167114258, 0.0, 0.0, 2.481247901916504, 3.1267213821411133, 1.8789678812026978, 0.0, 0.3336835503578186, 0.0, 0.0, 0.0, 0.0, 0.0, 0.6121406555175781, 0.0, 0.0, 0.0, 0.0, 0.0, 1.7195008993148804, 0.0, 0.0, 0.0, 1.6433303356170654, 0.0, 0.0, 0.2643362283706665, 0.5869765281677246, 0.0, 1.7463266849517822, 0.0, 0.0, 1.9936624765396118, 0.0, 1.023965835571289, 0.0, 0.0, 0.6772319674491882, 0.0, 0.0, 1.3184536695480347, 0.0, 0.0, 0.0, 0.0, 0.0, 0.0, 0.0, 0.0, 2.319460153579712, 0.0, 0.0, 3.127295732498169, 0.0, 0.0, 0.0, 0.0, 0.015674829483032227, 0.0, 4.472404479980469, 0.0, 0.0, 0.0, 0.14205795526504517, 0.0, 0.0, 1.0043885707855225, 0.0, 1.2104730606079102, 1.2952661514282227, 4.703390121459961, 0.0, 0.0, 0.0, 0.9763773083686829, 0.0, 0.0, 0.13811486959457397, 3.0661911964416504, 0.0, 2.0714216232299805, 0.0, 0.0, 0.0, 0.0, 1.2184150218963623, 0.0, 0.0, 0.0, 0.6715970635414124, 1.942041039466858, 0.0, 0.9646607637405396, 0.0, 0.0, 0.0, 0.0, 1.799067735671997, 2.9904487133026123, 1.322441577911377, 3.3473050594329834, 0.0, 0.0, 0.0, 0.0, 0.0, 1.904101014137268, 0.0, 0.0, 0.0, 2.997968912124634, 0.9887535572052002, 0.0, 0.0, 0.0, 0.0, 1.1898248195648193, 1.833698034286499, 0.0, 2.8443703651428223, 0.6844344139099121, 0.0, 0.0, 0.0, 2.8134407997131348, 0.0, 0.0, 0.0, 0.0, 0.0, 4.662292003631592, 0.45721691846847534, 0.0, 0.0, 0.0, 0.18235903978347778, 0.0, 0.0, 0.0, 1.380218744277954, 0.3535569906234741, 0.0, 0.0, 0.0, 1.3266615867614746, 0.0, 0.0, 0.0, 0.0, 0.0, 0.3271631598472595, 0.0, 0.0, 1.972827434539795, 2.628072738647461, 3.0060434341430664, 0.0, 0.0, 0.0, 0.0, 0.0, 0.23167407512664795, 0.0, 0.0, 0.1264866590499878, 0.0, 0.3313853144645691, 0.0, 0.0, 1.368622064590454, 0.0, 0.0, 0.0, 0.0, 0.0, 0.4649706482887268, 0.8255560398101807, 0.0, 0.0, 0.35343170166015625, 0.0, 0.0, 0.4304700493812561, 0.0, 2.195988178253174, 0.0, 0.194688618183136, 0.0, 0.0, 0.0, 0.0, 0.0, 0.0, 0.0, 0.0, 0.0, 1.151018738746643, 0.0, 0.0, 0.0, 0.0, 2.8974099159240723, 0.0, 0.0, 1.2223570346832275, 0.0, 0.7121298313140869, 0.7093594074249268, 0.0, 0.0, 0.0, 0.0, 0.0, 1.066052794456482, 0.0, 0.1755836009979248, 0.0, 0.0, 0.0, 0.0, 0.0, 2.0833277702331543, 0.0, 0.0, 0.0, 0.2674035429954529, 5.476714134216309, 0.9305346012115479, 0.8366389870643616, 0.625259280204773, 0.0, 0.0, 0.0, 0.0, 0.0, 1.9467464685440063, 0.0, 0.561837375164032, 0.0, 1.5200800895690918, 0.0, 1.304559588432312, 0.0, 0.0, 0.5113500356674194, 0.0, 0.0, 1.6913714408874512, 1.4666473865509033, 0.0, 0.0, 3.031846046447754, 0.0, 0.0, 0.48250240087509155, 0.9437045454978943, 0.0, 0.0, 0.41394317150115967, 1.0286234617233276, 0.0, 2.7019944190979004, 0.0, 0.0, 0.0, 0.0, 0.0, 0.0, 0.0, 0.0, 0.0, 0.0, 0.9971608519554138, 0.0, 0.0, 0.0, 0.0, 0.0, 3.4083778858184814, 0.0, 1.208421230316162, 0.7526907920837402, 0.0, 0.0, 0.0, 0.0, 0.0, 0.0, 0.0, 0.0, 0.0, 0.0, 0.0, 5.139667510986328, 0.0, 0.0, 3.9878411293029785, 0.0, 0.0, 0.5484044551849365, 0.0, 0.8966552019119263, 0.0, 0.0, 1.0209805965423584, 0.0, 0.0, 0.0, 1.5667579174041748, 0.0, 0.2311866283416748, 0.0, 0.0, 0.0, 0.7680925130844116, 0.0, 0.0, 1.5897364616394043, 0.0, 0.0, 0.17570048570632935, 0.49445948004722595, 0.2012791633605957, 0.5560455322265625, 0.0, 0.0, 0.0, 0.0, 0.0, 0.0, 0.0, 0.0, 0.07138586044311523, 0.0, 0.159961998462677, 0.0, 2.913360834121704, 0.26026713848114014, 1.346125841140747, 0.0, 0.26294779777526855, 0.0, 0.3657374382019043, 0.0, 0.0, 0.0, 0.0, 0.0, 0.5811179876327515, 0.0, 0.0, 0.0, 0.0, 0.0, 0.44889014959335327, 0.0, 0.0, 0.0, 0.0, 0.1113176941871643, 0.0, 0.0, 1.0107293128967285, 0.0, 0.0, 0.0, 0.0, 0.0, 0.0, 0.0, 0.0, 0.0, 0.0, 0.0, 0.28681689500808716, 0.0, 0.0, 0.0, 0.0, 0.0, 0.0, 0.0, 0.9811953902244568, 0.004535198211669922, 0.0, 1.6503548622131348, 0.0, 0.6137154698371887, 0.0, 0.19315195083618164, 0.0, 0.0, 0.0, 0.0, 0.0, 0.0, 0.0829625129699707, 0.0, 0.0, 0.0, 0.0, 1.3725565671920776, 0.0, 0.0, 0.0, 0.0, 1.7518150806427002, 1.6169638633728027, 0.0, 1.6303949356079102, 0.0, 0.0, 0.0, 0.0, 0.0, 0.0, 1.3449652194976807, 0.02318716049194336, 0.0, 0.0, 2.2140443325042725, 0.0, 0.0, 0.0, 0.0, 1.0630241632461548, 0.0, 0.0, 0.0, 0.0, 0.0, 1.0473427772521973, 0.0, 0.8003243207931519, 0.5558751821517944, 0.0, 0.0, 2.1681580543518066, 0.0, 1.268856406211853, 0.0, 0.0, 0.0, 0.0, 0.663058876991272, 0.0, 2.81014347076416, 0.0, 0.6521643400192261, 0.0, 0.0, 1.8991259336471558, 0.7243571281433105, 0.0, 0.0, 0.0, 0.0, 0.0, 0.0, 0.0, 0.0, 0.0, 0.0, 0.5028171539306641, 0.0, 3.088663101196289, 0.0, 0.0, 0.0, 0.0, 0.0, 0.0, 1.968949794769287, 1.030954360961914, 1.4255595207214355, 0.8572463989257812, 0.0, 0.0, 2.1397979259490967, 0.0, 5.942671298980713, 0.0, 0.0, 0.0, 0.0, 0.0, 1.974399447441101, 0.0, 0.0, 0.0, 0.0, 0.0, 0.1413590908050537, 0.0, 0.0, 0.0, 0.0, 0.6430903673171997, 0.0, 0.0, 0.0, 0.0, 0.0, 2.5979936122894287, 0.0, 0.0, 0.0, 0.3792811632156372, 2.5337107181549072, 0.0, 0.0, 0.0, 0.9012693762779236, 0.0, 0.0, 0.0, 0.0, 0.0, 0.0, 0.0, 0.0, 0.0, 0.0, 0.0, 0.0, 6.947554588317871, 0.0, 1.8329627513885498, 3.3623085021972656, 0.0, 0.8089118003845215, 0.0, 0.0, 0.0, 0.0, 0.0, 0.0, 0.0, 0.0, 0.0, 1.4829845428466797, 0.0, 0.0, 0.0, 0.0, 1.487797498703003, 0.0, 3.3180761337280273, 2.8251383304595947, 2.081665515899658, 0.0, 0.0, 0.0, 0.0, 0.7524878978729248, 0.0, 3.130971908569336, 0.0, 1.6159331798553467, 0.5266395807266235, 0.0, 0.0, 0.0, 0.0, 0.0, 0.0, 0.0, 1.9542322158813477, 0.0, 0.0, 0.9960566759109497, 0.0, 2.1070332527160645, 0.0, 1.3193459510803223, 0.0, 0.0, 0.0, 0.0, 3.5827889442443848, 0.0, 0.0, 0.0, 0.0, 1.6996220350265503, 0.0, 2.268894672393799, 0.0, 4.7205915451049805, 0.0, 0.0, 0.0, 0.0, 0.0, 0.0, 1.1310455799102783, 0.0, 0.0857318639755249, 0.0, 0.0, 0.0, 0.7765843868255615, 0.0, 0.0, 0.0, 0.0, 0.0, 1.1040371656417847, 0.0, 0.0, 0.0, 2.0100769996643066, 0.0, 0.0, 0.2450149655342102, 1.3685264587402344, 0.0, 0.0, 0.0, 0.0, 0.0, 0.0, 0.0, 0.7155935764312744, 0.0, 0.0, 1.0974838733673096, 0.0, 1.4858086109161377, 0.0, 0.0, 0.4655376076698303, 0.343622088432312, 0.0, 0.0, 0.0, 0.0, 0.4752126932144165, 0.08564454317092896, 0.0, 0.0, 0.0, 0.5869717597961426, 0.0, 0.0, 1.2160084247589111, 0.0, 0.01350027322769165, 0.0, 0.2580341100692749, 0.0, 0.790205180644989, 1.6202893257141113, 0.0, 0.5438809394836426, 0.0, 0.09376293420791626, 0.0, 1.8833447694778442, 0.0, 0.0, 0.0, 1.4364032745361328, 0.2558305263519287, 1.3879016637802124, 0.0, 0.0, 0.0, 0.0, 0.0, 0.0, 0.0, 0.0, 0.0, 0.0, 0.5279998779296875, 1.6396257877349854, 0.0, 0.0, 2.1105871200561523, 0.07103234529495239, 2.406175136566162, 0.0, 0.0, 0.0, 0.0, 0.0, 3.404802083969116, 0.0, 4.533618927001953, 0.0, 3.477252721786499, 1.2666159868240356, 0.0, 0.0, 1.5834248065948486, 0.0, 0.11953425407409668, 0.2581133246421814, 0.0, 0.5986411571502686, 1.4935437440872192, 0.0, 0.0, 0.0, 0.0, 0.07050555944442749, 0.0, 0.0, 0.0, 0.0, 0.22904253005981445, 0.0, 0.15911459922790527, 0.0, 0.957295835018158, 0.0, 3.8822238445281982, 0.0, 0.0, 1.6110066175460815, 3.6953678131103516, 1.9191875457763672, 0.0, 0.0, 0.0, 0.899724006652832, 0.0, 0.48396122455596924, 0.0, 0.0, 0.0, 0.0, 0.0, 0.0, 0.0, 0.0, 0.0, 0.0, 0.0, 0.0, 0.2828211188316345, 0.0, 0.0, 0.0, 0.0, 0.0, 0.0, 0.0, 0.0, 0.0, 0.0, 0.0, 0.0, 0.0, 0.4184417128562927, 0.0, 4.021155834197998, 0.20569467544555664, 3.1141345500946045, 0.0, 0.0, 0.0, 0.0, 0.0, 0.0, 1.7242839336395264, 0.0, 0.0, 0.0, 0.0, 2.125749111175537, 0.0, 0.2968405485153198, 0.0, 0.2973199486732483, 0.0, 2.025753974914551, 0.18977391719818115, 1.0007277727127075, 0.23343515396118164, 0.0, 1.6139354705810547, 0.0, 0.0, 0.0, 0.0, 0.0, 0.0, 0.0, 0.7964100241661072, 1.3899197578430176, 0.0, 0.0, 0.0, 0.8454739451408386, 0.08533817529678345, 0.0, 1.1076970100402832, 0.0, 0.0, 0.0, 0.6275081038475037, 0.0, 0.3426227569580078, 0.0, 0.0, 0.0, 0.0, 0.0, 0.0, 0.0, 0.0, 0.0, 0.0, 0.0, 0.0, 0.0, 0.0, 0.0, 0.0, 1.2687283754348755, 0.0, 0.0, 0.0, 0.0, 0.0, 0.0, 0.0, 0.0, 0.0, 0.0, 0.0, 0.0, 0.0, 0.0, 0.0, 0.0, 0.0, 0.42288756370544434, 0.0, 0.0, 0.0, 0.017367005348205566, 0.28020334243774414, 0.0, 0.0, 0.0, 0.0, 0.0, 0.5077207088470459, 0.0, 0.8653504848480225, 0.8800541758537292, 0.0, 0.0, 0.0, 0.0, 1.364302635192871, 0.0, 2.0121774673461914, 0.0, 2.582282543182373, 0.0, 1.3269156217575073, 0.0, 0.0, 0.0, 0.0, 0.0, 0.0, 0.0, 0.41737693548202515, 0.0, 0.0, 0.47112172842025757, 0.0, 0.0, 0.5849058032035828, 1.2154603004455566, 2.5236330032348633, 0.0, 0.0, 0.0, 0.0, 0.0, 0.0, 0.17238730192184448, 0.0, 0.0, 0.0, 0.0, 0.0, 0.0, 0.0, 0.14787888526916504, 0.0, 0.47099238634109497, 0.0, 0.0, 0.07926797866821289, 0.0, 0.0, 0.0, 0.0, 0.0, 0.0, 2.05519437789917, 0.0, 0.0, 0.0, 0.4175375699996948, 0.0, 0.0, 0.7201901078224182, 0.0, 0.0, 0.0, 0.0, 0.0, 0.0, 0.0, 0.18331658840179443, 0.0, 0.0, 0.0, 0.0, 0.0, 1.5181078910827637, 0.7756556272506714, 0.0, 0.0, 0.0, 0.0, 3.77712345123291, 0.0, 0.0, 5.978522300720215, 0.0, 0.0, 0.0, 0.0, 0.0, 0.0, 0.0, 0.24054497480392456, 0.0, 0.0, 0.0, 0.0, 0.0, 0.0, 3.1721906661987305, 1.7561767101287842, 0.0, 0.0, 0.0, 4.111908435821533, 0.0, 1.4475758075714111, 0.0, 0.0, 0.593403697013855, 0.0, 0.0, 0.0, 0.0, 0.9277697205543518, 0.0, 0.0, 0.0, 0.0, 2.0791115760803223, 0.0, 0.0, 0.0, 0.0, 0.0, 0.0, 2.4218225479125977, 0.0, 1.8320033550262451, 0.0, 1.5998176336288452, 0.0, 0.0, 0.0, 2.433816432952881, 0.0, 0.22155261039733887, 2.608564853668213, 0.0, 0.0, 0.9453914761543274, 0.0, 3.149583339691162, 0.0, 0.0, 0.0, 0.0, 0.0, 0.0, 0.0, 0.0, 0.0, 1.4870214462280273, 0.0, 0.0, 1.8146129846572876, 0.0, 0.0, 0.7780321836471558, 0.0, 1.6078004837036133, 2.3154191970825195, 0.0, 0.9701461791992188, 0.0, 0.0, 1.3622230291366577, 0.0, 0.0, 0.8762386441230774, 0.0, 0.0, 0.0, 0.0, 1.6756508350372314, 0.0, 0.0, 0.0, 0.0, 0.0, 1.7738873958587646, 0.0, 0.0, 0.0, 0.0, 0.1398916244506836, 0.0, 0.0, 0.48102349042892456, 0.0, 0.0, 0.0, 1.7652517557144165, 1.6992928981781006, 1.2951796054840088, 0.13230574131011963, 0.0, 0.0, 0.0, 0.0, 2.1721556186676025, 2.1230170726776123, 1.2645752429962158, 0.0, 0.0, 0.0, 0.0, 0.0, 0.0, 0.0, 0.260362446308136, 0.0, 0.0, 0.0, 0.7126854658126831, 1.1399786472320557, 1.4674254655838013, 0.10659134387969971, 0.0, 0.0, 0.0, 0.0, 0.0, 0.0, 1.039184808731079, 0.0, 0.14874660968780518, 0.0, 0.0, 0.1361863613128662, 0.0, 0.0, 0.0, 0.0, 0.0, 0.0, 0.0, 0.0, 1.4419946670532227, 5.227823257446289, 0.0, 0.0, 0.5241273045539856, 0.0, 0.0, 0.2547306418418884, 0.0, 0.0, 0.0, 0.0, 0.0, 2.612351655960083, 0.0, 0.0, 0.0, 1.286051869392395, 0.0, 0.0, 0.6065595746040344, 0.0, 0.0, 2.8224945068359375, 0.03481924533843994, 0.0, 0.0, 0.0, 0.0, 0.0, 0.0, 0.0, 0.0, 0.0, 0.0, 0.0, 0.0, 0.40782421827316284, 0.0, 1.2700845003128052, 0.0, 0.0, 0.49437227845191956, 1.1287811994552612, 0.0, 0.0, 0.563173770904541, 3.0638768672943115, 0.0, 0.0, 0.20263850688934326, 0.0, 0.0, 0.0, 1.7901763916015625, 0.0, 0.0, 0.0, 0.0, 0.0, 0.0, 2.121706485748291, 1.5327084064483643, 0.0, 0.0, 2.7700438499450684, 0.0, 0.0, 0.0, 1.5229371786117554, 0.0, 0.0, 0.8037498593330383, 0.5788686275482178, 0.0, 1.846968412399292, 0.0, 0.0, 1.253042459487915, 0.0, 0.0, 0.0, 0.18663257360458374, 0.0, 0.0, 0.24691647291183472, 0.0, 1.4184762239456177, 0.0, 0.0, 0.0, 0.0, 0.6315422058105469, 1.3415632247924805, 0.9228643774986267, 0.0, 0.0, 0.0, 0.0, 0.0, 0.0, 0.0, 0.0, 0.0, 0.0, 0.0, 0.30052417516708374, 0.1288738250732422, 0.0, 0.0, 0.0, 0.4010546803474426, 0.0, 2.486856460571289, 1.3231745958328247, 0.0, 0.0, 0.0, 0.0, 0.17422938346862793, 0.0, 0.0, 0.0, 0.0, 0.0, 0.0, 0.0, 0.0, 0.0, 0.0, 0.7112053036689758, 0.0, 0.057873308658599854, 0.0, 0.0, 0.0, 0.0, 0.4345126748085022, 1.6720309257507324, 0.22803062200546265, 0.0, 0.0, 0.0, 2.6475939750671387, 0.0, 0.0, 0.0, 1.41671621799469, 0.5523994565010071, 0.0, 0.06025618314743042, 2.8579750061035156, 0.23348695039749146, 2.565664052963257, 0.09291982650756836, 0.03632831573486328, 0.0, 1.3260796070098877, 1.35028076171875, 0.0, 0.0, 0.20549070835113525, 0.0, 0.0, 0.0, 0.0, 0.0, 0.0, 0.0, 0.0, 0.0, 0.0, 0.0, 0.0, 0.0, 1.5113779306411743, 0.0, 0.0, 0.0, 0.0, 1.2675838470458984, 1.9229462146759033, 0.0, 0.0, 0.0, 0.0, 0.0, 0.0, 0.0, 0.0, 0.0, 0.0, 1.1435081958770752, 0.0, 0.0, 0.0, 0.7228870987892151, 0.0, 0.0, 0.0, 0.0, 0.0, 0.0, 0.0, 0.0, 1.1199429035186768, 0.0, 0.0, 0.0, 0.0, 0.6783549785614014, 0.0, 0.0, 0.0, 0.0, 0.0, 0.3365910053253174, 0.0, 0.0, 0.0, 1.5446189641952515, 1.280680775642395, 1.976118803024292, 1.4058244228363037, 0.0, 0.0, 0.0, 0.0, 0.0, 0.0, 0.0, 0.0946357250213623, 0.0, 0.0, 1.077139139175415, 0.0, 0.0, 0.0, 0.0, 1.5753059387207031, 0.0, 0.0, 6.102105617523193, 0.0, 0.0, 0.0, 0.0, 0.0, 0.19411885738372803, 0.0, 0.0, 2.3095974922180176, 0.0, 0.0, 0.0, 0.0, 0.3980230689048767, 0.6253703832626343, 0.0, 0.0, 2.6968259811401367, 0.0, 0.0, 0.0, 0.0, 0.0, 0.9186117053031921, 0.0, 0.15200823545455933, 0.0, 0.0, 0.0, 0.0, 0.0, 0.0, 0.0, 0.2591901421546936, 2.21882963180542, 0.0, 0.0, 0.0, 3.3951971530914307, 0.0, 0.0, 0.0, 1.22208571434021, 0.0, 0.0, 0.0, 0.0, 0.0, 0.0, 0.0, 0.7988484501838684, 0.0, 0.666001558303833, 0.0, 0.0, 0.0, 0.0, 1.6143752336502075, 0.0, 0.18103665113449097, 0.0, 0.0, 0.0, 0.0, 0.0, 0.0, 0.06438243389129639, 0.6018816232681274, 0.0, 1.9413869380950928, 0.0, 1.2431484460830688, 0.0, 0.0, 3.1628401279449463, 0.0, 0.0, 0.0, 0.0, 0.3150153160095215, 0.0, 0.0, 0.0, 0.0, 0.0, 0.0, 0.0, 0.07627594470977783, 0.0, 1.357103705406189, 0.5505997538566589, 0.2878931760787964, 0.0, 3.241403102874756, 0.0, 1.7567877769470215, 0.0, 0.0, 0.0, 0.0, 10.270771980285645, 0.0, 0.7735570073127747, 1.6079152822494507, 0.0, 0.0, 0.0, 3.896240234375, 0.0, 2.059281349182129, 0.0, 0.0, 0.0, 0.0, 0.22800534963607788, 1.404883861541748, 0.0, 0.0, 0.0, 0.0, 0.0, 0.0, 0.0, 0.0, 0.0, 0.2612202763557434, 2.2981762886047363, 0.0, 0.0, 1.0527833700180054, 0.0, 0.0, 0.0, 0.0, 0.0, 0.0, 0.0, 0.0, 0.0, 3.1561524868011475, 1.4522926807403564, 0.0, 3.560612678527832, 0.009369432926177979, 4.048116207122803, 0.0, 0.0, 0.6537200212478638, 0.0, 1.0279971361160278, 1.3486568927764893, 0.0, 2.1524477005004883, 0.0, 0.0, 1.9535808563232422, 0.0, 0.0, 2.145951747894287, 0.0, 1.060056447982788, 2.801071882247925, 0.0, 0.0, 0.18849563598632812, 0.0, 0.0, 0.0, 0.0, 0.0, 2.015796661376953, 1.9514966011047363, 0.0, 1.6434416770935059, 0.08613336086273193, 0.0, 0.0, 0.0, 2.026597023010254, 0.0, 2.664334774017334, 0.0, 0.19121962785720825, 1.7985303401947021, 0.0, 0.0, 0.0, 0.5290284156799316, 1.4283912181854248, 2.0429530143737793, 0.0, 0.0, 0.062233805656433105, 2.4869377613067627, 0.0, 1.3547334671020508, 1.398075819015503, 0.0, 0.0, 0.0, 0.0, 0.8734158873558044, 0.0, 0.0, 0.0, 0.0, 0.0, 0.0, 0.0, 0.0, 1.938359260559082, 0.0, 0.0, 1.3448781967163086, 3.0556845664978027, 0.0, 0.0, 0.0, 0.7195714116096497, 0.0, 1.025685429573059, 0.0, 0.0, 0.0, 0.0, 0.0, 0.0, 0.0, 0.0, 0.0, 1.291100025177002, 0.0, 1.1103192567825317, 0.0, 0.2514886260032654, 2.031667709350586, 0.0, 3.8797249794006348, 0.0, 0.0, 0.0, 0.0, 0.0, 0.0, 0.5060173869132996, 0.0, 0.0, 0.0, 0.0, 0.0, 0.0, 0.0, 0.0, 0.0, 1.672960877418518, 0.0, 0.0, 0.0, 0.0, 0.0, 0.0, 0.0, 0.0, 0.0, 0.0, 0.0, 0.0, 0.0, 0.0, 0.0, 0.0, 2.319490909576416, 0.0, 0.0, 0.04489535093307495, 0.9715441465377808, 0.0, 0.36655664443969727, 0.0, 0.0, 1.6966722011566162, 0.0, 0.0, 0.0, 0.0, 0.0, 0.0]),\n",
              " 'id': 384,\n",
              " 'image': Height: 32px\n",
              " Width: 32px\n",
              " Channels: 3,\n",
              " 'image_array': array('d', [46.0, 45.0, 50.0, 47.0, 45.0, 51.0, 45.0, 44.0, 49.0, 41.0, 40.0, 45.0, 35.0, 34.0, 39.0, 28.0, 27.0, 32.0, 22.0, 21.0, 25.0, 16.0, 15.0, 18.0, 12.0, 12.0, 14.0, 12.0, 11.0, 14.0, 10.0, 10.0, 13.0, 8.0, 8.0, 10.0, 5.0, 5.0, 7.0, 3.0, 2.0, 4.0, 2.0, 2.0, 3.0, 2.0, 2.0, 2.0, 3.0, 3.0, 3.0, 4.0, 4.0, 4.0, 3.0, 3.0, 3.0, 3.0, 3.0, 3.0, 4.0, 4.0, 4.0, 5.0, 5.0, 6.0, 4.0, 3.0, 7.0, 4.0, 3.0, 8.0, 4.0, 3.0, 8.0, 4.0, 3.0, 8.0, 4.0, 3.0, 8.0, 4.0, 3.0, 8.0, 4.0, 3.0, 8.0, 4.0, 3.0, 9.0, 4.0, 3.0, 11.0, 4.0, 3.0, 11.0, 40.0, 39.0, 44.0, 43.0, 42.0, 47.0, 43.0, 42.0, 47.0, 39.0, 38.0, 43.0, 35.0, 34.0, 39.0, 30.0, 29.0, 34.0, 34.0, 32.0, 34.0, 52.0, 49.0, 47.0, 54.0, 52.0, 48.0, 31.0, 29.0, 27.0, 11.0, 11.0, 9.0, 8.0, 8.0, 7.0, 5.0, 6.0, 5.0, 3.0, 4.0, 4.0, 2.0, 3.0, 3.0, 2.0, 2.0, 2.0, 2.0, 2.0, 2.0, 2.0, 2.0, 2.0, 3.0, 3.0, 3.0, 4.0, 4.0, 4.0, 5.0, 5.0, 5.0, 6.0, 6.0, 6.0, 5.0, 5.0, 7.0, 5.0, 4.0, 7.0, 5.0, 5.0, 7.0, 5.0, 5.0, 7.0, 4.0, 4.0, 6.0, 4.0, 4.0, 6.0, 4.0, 4.0, 6.0, 4.0, 3.0, 9.0, 4.0, 3.0, 12.0, 5.0, 3.0, 12.0, 38.0, 37.0, 42.0, 41.0, 40.0, 45.0, 42.0, 41.0, 46.0, 40.0, 39.0, 44.0, 36.0, 35.0, 40.0, 37.0, 36.0, 40.0, 62.0, 57.0, 58.0, 101.0, 91.0, 84.0, 119.0, 108.0, 101.0, 108.0, 100.0, 94.0, 59.0, 52.0, 49.0, 18.0, 14.0, 12.0, 9.0, 6.0, 6.0, 8.0, 6.0, 6.0, 5.0, 5.0, 5.0, 3.0, 3.0, 3.0, 2.0, 2.0, 2.0, 2.0, 2.0, 2.0, 4.0, 4.0, 4.0, 5.0, 5.0, 5.0, 7.0, 7.0, 6.0, 7.0, 7.0, 7.0, 6.0, 6.0, 6.0, 6.0, 6.0, 7.0, 8.0, 8.0, 8.0, 6.0, 6.0, 6.0, 4.0, 4.0, 4.0, 3.0, 3.0, 4.0, 3.0, 4.0, 4.0, 4.0, 4.0, 6.0, 3.0, 3.0, 7.0, 2.0, 2.0, 6.0, 38.0, 37.0, 42.0, 41.0, 40.0, 46.0, 43.0, 42.0, 47.0, 41.0, 40.0, 46.0, 38.0, 37.0, 42.0, 41.0, 40.0, 44.0, 72.0, 65.0, 64.0, 107.0, 91.0, 85.0, 123.0, 105.0, 97.0, 139.0, 123.0, 116.0, 135.0, 122.0, 117.0, 77.0, 66.0, 64.0, 21.0, 14.0, 13.0, 9.0, 5.0, 5.0, 7.0, 5.0, 7.0, 5.0, 5.0, 6.0, 4.0, 4.0, 5.0, 4.0, 5.0, 6.0, 5.0, 6.0, 7.0, 6.0, 6.0, 7.0, 8.0, 8.0, 9.0, 8.0, 8.0, 9.0, 8.0, 7.0, 7.0, 9.0, 9.0, 8.0, 9.0, 9.0, 9.0, 6.0, 7.0, 6.0, 5.0, 5.0, 4.0, 6.0, 5.0, 5.0, 7.0, 5.0, 4.0, 5.0, 3.0, 2.0, 7.0, 5.0, 2.0, 31.0, 29.0, 26.0, 36.0, 37.0, 42.0, 39.0, 39.0, 46.0, 40.0, 39.0, 48.0, 41.0, 40.0, 47.0, 38.0, 36.0, 41.0, 41.0, 39.0, 40.0, 72.0, 65.0, 63.0, 109.0, 95.0, 90.0, 129.0, 113.0, 105.0, 143.0, 126.0, 115.0, 154.0, 137.0, 125.0, 143.0, 130.0, 119.0, 84.0, 75.0, 66.0, 26.0, 21.0, 15.0, 12.0, 8.0, 6.0, 9.0, 6.0, 6.0, 2.0, 1.0, 1.0, 0.0, 0.0, 0.0, 0.0, 0.0, 0.0, 2.0, 3.0, 3.0, 7.0, 5.0, 6.0, 7.0, 4.0, 6.0, 8.0, 5.0, 7.0, 6.0, 8.0, 7.0, 3.0, 9.0, 6.0, 2.0, 9.0, 5.0, 3.0, 8.0, 4.0, 5.0, 4.0, 2.0, 13.0, 5.0, 5.0, 38.0, 26.0, 21.0, 87.0, 75.0, 64.0, 129.0, 119.0, 108.0, 34.0, 36.0, 41.0, 37.0, 37.0, 45.0, 39.0, 37.0, 47.0, 39.0, 38.0, 45.0, 37.0, 35.0, 40.0, 38.0, 35.0, 37.0, 65.0, 57.0, 54.0, 102.0, 88.0, 81.0, 124.0, 107.0, 96.0, 145.0, 126.0, 111.0, 162.0, 141.0, 123.0, 164.0, 143.0, 124.0, 154.0, 133.0, 114.0, 122.0, 102.0, 84.0, 106.0, 87.0, 70.0, 97.0, 80.0, 64.0, 77.0, 65.0, 50.0, 68.0, 60.0, 46.0, 61.0, 55.0, 42.0, 47.0, 41.0, 29.0, 46.0, 39.0, 29.0, 54.0, 44.0, 36.0, 52.0, 44.0, 37.0, 38.0, 34.0, 26.0, 23.0, 23.0, 14.0, 13.0, 15.0, 6.0, 16.0, 15.0, 8.0, 35.0, 29.0, 23.0, 73.0, 61.0, 56.0, 121.0, 106.0, 95.0, 160.0, 146.0, 133.0, 167.0, 157.0, 147.0, 35.0, 37.0, 41.0, 37.0, 37.0, 45.0, 39.0, 37.0, 47.0, 39.0, 37.0, 45.0, 38.0, 35.0, 40.0, 38.0, 35.0, 36.0, 62.0, 53.0, 48.0, 103.0, 86.0, 73.0, 132.0, 112.0, 95.0, 156.0, 134.0, 116.0, 173.0, 148.0, 128.0, 187.0, 159.0, 136.0, 194.0, 162.0, 137.0, 195.0, 161.0, 135.0, 192.0, 160.0, 132.0, 191.0, 163.0, 133.0, 197.0, 173.0, 144.0, 205.0, 186.0, 157.0, 186.0, 169.0, 141.0, 165.0, 147.0, 122.0, 170.0, 150.0, 126.0, 173.0, 150.0, 126.0, 169.0, 143.0, 116.0, 152.0, 127.0, 99.0, 128.0, 106.0, 78.0, 108.0, 86.0, 60.0, 108.0, 85.0, 61.0, 130.0, 105.0, 83.0, 155.0, 129.0, 108.0, 169.0, 148.0, 133.0, 178.0, 164.0, 153.0, 176.0, 167.0, 161.0, 35.0, 37.0, 41.0, 37.0, 36.0, 44.0, 39.0, 37.0, 47.0, 40.0, 39.0, 46.0, 41.0, 39.0, 44.0, 47.0, 44.0, 46.0, 83.0, 73.0, 65.0, 129.0, 109.0, 89.0, 153.0, 131.0, 108.0, 163.0, 141.0, 121.0, 160.0, 135.0, 116.0, 158.0, 130.0, 109.0, 183.0, 150.0, 127.0, 196.0, 160.0, 135.0, 204.0, 171.0, 145.0, 194.0, 166.0, 139.0, 205.0, 179.0, 150.0, 211.0, 187.0, 156.0, 187.0, 162.0, 130.0, 198.0, 170.0, 137.0, 199.0, 166.0, 134.0, 194.0, 158.0, 124.0, 199.0, 163.0, 125.0, 199.0, 164.0, 125.0, 196.0, 162.0, 124.0, 191.0, 157.0, 122.0, 180.0, 147.0, 114.0, 171.0, 140.0, 109.0, 175.0, 146.0, 117.0, 180.0, 160.0, 143.0, 187.0, 175.0, 167.0, 180.0, 172.0, 168.0, 37.0, 38.0, 43.0, 38.0, 39.0, 46.0, 39.0, 40.0, 48.0, 42.0, 40.0, 46.0, 50.0, 44.0, 44.0, 76.0, 66.0, 60.0, 108.0, 92.0, 78.0, 109.0, 85.0, 65.0, 96.0, 71.0, 52.0, 109.0, 85.0, 69.0, 141.0, 120.0, 104.0, 155.0, 134.0, 117.0, 180.0, 155.0, 136.0, 200.0, 169.0, 149.0, 210.0, 184.0, 162.0, 218.0, 196.0, 175.0, 229.0, 206.0, 185.0, 207.0, 183.0, 161.0, 167.0, 140.0, 117.0, 161.0, 130.0, 104.0, 166.0, 132.0, 104.0, 182.0, 147.0, 116.0, 196.0, 163.0, 129.0, 199.0, 167.0, 131.0, 198.0, 165.0, 131.0, 198.0, 165.0, 133.0, 197.0, 167.0, 137.0, 196.0, 169.0, 141.0, 193.0, 170.0, 145.0, 183.0, 169.0, 154.0, 182.0, 174.0, 166.0, 179.0, 172.0, 166.0, 38.0, 39.0, 44.0, 37.0, 39.0, 46.0, 37.0, 38.0, 43.0, 46.0, 41.0, 40.0, 74.0, 59.0, 48.0, 124.0, 100.0, 79.0, 139.0, 111.0, 86.0, 96.0, 66.0, 44.0, 73.0, 37.0, 20.0, 106.0, 67.0, 53.0, 149.0, 114.0, 100.0, 173.0, 147.0, 128.0, 191.0, 166.0, 145.0, 197.0, 168.0, 146.0, 208.0, 182.0, 157.0, 210.0, 187.0, 163.0, 191.0, 166.0, 146.0, 134.0, 107.0, 90.0, 82.0, 54.0, 38.0, 80.0, 52.0, 35.0, 105.0, 76.0, 55.0, 128.0, 97.0, 70.0, 174.0, 141.0, 110.0, 195.0, 160.0, 126.0, 193.0, 155.0, 120.0, 193.0, 155.0, 120.0, 194.0, 159.0, 126.0, 199.0, 168.0, 138.0, 198.0, 171.0, 145.0, 169.0, 149.0, 131.0, 154.0, 137.0, 124.0, 163.0, 145.0, 134.0, 42.0, 42.0, 49.0, 43.0, 43.0, 47.0, 48.0, 44.0, 42.0, 62.0, 51.0, 42.0, 85.0, 63.0, 46.0, 113.0, 82.0, 58.0, 137.0, 108.0, 80.0, 142.0, 114.0, 88.0, 122.0, 80.0, 63.0, 131.0, 74.0, 64.0, 138.0, 83.0, 73.0, 142.0, 99.0, 84.0, 169.0, 137.0, 116.0, 187.0, 160.0, 135.0, 190.0, 161.0, 131.0, 164.0, 133.0, 101.0, 160.0, 128.0, 97.0, 147.0, 114.0, 83.0, 144.0, 110.0, 78.0, 155.0, 120.0, 85.0, 176.0, 141.0, 103.0, 169.0, 134.0, 95.0, 184.0, 148.0, 111.0, 199.0, 161.0, 125.0, 195.0, 157.0, 120.0, 191.0, 153.0, 116.0, 196.0, 159.0, 123.0, 195.0, 160.0, 125.0, 190.0, 156.0, 124.0, 169.0, 135.0, 112.0, 140.0, 106.0, 89.0, 148.0, 113.0, 97.0, 42.0, 42.0, 50.0, 50.0, 48.0, 48.0, 71.0, 64.0, 56.0, 95.0, 81.0, 67.0, 98.0, 77.0, 58.0, 117.0, 90.0, 70.0, 140.0, 118.0, 100.0, 167.0, 153.0, 139.0, 182.0, 154.0, 150.0, 166.0, 123.0, 127.0, 188.0, 146.0, 152.0, 215.0, 186.0, 186.0, 220.0, 203.0, 196.0, 211.0, 197.0, 185.0, 202.0, 178.0, 155.0, 193.0, 161.0, 131.0, 184.0, 151.0, 119.0, 177.0, 144.0, 107.0, 170.0, 137.0, 97.0, 174.0, 140.0, 98.0, 183.0, 148.0, 106.0, 186.0, 151.0, 111.0, 187.0, 153.0, 116.0, 197.0, 163.0, 127.0, 205.0, 172.0, 137.0, 196.0, 163.0, 128.0, 192.0, 158.0, 122.0, 200.0, 165.0, 128.0, 198.0, 162.0, 124.0, 192.0, 159.0, 127.0, 191.0, 159.0, 131.0, 189.0, 158.0, 129.0, 53.0, 50.0, 59.0, 65.0, 61.0, 59.0, 90.0, 83.0, 72.0, 106.0, 96.0, 81.0, 119.0, 105.0, 92.0, 149.0, 133.0, 123.0, 158.0, 144.0, 138.0, 162.0, 152.0, 149.0, 169.0, 151.0, 154.0, 152.0, 128.0, 136.0, 171.0, 152.0, 160.0, 203.0, 194.0, 197.0, 216.0, 210.0, 209.0, 205.0, 195.0, 192.0, 201.0, 181.0, 171.0, 209.0, 184.0, 167.0, 213.0, 187.0, 164.0, 203.0, 177.0, 147.0, 191.0, 164.0, 129.0, 182.0, 154.0, 118.0, 185.0, 156.0, 121.0, 191.0, 162.0, 128.0, 198.0, 169.0, 135.0, 215.0, 188.0, 156.0, 234.0, 208.0, 177.0, 226.0, 201.0, 170.0, 196.0, 169.0, 136.0, 194.0, 162.0, 126.0, 203.0, 168.0, 130.0, 198.0, 164.0, 128.0, 197.0, 166.0, 132.0, 204.0, 175.0, 142.0, 58.0, 57.0, 63.0, 78.0, 72.0, 69.0, 104.0, 93.0, 83.0, 117.0, 104.0, 90.0, 130.0, 116.0, 104.0, 141.0, 127.0, 120.0, 140.0, 125.0, 120.0, 128.0, 110.0, 107.0, 117.0, 96.0, 96.0, 122.0, 102.0, 103.0, 139.0, 122.0, 123.0, 156.0, 143.0, 143.0, 182.0, 168.0, 167.0, 192.0, 174.0, 173.0, 191.0, 172.0, 164.0, 196.0, 177.0, 163.0, 218.0, 200.0, 183.0, 225.0, 208.0, 186.0, 218.0, 200.0, 177.0, 204.0, 186.0, 161.0, 188.0, 167.0, 140.0, 179.0, 155.0, 127.0, 181.0, 155.0, 124.0, 183.0, 157.0, 127.0, 197.0, 173.0, 144.0, 225.0, 201.0, 172.0, 222.0, 197.0, 168.0, 190.0, 163.0, 132.0, 180.0, 151.0, 119.0, 188.0, 156.0, 120.0, 196.0, 161.0, 125.0, 198.0, 163.0, 129.0, 72.0, 73.0, 76.0, 86.0, 78.0, 74.0, 99.0, 83.0, 73.0, 107.0, 86.0, 73.0, 112.0, 91.0, 78.0, 111.0, 93.0, 80.0, 106.0, 88.0, 81.0, 113.0, 95.0, 92.0, 143.0, 125.0, 124.0, 172.0, 155.0, 154.0, 180.0, 164.0, 164.0, 171.0, 154.0, 155.0, 156.0, 141.0, 142.0, 157.0, 142.0, 143.0, 167.0, 153.0, 144.0, 180.0, 168.0, 154.0, 194.0, 183.0, 170.0, 216.0, 207.0, 194.0, 231.0, 223.0, 207.0, 232.0, 220.0, 202.0, 210.0, 196.0, 174.0, 190.0, 171.0, 146.0, 186.0, 163.0, 135.0, 181.0, 156.0, 127.0, 170.0, 145.0, 115.0, 187.0, 161.0, 131.0, 218.0, 190.0, 161.0, 217.0, 189.0, 159.0, 197.0, 168.0, 138.0, 188.0, 156.0, 121.0, 189.0, 155.0, 117.0, 186.0, 152.0, 115.0, 55.0, 54.0, 55.0, 71.0, 62.0, 57.0, 87.0, 69.0, 58.0, 96.0, 75.0, 60.0, 96.0, 74.0, 59.0, 94.0, 74.0, 61.0, 93.0, 76.0, 67.0, 117.0, 103.0, 99.0, 154.0, 141.0, 139.0, 176.0, 165.0, 163.0, 200.0, 190.0, 190.0, 212.0, 204.0, 206.0, 196.0, 190.0, 193.0, 167.0, 162.0, 165.0, 150.0, 145.0, 142.0, 160.0, 156.0, 148.0, 164.0, 162.0, 155.0, 191.0, 189.0, 181.0, 226.0, 223.0, 213.0, 238.0, 232.0, 217.0, 221.0, 212.0, 193.0, 205.0, 190.0, 168.0, 193.0, 173.0, 148.0, 192.0, 169.0, 143.0, 190.0, 166.0, 138.0, 177.0, 150.0, 120.0, 181.0, 151.0, 119.0, 197.0, 164.0, 130.0, 209.0, 175.0, 139.0, 207.0, 173.0, 136.0, 200.0, 167.0, 129.0, 189.0, 156.0, 119.0, 48.0, 46.0, 46.0, 73.0, 62.0, 56.0, 87.0, 68.0, 56.0, 91.0, 68.0, 52.0, 94.0, 71.0, 55.0, 101.0, 79.0, 65.0, 113.0, 95.0, 84.0, 129.0, 115.0, 105.0, 141.0, 130.0, 122.0, 155.0, 146.0, 140.0, 182.0, 176.0, 172.0, 198.0, 195.0, 193.0, 206.0, 206.0, 206.0, 210.0, 211.0, 213.0, 204.0, 205.0, 203.0, 211.0, 212.0, 208.0, 206.0, 208.0, 204.0, 211.0, 213.0, 208.0, 239.0, 239.0, 230.0, 247.0, 242.0, 228.0, 230.0, 219.0, 201.0, 214.0, 198.0, 176.0, 192.0, 169.0, 144.0, 180.0, 155.0, 127.0, 184.0, 157.0, 127.0, 183.0, 154.0, 122.0, 174.0, 142.0, 109.0, 167.0, 133.0, 98.0, 171.0, 136.0, 100.0, 177.0, 144.0, 108.0, 193.0, 161.0, 124.0, 191.0, 160.0, 124.0, 51.0, 47.0, 48.0, 65.0, 53.0, 46.0, 78.0, 59.0, 45.0, 88.0, 63.0, 47.0, 92.0, 67.0, 51.0, 98.0, 75.0, 60.0, 111.0, 92.0, 77.0, 122.0, 106.0, 90.0, 127.0, 113.0, 99.0, 131.0, 121.0, 108.0, 145.0, 137.0, 128.0, 158.0, 155.0, 148.0, 162.0, 162.0, 157.0, 175.0, 177.0, 174.0, 192.0, 194.0, 191.0, 214.0, 215.0, 212.0, 219.0, 221.0, 217.0, 226.0, 227.0, 220.0, 237.0, 234.0, 224.0, 237.0, 229.0, 213.0, 226.0, 213.0, 192.0, 212.0, 193.0, 167.0, 193.0, 166.0, 136.0, 180.0, 150.0, 119.0, 180.0, 150.0, 118.0, 184.0, 154.0, 122.0, 191.0, 161.0, 128.0, 192.0, 162.0, 130.0, 190.0, 159.0, 127.0, 186.0, 156.0, 122.0, 194.0, 164.0, 129.0, 193.0, 163.0, 129.0, 52.0, 48.0, 51.0, 64.0, 54.0, 49.0, 82.0, 65.0, 53.0, 95.0, 72.0, 56.0, 97.0, 71.0, 56.0, 95.0, 69.0, 56.0, 99.0, 75.0, 62.0, 105.0, 87.0, 72.0, 112.0, 96.0, 82.0, 120.0, 106.0, 93.0, 124.0, 114.0, 102.0, 131.0, 123.0, 112.0, 141.0, 135.0, 126.0, 152.0, 148.0, 139.0, 170.0, 169.0, 161.0, 180.0, 180.0, 171.0, 192.0, 189.0, 177.0, 207.0, 200.0, 185.0, 215.0, 204.0, 186.0, 213.0, 200.0, 179.0, 204.0, 190.0, 168.0, 203.0, 188.0, 164.0, 205.0, 187.0, 160.0, 209.0, 189.0, 162.0, 209.0, 187.0, 160.0, 209.0, 187.0, 160.0, 211.0, 188.0, 160.0, 209.0, 184.0, 157.0, 204.0, 178.0, 151.0, 198.0, 172.0, 143.0, 195.0, 168.0, 138.0, 186.0, 159.0, 130.0, 55.0, 51.0, 56.0, 62.0, 53.0, 50.0, 78.0, 63.0, 51.0, 98.0, 76.0, 61.0, 108.0, 83.0, 66.0, 110.0, 82.0, 69.0, 106.0, 80.0, 66.0, 102.0, 79.0, 64.0, 108.0, 87.0, 71.0, 116.0, 97.0, 82.0, 119.0, 103.0, 88.0, 124.0, 111.0, 96.0, 132.0, 121.0, 106.0, 152.0, 142.0, 128.0, 169.0, 162.0, 147.0, 172.0, 165.0, 149.0, 187.0, 176.0, 158.0, 185.0, 172.0, 151.0, 194.0, 179.0, 156.0, 213.0, 200.0, 178.0, 215.0, 203.0, 184.0, 222.0, 212.0, 192.0, 229.0, 217.0, 194.0, 229.0, 216.0, 192.0, 224.0, 209.0, 184.0, 221.0, 203.0, 179.0, 219.0, 199.0, 173.0, 211.0, 188.0, 162.0, 203.0, 180.0, 154.0, 196.0, 171.0, 145.0, 193.0, 167.0, 140.0, 187.0, 160.0, 133.0, 54.0, 50.0, 53.0, 60.0, 52.0, 46.0, 68.0, 53.0, 39.0, 84.0, 63.0, 45.0, 102.0, 77.0, 58.0, 111.0, 84.0, 68.0, 110.0, 82.0, 66.0, 110.0, 84.0, 65.0, 120.0, 94.0, 74.0, 124.0, 101.0, 82.0, 126.0, 106.0, 87.0, 127.0, 110.0, 91.0, 122.0, 105.0, 87.0, 122.0, 106.0, 89.0, 122.0, 108.0, 90.0, 139.0, 124.0, 106.0, 148.0, 132.0, 111.0, 138.0, 121.0, 98.0, 160.0, 143.0, 121.0, 175.0, 161.0, 141.0, 182.0, 170.0, 153.0, 208.0, 198.0, 180.0, 222.0, 209.0, 187.0, 221.0, 206.0, 182.0, 210.0, 194.0, 170.0, 201.0, 182.0, 158.0, 200.0, 179.0, 153.0, 200.0, 178.0, 151.0, 200.0, 176.0, 150.0, 197.0, 171.0, 144.0, 197.0, 169.0, 141.0, 190.0, 161.0, 134.0, 52.0, 49.0, 50.0, 62.0, 54.0, 46.0, 68.0, 54.0, 38.0, 77.0, 56.0, 36.0, 91.0, 66.0, 45.0, 101.0, 74.0, 56.0, 103.0, 76.0, 59.0, 110.0, 84.0, 65.0, 126.0, 101.0, 82.0, 137.0, 114.0, 94.0, 139.0, 119.0, 100.0, 141.0, 123.0, 105.0, 138.0, 122.0, 104.0, 131.0, 116.0, 99.0, 129.0, 115.0, 98.0, 141.0, 126.0, 108.0, 135.0, 117.0, 96.0, 127.0, 107.0, 84.0, 147.0, 126.0, 103.0, 140.0, 119.0, 98.0, 149.0, 132.0, 112.0, 181.0, 167.0, 146.0, 183.0, 169.0, 147.0, 183.0, 169.0, 145.0, 190.0, 175.0, 150.0, 193.0, 175.0, 150.0, 197.0, 177.0, 151.0, 196.0, 173.0, 147.0, 199.0, 175.0, 149.0, 199.0, 172.0, 143.0, 194.0, 164.0, 132.0, 187.0, 157.0, 125.0, 54.0, 51.0, 50.0, 68.0, 59.0, 49.0, 78.0, 63.0, 45.0, 86.0, 64.0, 43.0, 94.0, 68.0, 47.0, 99.0, 72.0, 53.0, 102.0, 76.0, 59.0, 110.0, 87.0, 71.0, 128.0, 107.0, 90.0, 145.0, 126.0, 108.0, 151.0, 134.0, 116.0, 153.0, 137.0, 121.0, 156.0, 142.0, 125.0, 158.0, 145.0, 129.0, 161.0, 149.0, 135.0, 173.0, 160.0, 145.0, 173.0, 156.0, 138.0, 153.0, 133.0, 111.0, 157.0, 135.0, 111.0, 153.0, 129.0, 104.0, 158.0, 136.0, 111.0, 157.0, 137.0, 113.0, 164.0, 148.0, 124.0, 186.0, 171.0, 147.0, 205.0, 188.0, 163.0, 209.0, 190.0, 165.0, 207.0, 186.0, 160.0, 204.0, 181.0, 154.0, 196.0, 171.0, 144.0, 184.0, 156.0, 123.0, 188.0, 158.0, 120.0, 193.0, 162.0, 124.0, 57.0, 53.0, 50.0, 83.0, 71.0, 56.0, 92.0, 72.0, 50.0, 93.0, 66.0, 46.0, 93.0, 64.0, 46.0, 103.0, 75.0, 55.0, 113.0, 88.0, 68.0, 113.0, 92.0, 75.0, 122.0, 102.0, 85.0, 138.0, 119.0, 99.0, 154.0, 137.0, 115.0, 179.0, 163.0, 141.0, 187.0, 171.0, 151.0, 177.0, 162.0, 145.0, 164.0, 148.0, 133.0, 174.0, 158.0, 142.0, 190.0, 176.0, 160.0, 190.0, 177.0, 158.0, 194.0, 180.0, 158.0, 179.0, 163.0, 136.0, 174.0, 156.0, 125.0, 169.0, 148.0, 117.0, 177.0, 154.0, 126.0, 178.0, 155.0, 127.0, 182.0, 157.0, 129.0, 189.0, 163.0, 135.0, 194.0, 167.0, 137.0, 190.0, 162.0, 132.0, 180.0, 151.0, 120.0, 191.0, 158.0, 124.0, 202.0, 166.0, 130.0, 196.0, 159.0, 122.0, 50.0, 45.0, 41.0, 77.0, 64.0, 46.0, 87.0, 65.0, 42.0, 97.0, 67.0, 47.0, 107.0, 75.0, 57.0, 113.0, 84.0, 62.0, 115.0, 87.0, 63.0, 120.0, 92.0, 70.0, 137.0, 110.0, 87.0, 159.0, 135.0, 110.0, 177.0, 157.0, 131.0, 193.0, 176.0, 152.0, 202.0, 187.0, 167.0, 196.0, 181.0, 165.0, 185.0, 172.0, 154.0, 184.0, 170.0, 151.0, 188.0, 175.0, 156.0, 208.0, 195.0, 175.0, 193.0, 179.0, 156.0, 196.0, 177.0, 150.0, 199.0, 175.0, 144.0, 198.0, 171.0, 137.0, 192.0, 162.0, 129.0, 186.0, 155.0, 122.0, 181.0, 149.0, 116.0, 177.0, 144.0, 110.0, 174.0, 140.0, 105.0, 180.0, 145.0, 110.0, 192.0, 157.0, 121.0, 202.0, 163.0, 126.0, 201.0, 160.0, 122.0, 196.0, 154.0, 116.0, 47.0, 40.0, 35.0, 87.0, 73.0, 54.0, 104.0, 80.0, 56.0, 113.0, 82.0, 61.0, 119.0, 86.0, 66.0, 122.0, 91.0, 67.0, 129.0, 97.0, 70.0, 138.0, 103.0, 75.0, 142.0, 108.0, 80.0, 150.0, 120.0, 90.0, 169.0, 144.0, 115.0, 190.0, 170.0, 143.0, 198.0, 181.0, 159.0, 199.0, 183.0, 165.0, 204.0, 190.0, 168.0, 211.0, 197.0, 174.0, 207.0, 193.0, 170.0, 194.0, 178.0, 154.0, 185.0, 166.0, 141.0, 203.0, 178.0, 149.0, 198.0, 167.0, 134.0, 199.0, 165.0, 130.0, 202.0, 167.0, 131.0, 197.0, 161.0, 124.0, 192.0, 154.0, 117.0, 195.0, 157.0, 118.0, 202.0, 163.0, 123.0, 208.0, 168.0, 127.0, 205.0, 164.0, 123.0, 190.0, 148.0, 107.0, 179.0, 137.0, 95.0, 180.0, 138.0, 96.0, 67.0, 59.0, 52.0, 106.0, 89.0, 69.0, 117.0, 91.0, 66.0, 117.0, 84.0, 62.0, 120.0, 85.0, 64.0, 131.0, 98.0, 73.0, 136.0, 103.0, 74.0, 138.0, 101.0, 73.0, 141.0, 105.0, 75.0, 153.0, 119.0, 87.0, 167.0, 137.0, 103.0, 181.0, 154.0, 122.0, 187.0, 161.0, 133.0, 196.0, 171.0, 145.0, 211.0, 188.0, 163.0, 201.0, 180.0, 156.0, 187.0, 167.0, 143.0, 205.0, 186.0, 160.0, 194.0, 173.0, 144.0, 190.0, 165.0, 132.0, 195.0, 165.0, 129.0, 201.0, 168.0, 130.0, 208.0, 172.0, 135.0, 211.0, 175.0, 138.0, 208.0, 170.0, 133.0, 198.0, 159.0, 121.0, 187.0, 147.0, 108.0, 187.0, 146.0, 106.0, 196.0, 155.0, 114.0, 196.0, 157.0, 116.0, 197.0, 159.0, 118.0, 200.0, 163.0, 123.0, 71.0, 63.0, 54.0, 113.0, 97.0, 77.0, 130.0, 105.0, 81.0, 134.0, 103.0, 81.0, 144.0, 113.0, 91.0, 151.0, 122.0, 97.0, 150.0, 122.0, 94.0, 152.0, 121.0, 93.0, 161.0, 129.0, 99.0, 173.0, 142.0, 110.0, 182.0, 151.0, 117.0, 188.0, 157.0, 124.0, 187.0, 157.0, 125.0, 183.0, 153.0, 123.0, 189.0, 161.0, 135.0, 193.0, 167.0, 143.0, 188.0, 164.0, 138.0, 213.0, 189.0, 163.0, 206.0, 182.0, 153.0, 196.0, 172.0, 139.0, 199.0, 173.0, 136.0, 211.0, 181.0, 144.0, 217.0, 183.0, 148.0, 217.0, 181.0, 147.0, 210.0, 174.0, 138.0, 197.0, 161.0, 123.0, 195.0, 158.0, 119.0, 200.0, 163.0, 121.0, 202.0, 164.0, 123.0, 201.0, 165.0, 125.0, 205.0, 171.0, 132.0, 219.0, 186.0, 148.0, 60.0, 56.0, 42.0, 101.0, 88.0, 70.0, 119.0, 97.0, 76.0, 135.0, 109.0, 85.0, 148.0, 124.0, 98.0, 147.0, 126.0, 99.0, 153.0, 132.0, 105.0, 166.0, 142.0, 116.0, 174.0, 149.0, 122.0, 180.0, 155.0, 128.0, 185.0, 159.0, 133.0, 193.0, 167.0, 141.0, 206.0, 180.0, 154.0, 191.0, 165.0, 139.0, 185.0, 163.0, 138.0, 208.0, 187.0, 163.0, 186.0, 165.0, 140.0, 221.0, 199.0, 173.0, 222.0, 199.0, 172.0, 193.0, 169.0, 141.0, 207.0, 182.0, 153.0, 227.0, 200.0, 170.0, 227.0, 195.0, 165.0, 226.0, 192.0, 160.0, 224.0, 190.0, 155.0, 221.0, 188.0, 150.0, 214.0, 181.0, 141.0, 213.0, 181.0, 138.0, 221.0, 189.0, 144.0, 217.0, 186.0, 145.0, 212.0, 181.0, 144.0, 208.0, 177.0, 141.0, 60.0, 55.0, 41.0, 83.0, 69.0, 52.0, 94.0, 72.0, 49.0, 111.0, 83.0, 56.0, 120.0, 90.0, 61.0, 132.0, 103.0, 73.0, 153.0, 126.0, 96.0, 163.0, 136.0, 109.0, 164.0, 137.0, 111.0, 175.0, 148.0, 122.0, 188.0, 161.0, 135.0, 195.0, 168.0, 142.0, 202.0, 176.0, 150.0, 189.0, 162.0, 136.0, 184.0, 157.0, 130.0, 199.0, 171.0, 143.0, 166.0, 137.0, 108.0, 189.0, 160.0, 130.0, 232.0, 202.0, 170.0, 219.0, 187.0, 156.0, 176.0, 144.0, 112.0, 196.0, 164.0, 130.0, 221.0, 188.0, 153.0, 223.0, 190.0, 154.0, 219.0, 186.0, 148.0, 214.0, 181.0, 141.0, 211.0, 179.0, 137.0, 209.0, 177.0, 133.0, 211.0, 179.0, 134.0, 205.0, 171.0, 130.0, 191.0, 155.0, 118.0, 175.0, 140.0, 103.0, 52.0, 46.0, 36.0, 77.0, 66.0, 52.0, 87.0, 70.0, 51.0, 92.0, 71.0, 48.0, 95.0, 71.0, 47.0, 110.0, 84.0, 60.0, 135.0, 108.0, 83.0, 151.0, 122.0, 95.0, 152.0, 122.0, 96.0, 149.0, 119.0, 92.0, 151.0, 121.0, 95.0, 170.0, 140.0, 113.0, 188.0, 158.0, 132.0, 192.0, 162.0, 136.0, 182.0, 150.0, 121.0, 172.0, 138.0, 108.0, 169.0, 135.0, 104.0, 162.0, 127.0, 95.0, 176.0, 140.0, 106.0, 194.0, 157.0, 122.0, 180.0, 143.0, 108.0, 154.0, 117.0, 82.0, 173.0, 137.0, 102.0, 188.0, 153.0, 117.0, 193.0, 158.0, 121.0, 180.0, 146.0, 108.0, 168.0, 133.0, 95.0, 169.0, 134.0, 95.0, 173.0, 139.0, 99.0, 175.0, 139.0, 102.0, 171.0, 132.0, 97.0, 154.0, 116.0, 81.0, 41.0, 38.0, 36.0, 52.0, 49.0, 43.0, 49.0, 45.0, 36.0, 35.0, 30.0, 21.0, 35.0, 27.0, 19.0, 37.0, 28.0, 22.0, 46.0, 35.0, 29.0, 70.0, 57.0, 49.0, 75.0, 62.0, 53.0, 73.0, 60.0, 52.0, 79.0, 66.0, 58.0, 84.0, 70.0, 61.0, 88.0, 75.0, 65.0, 89.0, 75.0, 67.0, 90.0, 75.0, 65.0, 81.0, 65.0, 53.0, 84.0, 68.0, 57.0, 82.0, 66.0, 54.0, 76.0, 58.0, 46.0, 78.0, 59.0, 44.0, 81.0, 62.0, 48.0, 83.0, 63.0, 49.0, 78.0, 60.0, 48.0, 78.0, 59.0, 48.0, 69.0, 51.0, 40.0, 58.0, 40.0, 30.0, 50.0, 32.0, 22.0, 60.0, 42.0, 31.0, 86.0, 68.0, 55.0, 95.0, 77.0, 64.0, 87.0, 69.0, 59.0, 87.0, 69.0, 58.0]),\n",
              " 'label': 'cat'}"
            ]
          },
          "metadata": {
            "tags": []
          },
          "execution_count": 87
        }
      ]
    },
    {
      "cell_type": "code",
      "metadata": {
        "id": "hJ58-WBUyUjU"
      },
      "source": [
        "cat = image_data[18:19]"
      ],
      "execution_count": 88,
      "outputs": []
    },
    {
      "cell_type": "code",
      "metadata": {
        "id": "AC4ZNDjcyUji",
        "outputId": "801f4466-9bc9-4dca-8151-71d9509c76b3",
        "colab": {
          "base_uri": "https://localhost:8080/",
          "height": 114
        }
      },
      "source": [
        "cat['label'].explore()"
      ],
      "execution_count": 89,
      "outputs": [
        {
          "output_type": "display_data",
          "data": {
            "text/plain": [
              "<IPython.core.display.HTML object>"
            ],
            "text/html": [
              "<html lang=\"en\">                                                     <head>                                                               <style>                                                              .sframe {                                                            font-size: 12px;                                                   font-family: HelveticaNeue;                                        border: 1px solid silver;                                        }                                                                  .sframe thead th {                                                   background: #F7F7F7;                                               font-family: HelveticaNeue-Medium;                                 font-size: 14px;                                                   line-height: 16.8px;                                               padding-top: 16px;                                                 padding-bottom: 16px;                                              padding-left: 10px;                                                padding-right: 38px;                                               border-top: 1px solid #E9E9E9;                                     border-bottom: 1px solid #E9E9E9;                                  white-space: nowrap;                                               overflow: hidden;                                                  text-overflow:ellipsis;                                            text-align:center;                                                 font-weight:normal;                                              }                                                                  .sframe tbody th {                                                   background: #FFFFFF;                                               text-align:left;                                                   font-weight:normal;                                                border-right: 1px solid #E9E9E9;                                 }                                                                  .sframe td {                                                         background: #FFFFFF;                                               padding-left: 10px;                                                padding-right: 38px;                                               padding-top: 14px;                                                 padding-bottom: 14px;                                              border-bottom: 1px solid #E9E9E9;                                  max-height: 0px;                                                   transition: max-height 5s ease-out;                                vertical-align: middle;                                            font-family: HelveticaNeue;                                        font-size: 12px;                                                   line-height: 16.8px;                                               background: #FFFFFF;                                             }                                                                  .sframe tr {                                                         padding-left: 10px;                                                padding-right: 38px;                                               padding-top: 14px;                                                 padding-bottom: 14px;                                              border-bottom: 1px solid #E9E9E9;                                  max-height: 0px;                                                   transition: max-height 5s ease-out;                                vertical-align: middle;                                            font-family: HelveticaNeue;                                        font-size: 12px;                                                   line-height: 16.8px;                                               background: #FFFFFF;                                             }                                                                  .sframe tr:hover {                                                   background: silver;                                              },                                                               </style>                                                         </head>                                                            <body>                                                               <h1>  </h1>                                             <table border=\"1\" class=\"dataframe sframe\">\n",
              "  <thead>\n",
              "    <tr style=\"text-align: right;\">\n",
              "      <th></th>\n",
              "      <th>SArray</th>\n",
              "    </tr>\n",
              "  </thead>\n",
              "  <tbody>\n",
              "    <tr>\n",
              "      <th>0</th>\n",
              "      <td>cat</td>\n",
              "    </tr>\n",
              "  </tbody>\n",
              "</table>                          </body>                                                          </html>"
            ]
          },
          "metadata": {
            "tags": []
          }
        }
      ]
    },
    {
      "cell_type": "markdown",
      "metadata": {
        "id": "yJWa8wGIaLKh"
      },
      "source": [
        "##### Applying our model to the object cat.\n",
        "* We can check the nearest neighbor to the obejct we passed in **query** "
      ]
    },
    {
      "cell_type": "code",
      "metadata": {
        "id": "0b058QJHyUju",
        "outputId": "04a35bbb-19a3-4671-993e-a00d5fa45760",
        "colab": {
          "base_uri": "https://localhost:8080/",
          "height": 269
        }
      },
      "source": [
        "knn_model.query(cat)"
      ],
      "execution_count": 90,
      "outputs": [
        {
          "output_type": "display_data",
          "data": {
            "text/plain": [
              "Starting pairwise querying."
            ],
            "text/html": [
              "<pre>Starting pairwise querying.</pre>"
            ]
          },
          "metadata": {
            "tags": []
          }
        },
        {
          "output_type": "display_data",
          "data": {
            "text/plain": [
              "+--------------+---------+-------------+--------------+"
            ],
            "text/html": [
              "<pre>+--------------+---------+-------------+--------------+</pre>"
            ]
          },
          "metadata": {
            "tags": []
          }
        },
        {
          "output_type": "display_data",
          "data": {
            "text/plain": [
              "| Query points | # Pairs | % Complete. | Elapsed Time |"
            ],
            "text/html": [
              "<pre>| Query points | # Pairs | % Complete. | Elapsed Time |</pre>"
            ]
          },
          "metadata": {
            "tags": []
          }
        },
        {
          "output_type": "display_data",
          "data": {
            "text/plain": [
              "+--------------+---------+-------------+--------------+"
            ],
            "text/html": [
              "<pre>+--------------+---------+-------------+--------------+</pre>"
            ]
          },
          "metadata": {
            "tags": []
          }
        },
        {
          "output_type": "display_data",
          "data": {
            "text/plain": [
              "| 0            | 1       | 0.0498753   | 12.284ms     |"
            ],
            "text/html": [
              "<pre>| 0            | 1       | 0.0498753   | 12.284ms     |</pre>"
            ]
          },
          "metadata": {
            "tags": []
          }
        },
        {
          "output_type": "display_data",
          "data": {
            "text/plain": [
              "| Done         |         | 100         | 240.688ms    |"
            ],
            "text/html": [
              "<pre>| Done         |         | 100         | 240.688ms    |</pre>"
            ]
          },
          "metadata": {
            "tags": []
          }
        },
        {
          "output_type": "display_data",
          "data": {
            "text/plain": [
              "+--------------+---------+-------------+--------------+"
            ],
            "text/html": [
              "<pre>+--------------+---------+-------------+--------------+</pre>"
            ]
          },
          "metadata": {
            "tags": []
          }
        },
        {
          "output_type": "execute_result",
          "data": {
            "text/plain": [
              "Columns:\n",
              "\tquery_label\tint\n",
              "\treference_label\tint\n",
              "\tdistance\tfloat\n",
              "\trank\tint\n",
              "\n",
              "Rows: 5\n",
              "\n",
              "Data:\n",
              "+-------------+-----------------+---------------+------+\n",
              "| query_label | reference_label |    distance   | rank |\n",
              "+-------------+-----------------+---------------+------+\n",
              "|      0      |       384       |      0.0      |  1   |\n",
              "|      0      |       6910      | 36.9403137951 |  2   |\n",
              "|      0      |      39777      | 38.4634888975 |  3   |\n",
              "|      0      |      36870      | 39.7559623119 |  4   |\n",
              "|      0      |      41734      | 39.7866014148 |  5   |\n",
              "+-------------+-----------------+---------------+------+\n",
              "[5 rows x 4 columns]"
            ],
            "text/html": [
              "<div style=\"max-height:1000px;max-width:1500px;overflow:auto;\"><table frame=\"box\" rules=\"cols\">\n",
              "    <tr>\n",
              "        <th style=\"padding-left: 1em; padding-right: 1em; text-align: center\">query_label</th>\n",
              "        <th style=\"padding-left: 1em; padding-right: 1em; text-align: center\">reference_label</th>\n",
              "        <th style=\"padding-left: 1em; padding-right: 1em; text-align: center\">distance</th>\n",
              "        <th style=\"padding-left: 1em; padding-right: 1em; text-align: center\">rank</th>\n",
              "    </tr>\n",
              "    <tr>\n",
              "        <td style=\"padding-left: 1em; padding-right: 1em; text-align: center; vertical-align: top\">0</td>\n",
              "        <td style=\"padding-left: 1em; padding-right: 1em; text-align: center; vertical-align: top\">384</td>\n",
              "        <td style=\"padding-left: 1em; padding-right: 1em; text-align: center; vertical-align: top\">0.0</td>\n",
              "        <td style=\"padding-left: 1em; padding-right: 1em; text-align: center; vertical-align: top\">1</td>\n",
              "    </tr>\n",
              "    <tr>\n",
              "        <td style=\"padding-left: 1em; padding-right: 1em; text-align: center; vertical-align: top\">0</td>\n",
              "        <td style=\"padding-left: 1em; padding-right: 1em; text-align: center; vertical-align: top\">6910</td>\n",
              "        <td style=\"padding-left: 1em; padding-right: 1em; text-align: center; vertical-align: top\">36.9403137951</td>\n",
              "        <td style=\"padding-left: 1em; padding-right: 1em; text-align: center; vertical-align: top\">2</td>\n",
              "    </tr>\n",
              "    <tr>\n",
              "        <td style=\"padding-left: 1em; padding-right: 1em; text-align: center; vertical-align: top\">0</td>\n",
              "        <td style=\"padding-left: 1em; padding-right: 1em; text-align: center; vertical-align: top\">39777</td>\n",
              "        <td style=\"padding-left: 1em; padding-right: 1em; text-align: center; vertical-align: top\">38.4634888975</td>\n",
              "        <td style=\"padding-left: 1em; padding-right: 1em; text-align: center; vertical-align: top\">3</td>\n",
              "    </tr>\n",
              "    <tr>\n",
              "        <td style=\"padding-left: 1em; padding-right: 1em; text-align: center; vertical-align: top\">0</td>\n",
              "        <td style=\"padding-left: 1em; padding-right: 1em; text-align: center; vertical-align: top\">36870</td>\n",
              "        <td style=\"padding-left: 1em; padding-right: 1em; text-align: center; vertical-align: top\">39.7559623119</td>\n",
              "        <td style=\"padding-left: 1em; padding-right: 1em; text-align: center; vertical-align: top\">4</td>\n",
              "    </tr>\n",
              "    <tr>\n",
              "        <td style=\"padding-left: 1em; padding-right: 1em; text-align: center; vertical-align: top\">0</td>\n",
              "        <td style=\"padding-left: 1em; padding-right: 1em; text-align: center; vertical-align: top\">41734</td>\n",
              "        <td style=\"padding-left: 1em; padding-right: 1em; text-align: center; vertical-align: top\">39.7866014148</td>\n",
              "        <td style=\"padding-left: 1em; padding-right: 1em; text-align: center; vertical-align: top\">5</td>\n",
              "    </tr>\n",
              "</table>\n",
              "[5 rows x 4 columns]<br/>\n",
              "</div>"
            ]
          },
          "metadata": {
            "tags": []
          },
          "execution_count": 90
        }
      ]
    },
    {
      "cell_type": "markdown",
      "metadata": {
        "id": "KRbYxfi9b3S6"
      },
      "source": [
        "##### A funciton, takes a query and right down the id of five nearest neigbor "
      ]
    },
    {
      "cell_type": "code",
      "metadata": {
        "id": "y-oDVVD2yUj7"
      },
      "source": [
        "def get_images_from_ids(query_result):\n",
        "    return image_data.filter_by(query_result['reference_label'],'id')"
      ],
      "execution_count": 91,
      "outputs": []
    },
    {
      "cell_type": "code",
      "metadata": {
        "id": "82TcfDzXyUkH",
        "outputId": "3c7f765a-97fb-4dc3-caba-c27faccdf689",
        "colab": {
          "base_uri": "https://localhost:8080/",
          "height": 136
        }
      },
      "source": [
        "cat_neighbors = get_images_from_ids(knn_model.query(cat))"
      ],
      "execution_count": 92,
      "outputs": [
        {
          "output_type": "display_data",
          "data": {
            "text/plain": [
              "Starting pairwise querying."
            ],
            "text/html": [
              "<pre>Starting pairwise querying.</pre>"
            ]
          },
          "metadata": {
            "tags": []
          }
        },
        {
          "output_type": "display_data",
          "data": {
            "text/plain": [
              "+--------------+---------+-------------+--------------+"
            ],
            "text/html": [
              "<pre>+--------------+---------+-------------+--------------+</pre>"
            ]
          },
          "metadata": {
            "tags": []
          }
        },
        {
          "output_type": "display_data",
          "data": {
            "text/plain": [
              "| Query points | # Pairs | % Complete. | Elapsed Time |"
            ],
            "text/html": [
              "<pre>| Query points | # Pairs | % Complete. | Elapsed Time |</pre>"
            ]
          },
          "metadata": {
            "tags": []
          }
        },
        {
          "output_type": "display_data",
          "data": {
            "text/plain": [
              "+--------------+---------+-------------+--------------+"
            ],
            "text/html": [
              "<pre>+--------------+---------+-------------+--------------+</pre>"
            ]
          },
          "metadata": {
            "tags": []
          }
        },
        {
          "output_type": "display_data",
          "data": {
            "text/plain": [
              "| 0            | 1       | 0.0498753   | 5.928ms      |"
            ],
            "text/html": [
              "<pre>| 0            | 1       | 0.0498753   | 5.928ms      |</pre>"
            ]
          },
          "metadata": {
            "tags": []
          }
        },
        {
          "output_type": "display_data",
          "data": {
            "text/plain": [
              "| Done         |         | 100         | 182.201ms    |"
            ],
            "text/html": [
              "<pre>| Done         |         | 100         | 182.201ms    |</pre>"
            ]
          },
          "metadata": {
            "tags": []
          }
        },
        {
          "output_type": "display_data",
          "data": {
            "text/plain": [
              "+--------------+---------+-------------+--------------+"
            ],
            "text/html": [
              "<pre>+--------------+---------+-------------+--------------+</pre>"
            ]
          },
          "metadata": {
            "tags": []
          }
        }
      ]
    },
    {
      "cell_type": "code",
      "metadata": {
        "id": "VbZG16a0cydC",
        "outputId": "4027a5b9-e82c-49f7-d723-5c7c988949fc",
        "colab": {
          "base_uri": "https://localhost:8080/",
          "height": 235
        }
      },
      "source": [
        "cat_neighbors"
      ],
      "execution_count": 93,
      "outputs": [
        {
          "output_type": "execute_result",
          "data": {
            "text/plain": [
              "Columns:\n",
              "\tid\tint\n",
              "\timage\tImage\n",
              "\tlabel\tstr\n",
              "\tdeep_features\tarray\n",
              "\timage_array\tarray\n",
              "\n",
              "Rows: 5\n",
              "\n",
              "Data:\n",
              "+-------+----------------------+-------+-------------------------------+\n",
              "|   id  |        image         | label |         deep_features         |\n",
              "+-------+----------------------+-------+-------------------------------+\n",
              "|  384  | Height: 32 Width: 32 |  cat  | [1.04403531551, 0.0, 0.0, ... |\n",
              "|  6910 | Height: 32 Width: 32 |  cat  | [1.55474901199, 0.0, 0.0, ... |\n",
              "| 36870 | Height: 32 Width: 32 |  cat  | [0.240483224392, 0.0, 0.0,... |\n",
              "| 39777 | Height: 32 Width: 32 |  cat  | [0.0, 0.0, 0.0, 0.0, 0.0, ... |\n",
              "| 41734 | Height: 32 Width: 32 |  cat  | [0.0, 0.0, 0.0, 0.0, 0.0, ... |\n",
              "+-------+----------------------+-------+-------------------------------+\n",
              "+-------------------------------+\n",
              "|          image_array          |\n",
              "+-------------------------------+\n",
              "| [46.0, 45.0, 50.0, 47.0, 4... |\n",
              "| [154.0, 133.0, 92.0, 134.0... |\n",
              "| [16.0, 20.0, 19.0, 14.0, 1... |\n",
              "| [145.0, 166.0, 165.0, 164.... |\n",
              "| [122.0, 27.0, 34.0, 120.0,... |\n",
              "+-------------------------------+\n",
              "[5 rows x 5 columns]"
            ],
            "text/html": [
              "<div style=\"max-height:1000px;max-width:1500px;overflow:auto;\"><table frame=\"box\" rules=\"cols\">\n",
              "    <tr>\n",
              "        <th style=\"padding-left: 1em; padding-right: 1em; text-align: center\">id</th>\n",
              "        <th style=\"padding-left: 1em; padding-right: 1em; text-align: center\">image</th>\n",
              "        <th style=\"padding-left: 1em; padding-right: 1em; text-align: center\">label</th>\n",
              "        <th style=\"padding-left: 1em; padding-right: 1em; text-align: center\">deep_features</th>\n",
              "        <th style=\"padding-left: 1em; padding-right: 1em; text-align: center\">image_array</th>\n",
              "    </tr>\n",
              "    <tr>\n",
              "        <td style=\"padding-left: 1em; padding-right: 1em; text-align: center; vertical-align: top\">384</td>\n",
              "        <td style=\"padding-left: 1em; padding-right: 1em; text-align: center; vertical-align: top\">Height: 32 Width: 32</td>\n",
              "        <td style=\"padding-left: 1em; padding-right: 1em; text-align: center; vertical-align: top\">cat</td>\n",
              "        <td style=\"padding-left: 1em; padding-right: 1em; text-align: center; vertical-align: top\">[1.04403531551, 0.0, 0.0,<br>0.0, 0.0, 0.0, ...</td>\n",
              "        <td style=\"padding-left: 1em; padding-right: 1em; text-align: center; vertical-align: top\">[46.0, 45.0, 50.0, 47.0,<br>45.0, 51.0, 45.0, 44.0, ...</td>\n",
              "    </tr>\n",
              "    <tr>\n",
              "        <td style=\"padding-left: 1em; padding-right: 1em; text-align: center; vertical-align: top\">6910</td>\n",
              "        <td style=\"padding-left: 1em; padding-right: 1em; text-align: center; vertical-align: top\">Height: 32 Width: 32</td>\n",
              "        <td style=\"padding-left: 1em; padding-right: 1em; text-align: center; vertical-align: top\">cat</td>\n",
              "        <td style=\"padding-left: 1em; padding-right: 1em; text-align: center; vertical-align: top\">[1.55474901199, 0.0, 0.0,<br>0.0, 0.0, 0.0, ...</td>\n",
              "        <td style=\"padding-left: 1em; padding-right: 1em; text-align: center; vertical-align: top\">[154.0, 133.0, 92.0,<br>134.0, 112.0, 75.0, ...</td>\n",
              "    </tr>\n",
              "    <tr>\n",
              "        <td style=\"padding-left: 1em; padding-right: 1em; text-align: center; vertical-align: top\">36870</td>\n",
              "        <td style=\"padding-left: 1em; padding-right: 1em; text-align: center; vertical-align: top\">Height: 32 Width: 32</td>\n",
              "        <td style=\"padding-left: 1em; padding-right: 1em; text-align: center; vertical-align: top\">cat</td>\n",
              "        <td style=\"padding-left: 1em; padding-right: 1em; text-align: center; vertical-align: top\">[0.240483224392, 0.0,<br>0.0, 0.0, 0.0, 0.0, ...</td>\n",
              "        <td style=\"padding-left: 1em; padding-right: 1em; text-align: center; vertical-align: top\">[16.0, 20.0, 19.0, 14.0,<br>19.0, 17.0, 11.0, 15.0, ...</td>\n",
              "    </tr>\n",
              "    <tr>\n",
              "        <td style=\"padding-left: 1em; padding-right: 1em; text-align: center; vertical-align: top\">39777</td>\n",
              "        <td style=\"padding-left: 1em; padding-right: 1em; text-align: center; vertical-align: top\">Height: 32 Width: 32</td>\n",
              "        <td style=\"padding-left: 1em; padding-right: 1em; text-align: center; vertical-align: top\">cat</td>\n",
              "        <td style=\"padding-left: 1em; padding-right: 1em; text-align: center; vertical-align: top\">[0.0, 0.0, 0.0, 0.0, 0.0,<br>0.0, 9.42072105408, 0.0, ...</td>\n",
              "        <td style=\"padding-left: 1em; padding-right: 1em; text-align: center; vertical-align: top\">[145.0, 166.0, 165.0,<br>164.0, 185.0, 184.0, ...</td>\n",
              "    </tr>\n",
              "    <tr>\n",
              "        <td style=\"padding-left: 1em; padding-right: 1em; text-align: center; vertical-align: top\">41734</td>\n",
              "        <td style=\"padding-left: 1em; padding-right: 1em; text-align: center; vertical-align: top\">Height: 32 Width: 32</td>\n",
              "        <td style=\"padding-left: 1em; padding-right: 1em; text-align: center; vertical-align: top\">cat</td>\n",
              "        <td style=\"padding-left: 1em; padding-right: 1em; text-align: center; vertical-align: top\">[0.0, 0.0, 0.0, 0.0, 0.0,<br>0.0, 11.6715068817, 0.0, ...</td>\n",
              "        <td style=\"padding-left: 1em; padding-right: 1em; text-align: center; vertical-align: top\">[122.0, 27.0, 34.0,<br>120.0, 24.0, 31.0, 11 ...</td>\n",
              "    </tr>\n",
              "</table>\n",
              "[5 rows x 5 columns]<br/>\n",
              "</div>"
            ]
          },
          "metadata": {
            "tags": []
          },
          "execution_count": 93
        }
      ]
    },
    {
      "cell_type": "markdown",
      "metadata": {
        "id": "mC-p7y1PyUke"
      },
      "source": [
        "# Find images similar to a car"
      ]
    },
    {
      "cell_type": "code",
      "metadata": {
        "id": "tIrJkxynyUkg"
      },
      "source": [
        "car = image_data[8:9]"
      ],
      "execution_count": 94,
      "outputs": []
    },
    {
      "cell_type": "code",
      "metadata": {
        "id": "FtTNGmREyUk6",
        "outputId": "5b409ba1-a54a-4b32-dd8e-165fed229fca",
        "colab": {
          "base_uri": "https://localhost:8080/",
          "height": 354
        }
      },
      "source": [
        "get_images_from_ids(knn_model.query(car))"
      ],
      "execution_count": 95,
      "outputs": [
        {
          "output_type": "display_data",
          "data": {
            "text/plain": [
              "Starting pairwise querying."
            ],
            "text/html": [
              "<pre>Starting pairwise querying.</pre>"
            ]
          },
          "metadata": {
            "tags": []
          }
        },
        {
          "output_type": "display_data",
          "data": {
            "text/plain": [
              "+--------------+---------+-------------+--------------+"
            ],
            "text/html": [
              "<pre>+--------------+---------+-------------+--------------+</pre>"
            ]
          },
          "metadata": {
            "tags": []
          }
        },
        {
          "output_type": "display_data",
          "data": {
            "text/plain": [
              "| Query points | # Pairs | % Complete. | Elapsed Time |"
            ],
            "text/html": [
              "<pre>| Query points | # Pairs | % Complete. | Elapsed Time |</pre>"
            ]
          },
          "metadata": {
            "tags": []
          }
        },
        {
          "output_type": "display_data",
          "data": {
            "text/plain": [
              "+--------------+---------+-------------+--------------+"
            ],
            "text/html": [
              "<pre>+--------------+---------+-------------+--------------+</pre>"
            ]
          },
          "metadata": {
            "tags": []
          }
        },
        {
          "output_type": "display_data",
          "data": {
            "text/plain": [
              "| 0            | 1       | 0.0498753   | 16.358ms     |"
            ],
            "text/html": [
              "<pre>| 0            | 1       | 0.0498753   | 16.358ms     |</pre>"
            ]
          },
          "metadata": {
            "tags": []
          }
        },
        {
          "output_type": "display_data",
          "data": {
            "text/plain": [
              "| Done         |         | 100         | 233.143ms    |"
            ],
            "text/html": [
              "<pre>| Done         |         | 100         | 233.143ms    |</pre>"
            ]
          },
          "metadata": {
            "tags": []
          }
        },
        {
          "output_type": "display_data",
          "data": {
            "text/plain": [
              "+--------------+---------+-------------+--------------+"
            ],
            "text/html": [
              "<pre>+--------------+---------+-------------+--------------+</pre>"
            ]
          },
          "metadata": {
            "tags": []
          }
        },
        {
          "output_type": "execute_result",
          "data": {
            "text/plain": [
              "Columns:\n",
              "\tid\tint\n",
              "\timage\tImage\n",
              "\tlabel\tstr\n",
              "\tdeep_features\tarray\n",
              "\timage_array\tarray\n",
              "\n",
              "Rows: 5\n",
              "\n",
              "Data:\n",
              "+-------+----------------------+------------+-------------------------------+\n",
              "|   id  |        image         |   label    |         deep_features         |\n",
              "+-------+----------------------+------------+-------------------------------+\n",
              "|  136  | Height: 32 Width: 32 | automobile | [0.0, 0.0, 0.0, 0.0, 0.0, ... |\n",
              "|  8977 | Height: 32 Width: 32 | automobile | [0.0, 0.0, 0.0, 0.13615608... |\n",
              "| 24146 | Height: 32 Width: 32 | automobile | [0.0, 0.0, 0.0, 0.0, 0.0, ... |\n",
              "| 33261 | Height: 32 Width: 32 | automobile | [0.0, 0.0, 0.0, 0.0, 0.0, ... |\n",
              "| 44395 | Height: 32 Width: 32 | automobile | [0.0, 0.0, 0.0, 1.34758436... |\n",
              "+-------+----------------------+------------+-------------------------------+\n",
              "+-------------------------------+\n",
              "|          image_array          |\n",
              "+-------------------------------+\n",
              "| [35.0, 59.0, 53.0, 36.0, 5... |\n",
              "| [186.0, 195.0, 199.0, 182.... |\n",
              "| [229.0, 231.0, 227.0, 232.... |\n",
              "| [110.0, 118.0, 104.0, 98.0... |\n",
              "| [89.0, 95.0, 50.0, 83.0, 8... |\n",
              "+-------------------------------+\n",
              "[5 rows x 5 columns]"
            ],
            "text/html": [
              "<div style=\"max-height:1000px;max-width:1500px;overflow:auto;\"><table frame=\"box\" rules=\"cols\">\n",
              "    <tr>\n",
              "        <th style=\"padding-left: 1em; padding-right: 1em; text-align: center\">id</th>\n",
              "        <th style=\"padding-left: 1em; padding-right: 1em; text-align: center\">image</th>\n",
              "        <th style=\"padding-left: 1em; padding-right: 1em; text-align: center\">label</th>\n",
              "        <th style=\"padding-left: 1em; padding-right: 1em; text-align: center\">deep_features</th>\n",
              "        <th style=\"padding-left: 1em; padding-right: 1em; text-align: center\">image_array</th>\n",
              "    </tr>\n",
              "    <tr>\n",
              "        <td style=\"padding-left: 1em; padding-right: 1em; text-align: center; vertical-align: top\">136</td>\n",
              "        <td style=\"padding-left: 1em; padding-right: 1em; text-align: center; vertical-align: top\">Height: 32 Width: 32</td>\n",
              "        <td style=\"padding-left: 1em; padding-right: 1em; text-align: center; vertical-align: top\">automobile</td>\n",
              "        <td style=\"padding-left: 1em; padding-right: 1em; text-align: center; vertical-align: top\">[0.0, 0.0, 0.0, 0.0, 0.0,<br>0.0, 7.5737862587, 0.0, ...</td>\n",
              "        <td style=\"padding-left: 1em; padding-right: 1em; text-align: center; vertical-align: top\">[35.0, 59.0, 53.0, 36.0,<br>56.0, 56.0, 42.0, 62.0, ...</td>\n",
              "    </tr>\n",
              "    <tr>\n",
              "        <td style=\"padding-left: 1em; padding-right: 1em; text-align: center; vertical-align: top\">8977</td>\n",
              "        <td style=\"padding-left: 1em; padding-right: 1em; text-align: center; vertical-align: top\">Height: 32 Width: 32</td>\n",
              "        <td style=\"padding-left: 1em; padding-right: 1em; text-align: center; vertical-align: top\">automobile</td>\n",
              "        <td style=\"padding-left: 1em; padding-right: 1em; text-align: center; vertical-align: top\">[0.0, 0.0, 0.0,<br>0.136156082153, 0.0,  ...</td>\n",
              "        <td style=\"padding-left: 1em; padding-right: 1em; text-align: center; vertical-align: top\">[186.0, 195.0, 199.0,<br>182.0, 192.0, 198.0, ...</td>\n",
              "    </tr>\n",
              "    <tr>\n",
              "        <td style=\"padding-left: 1em; padding-right: 1em; text-align: center; vertical-align: top\">24146</td>\n",
              "        <td style=\"padding-left: 1em; padding-right: 1em; text-align: center; vertical-align: top\">Height: 32 Width: 32</td>\n",
              "        <td style=\"padding-left: 1em; padding-right: 1em; text-align: center; vertical-align: top\">automobile</td>\n",
              "        <td style=\"padding-left: 1em; padding-right: 1em; text-align: center; vertical-align: top\">[0.0, 0.0, 0.0, 0.0, 0.0,<br>0.0, 9.21663570404, 0.0, ...</td>\n",
              "        <td style=\"padding-left: 1em; padding-right: 1em; text-align: center; vertical-align: top\">[229.0, 231.0, 227.0,<br>232.0, 235.0, 231.0, ...</td>\n",
              "    </tr>\n",
              "    <tr>\n",
              "        <td style=\"padding-left: 1em; padding-right: 1em; text-align: center; vertical-align: top\">33261</td>\n",
              "        <td style=\"padding-left: 1em; padding-right: 1em; text-align: center; vertical-align: top\">Height: 32 Width: 32</td>\n",
              "        <td style=\"padding-left: 1em; padding-right: 1em; text-align: center; vertical-align: top\">automobile</td>\n",
              "        <td style=\"padding-left: 1em; padding-right: 1em; text-align: center; vertical-align: top\">[0.0, 0.0, 0.0, 0.0, 0.0,<br>0.157147943974, ...</td>\n",
              "        <td style=\"padding-left: 1em; padding-right: 1em; text-align: center; vertical-align: top\">[110.0, 118.0, 104.0,<br>98.0, 104.0, 80.0, 92.0, ...</td>\n",
              "    </tr>\n",
              "    <tr>\n",
              "        <td style=\"padding-left: 1em; padding-right: 1em; text-align: center; vertical-align: top\">44395</td>\n",
              "        <td style=\"padding-left: 1em; padding-right: 1em; text-align: center; vertical-align: top\">Height: 32 Width: 32</td>\n",
              "        <td style=\"padding-left: 1em; padding-right: 1em; text-align: center; vertical-align: top\">automobile</td>\n",
              "        <td style=\"padding-left: 1em; padding-right: 1em; text-align: center; vertical-align: top\">[0.0, 0.0, 0.0,<br>1.3475843668, 0.0, 0.0, ...</td>\n",
              "        <td style=\"padding-left: 1em; padding-right: 1em; text-align: center; vertical-align: top\">[89.0, 95.0, 50.0, 83.0,<br>84.0, 43.0, 69.0, 70.0, ...</td>\n",
              "    </tr>\n",
              "</table>\n",
              "[5 rows x 5 columns]<br/>\n",
              "</div>"
            ]
          },
          "metadata": {
            "tags": []
          },
          "execution_count": 95
        }
      ]
    },
    {
      "cell_type": "markdown",
      "metadata": {
        "id": "d_RoDaWkyUlK"
      },
      "source": [
        "# Create a lambda function to find and show nearest neighbors to an image\n",
        "### This function will take a label id and will write labels of knn of specific id "
      ]
    },
    {
      "cell_type": "code",
      "metadata": {
        "id": "vGU6nXc5yUlL"
      },
      "source": [
        "show_neighbors = lambda i: get_images_from_ids(knn_model.query(image_data[i:i+1]))['label'].explore()"
      ],
      "execution_count": 96,
      "outputs": []
    },
    {
      "cell_type": "code",
      "metadata": {
        "id": "bvXZBVhZyUlW",
        "outputId": "1ef8cfb4-71e9-42df-b3a1-a3c391760525",
        "colab": {
          "base_uri": "https://localhost:8080/",
          "height": 345
        }
      },
      "source": [
        "show_neighbors(8)"
      ],
      "execution_count": 97,
      "outputs": [
        {
          "output_type": "display_data",
          "data": {
            "text/plain": [
              "Starting pairwise querying."
            ],
            "text/html": [
              "<pre>Starting pairwise querying.</pre>"
            ]
          },
          "metadata": {
            "tags": []
          }
        },
        {
          "output_type": "display_data",
          "data": {
            "text/plain": [
              "+--------------+---------+-------------+--------------+"
            ],
            "text/html": [
              "<pre>+--------------+---------+-------------+--------------+</pre>"
            ]
          },
          "metadata": {
            "tags": []
          }
        },
        {
          "output_type": "display_data",
          "data": {
            "text/plain": [
              "| Query points | # Pairs | % Complete. | Elapsed Time |"
            ],
            "text/html": [
              "<pre>| Query points | # Pairs | % Complete. | Elapsed Time |</pre>"
            ]
          },
          "metadata": {
            "tags": []
          }
        },
        {
          "output_type": "display_data",
          "data": {
            "text/plain": [
              "+--------------+---------+-------------+--------------+"
            ],
            "text/html": [
              "<pre>+--------------+---------+-------------+--------------+</pre>"
            ]
          },
          "metadata": {
            "tags": []
          }
        },
        {
          "output_type": "display_data",
          "data": {
            "text/plain": [
              "| 0            | 1       | 0.0498753   | 12.035ms     |"
            ],
            "text/html": [
              "<pre>| 0            | 1       | 0.0498753   | 12.035ms     |</pre>"
            ]
          },
          "metadata": {
            "tags": []
          }
        },
        {
          "output_type": "display_data",
          "data": {
            "text/plain": [
              "| Done         |         | 100         | 232.611ms    |"
            ],
            "text/html": [
              "<pre>| Done         |         | 100         | 232.611ms    |</pre>"
            ]
          },
          "metadata": {
            "tags": []
          }
        },
        {
          "output_type": "display_data",
          "data": {
            "text/plain": [
              "+--------------+---------+-------------+--------------+"
            ],
            "text/html": [
              "<pre>+--------------+---------+-------------+--------------+</pre>"
            ]
          },
          "metadata": {
            "tags": []
          }
        },
        {
          "output_type": "display_data",
          "data": {
            "text/plain": [
              "<IPython.core.display.HTML object>"
            ],
            "text/html": [
              "<html lang=\"en\">                                                     <head>                                                               <style>                                                              .sframe {                                                            font-size: 12px;                                                   font-family: HelveticaNeue;                                        border: 1px solid silver;                                        }                                                                  .sframe thead th {                                                   background: #F7F7F7;                                               font-family: HelveticaNeue-Medium;                                 font-size: 14px;                                                   line-height: 16.8px;                                               padding-top: 16px;                                                 padding-bottom: 16px;                                              padding-left: 10px;                                                padding-right: 38px;                                               border-top: 1px solid #E9E9E9;                                     border-bottom: 1px solid #E9E9E9;                                  white-space: nowrap;                                               overflow: hidden;                                                  text-overflow:ellipsis;                                            text-align:center;                                                 font-weight:normal;                                              }                                                                  .sframe tbody th {                                                   background: #FFFFFF;                                               text-align:left;                                                   font-weight:normal;                                                border-right: 1px solid #E9E9E9;                                 }                                                                  .sframe td {                                                         background: #FFFFFF;                                               padding-left: 10px;                                                padding-right: 38px;                                               padding-top: 14px;                                                 padding-bottom: 14px;                                              border-bottom: 1px solid #E9E9E9;                                  max-height: 0px;                                                   transition: max-height 5s ease-out;                                vertical-align: middle;                                            font-family: HelveticaNeue;                                        font-size: 12px;                                                   line-height: 16.8px;                                               background: #FFFFFF;                                             }                                                                  .sframe tr {                                                         padding-left: 10px;                                                padding-right: 38px;                                               padding-top: 14px;                                                 padding-bottom: 14px;                                              border-bottom: 1px solid #E9E9E9;                                  max-height: 0px;                                                   transition: max-height 5s ease-out;                                vertical-align: middle;                                            font-family: HelveticaNeue;                                        font-size: 12px;                                                   line-height: 16.8px;                                               background: #FFFFFF;                                             }                                                                  .sframe tr:hover {                                                   background: silver;                                              },                                                               </style>                                                         </head>                                                            <body>                                                               <h1>  </h1>                                             <table border=\"1\" class=\"dataframe sframe\">\n",
              "  <thead>\n",
              "    <tr style=\"text-align: right;\">\n",
              "      <th></th>\n",
              "      <th>SArray</th>\n",
              "    </tr>\n",
              "  </thead>\n",
              "  <tbody>\n",
              "    <tr>\n",
              "      <th>0</th>\n",
              "      <td>automobile</td>\n",
              "    </tr>\n",
              "    <tr>\n",
              "      <th>1</th>\n",
              "      <td>automobile</td>\n",
              "    </tr>\n",
              "    <tr>\n",
              "      <th>2</th>\n",
              "      <td>automobile</td>\n",
              "    </tr>\n",
              "    <tr>\n",
              "      <th>3</th>\n",
              "      <td>automobile</td>\n",
              "    </tr>\n",
              "    <tr>\n",
              "      <th>4</th>\n",
              "      <td>automobile</td>\n",
              "    </tr>\n",
              "  </tbody>\n",
              "</table>                          </body>                                                          </html>"
            ]
          },
          "metadata": {
            "tags": []
          }
        }
      ]
    },
    {
      "cell_type": "code",
      "metadata": {
        "id": "oNbUJjNyyUlh",
        "outputId": "79e70f51-8675-4bf1-e430-d99b33a9b656",
        "colab": {
          "base_uri": "https://localhost:8080/",
          "height": 345
        }
      },
      "source": [
        "show_neighbors(27)"
      ],
      "execution_count": 98,
      "outputs": [
        {
          "output_type": "display_data",
          "data": {
            "text/plain": [
              "Starting pairwise querying."
            ],
            "text/html": [
              "<pre>Starting pairwise querying.</pre>"
            ]
          },
          "metadata": {
            "tags": []
          }
        },
        {
          "output_type": "display_data",
          "data": {
            "text/plain": [
              "+--------------+---------+-------------+--------------+"
            ],
            "text/html": [
              "<pre>+--------------+---------+-------------+--------------+</pre>"
            ]
          },
          "metadata": {
            "tags": []
          }
        },
        {
          "output_type": "display_data",
          "data": {
            "text/plain": [
              "| Query points | # Pairs | % Complete. | Elapsed Time |"
            ],
            "text/html": [
              "<pre>| Query points | # Pairs | % Complete. | Elapsed Time |</pre>"
            ]
          },
          "metadata": {
            "tags": []
          }
        },
        {
          "output_type": "display_data",
          "data": {
            "text/plain": [
              "+--------------+---------+-------------+--------------+"
            ],
            "text/html": [
              "<pre>+--------------+---------+-------------+--------------+</pre>"
            ]
          },
          "metadata": {
            "tags": []
          }
        },
        {
          "output_type": "display_data",
          "data": {
            "text/plain": [
              "| 0            | 1       | 0.0498753   | 19.82ms      |"
            ],
            "text/html": [
              "<pre>| 0            | 1       | 0.0498753   | 19.82ms      |</pre>"
            ]
          },
          "metadata": {
            "tags": []
          }
        },
        {
          "output_type": "display_data",
          "data": {
            "text/plain": [
              "| Done         |         | 100         | 243.912ms    |"
            ],
            "text/html": [
              "<pre>| Done         |         | 100         | 243.912ms    |</pre>"
            ]
          },
          "metadata": {
            "tags": []
          }
        },
        {
          "output_type": "display_data",
          "data": {
            "text/plain": [
              "+--------------+---------+-------------+--------------+"
            ],
            "text/html": [
              "<pre>+--------------+---------+-------------+--------------+</pre>"
            ]
          },
          "metadata": {
            "tags": []
          }
        },
        {
          "output_type": "display_data",
          "data": {
            "text/plain": [
              "<IPython.core.display.HTML object>"
            ],
            "text/html": [
              "<html lang=\"en\">                                                     <head>                                                               <style>                                                              .sframe {                                                            font-size: 12px;                                                   font-family: HelveticaNeue;                                        border: 1px solid silver;                                        }                                                                  .sframe thead th {                                                   background: #F7F7F7;                                               font-family: HelveticaNeue-Medium;                                 font-size: 14px;                                                   line-height: 16.8px;                                               padding-top: 16px;                                                 padding-bottom: 16px;                                              padding-left: 10px;                                                padding-right: 38px;                                               border-top: 1px solid #E9E9E9;                                     border-bottom: 1px solid #E9E9E9;                                  white-space: nowrap;                                               overflow: hidden;                                                  text-overflow:ellipsis;                                            text-align:center;                                                 font-weight:normal;                                              }                                                                  .sframe tbody th {                                                   background: #FFFFFF;                                               text-align:left;                                                   font-weight:normal;                                                border-right: 1px solid #E9E9E9;                                 }                                                                  .sframe td {                                                         background: #FFFFFF;                                               padding-left: 10px;                                                padding-right: 38px;                                               padding-top: 14px;                                                 padding-bottom: 14px;                                              border-bottom: 1px solid #E9E9E9;                                  max-height: 0px;                                                   transition: max-height 5s ease-out;                                vertical-align: middle;                                            font-family: HelveticaNeue;                                        font-size: 12px;                                                   line-height: 16.8px;                                               background: #FFFFFF;                                             }                                                                  .sframe tr {                                                         padding-left: 10px;                                                padding-right: 38px;                                               padding-top: 14px;                                                 padding-bottom: 14px;                                              border-bottom: 1px solid #E9E9E9;                                  max-height: 0px;                                                   transition: max-height 5s ease-out;                                vertical-align: middle;                                            font-family: HelveticaNeue;                                        font-size: 12px;                                                   line-height: 16.8px;                                               background: #FFFFFF;                                             }                                                                  .sframe tr:hover {                                                   background: silver;                                              },                                                               </style>                                                         </head>                                                            <body>                                                               <h1>  </h1>                                             <table border=\"1\" class=\"dataframe sframe\">\n",
              "  <thead>\n",
              "    <tr style=\"text-align: right;\">\n",
              "      <th></th>\n",
              "      <th>SArray</th>\n",
              "    </tr>\n",
              "  </thead>\n",
              "  <tbody>\n",
              "    <tr>\n",
              "      <th>0</th>\n",
              "      <td>cat</td>\n",
              "    </tr>\n",
              "    <tr>\n",
              "      <th>1</th>\n",
              "      <td>cat</td>\n",
              "    </tr>\n",
              "    <tr>\n",
              "      <th>2</th>\n",
              "      <td>cat</td>\n",
              "    </tr>\n",
              "    <tr>\n",
              "      <th>3</th>\n",
              "      <td>dog</td>\n",
              "    </tr>\n",
              "    <tr>\n",
              "      <th>4</th>\n",
              "      <td>cat</td>\n",
              "    </tr>\n",
              "  </tbody>\n",
              "</table>                          </body>                                                          </html>"
            ]
          },
          "metadata": {
            "tags": []
          }
        }
      ]
    },
    {
      "cell_type": "markdown",
      "metadata": {
        "id": "dVHzyLgVh30h"
      },
      "source": [
        "#### we can figure out how many times specific label is used in the table using Sketch function "
      ]
    },
    {
      "cell_type": "code",
      "metadata": {
        "id": "xxZCOwYoyUmA"
      },
      "source": [
        "sketch = turicreate.Sketch(image_data['label'])"
      ],
      "execution_count": 99,
      "outputs": []
    },
    {
      "cell_type": "code",
      "metadata": {
        "id": "h4p15Igm5GGo",
        "outputId": "89e6cdc2-f8f5-4393-f39d-91b53c23a436",
        "colab": {
          "base_uri": "https://localhost:8080/"
        }
      },
      "source": [
        "sketch"
      ],
      "execution_count": 100,
      "outputs": [
        {
          "output_type": "execute_result",
          "data": {
            "text/plain": [
              "\n",
              "+------------------+-------+----------+\n",
              "|       item       | value | is exact |\n",
              "+------------------+-------+----------+\n",
              "|      Length      |  2005 |   Yes    |\n",
              "| # Missing Values |   0   |   Yes    |\n",
              "| # unique values  |   4   |    No    |\n",
              "+------------------+-------+----------+\n",
              "\n",
              "Most frequent items:\n",
              "+------------+-------+\n",
              "|   value    | count |\n",
              "+------------+-------+\n",
              "| automobile |  509  |\n",
              "|    cat     |  509  |\n",
              "|    dog     |  509  |\n",
              "|    bird    |  478  |\n",
              "+------------+-------+\n"
            ]
          },
          "metadata": {
            "tags": []
          },
          "execution_count": 100
        }
      ]
    },
    {
      "cell_type": "markdown",
      "metadata": {
        "id": "DiuVoMyjiai6"
      },
      "source": [
        "## Let's create a model for all four categories\n",
        "* We will filter out train data for these categories.\n",
        "* Then, we can create respective nearest neighbor model for them.\n",
        " "
      ]
    },
    {
      "cell_type": "code",
      "metadata": {
        "id": "BuxzvWnS5HQD"
      },
      "source": [
        "dog_train_data = image_data[image_data['label'] == 'dog']"
      ],
      "execution_count": 101,
      "outputs": []
    },
    {
      "cell_type": "code",
      "metadata": {
        "id": "zsvCs2S06guK",
        "outputId": "238538d6-99ac-4ef0-bc70-37b21d238a93",
        "colab": {
          "base_uri": "https://localhost:8080/",
          "height": 449
        }
      },
      "source": [
        "dog_train_data"
      ],
      "execution_count": 102,
      "outputs": [
        {
          "output_type": "execute_result",
          "data": {
            "text/plain": [
              "Columns:\n",
              "\tid\tint\n",
              "\timage\tImage\n",
              "\tlabel\tstr\n",
              "\tdeep_features\tarray\n",
              "\timage_array\tarray\n",
              "\n",
              "Rows: 509\n",
              "\n",
              "Data:\n",
              "+------+----------------------+-------+-------------------------------+\n",
              "|  id  |        image         | label |         deep_features         |\n",
              "+------+----------------------+-------+-------------------------------+\n",
              "|  70  | Height: 32 Width: 32 |  dog  | [1.12979578972, 0.0, 0.0, ... |\n",
              "| 107  | Height: 32 Width: 32 |  dog  | [0.0, 0.0, 0.220677852631,... |\n",
              "| 177  | Height: 32 Width: 32 |  dog  | [0.0, 1.45965671539, 0.0, ... |\n",
              "| 424  | Height: 32 Width: 32 |  dog  | [0.942399680614, 0.0, 0.22... |\n",
              "| 462  | Height: 32 Width: 32 |  dog  | [1.43462562561, 0.0, 0.0, ... |\n",
              "| 542  | Height: 32 Width: 32 |  dog  | [0.451547086239, 0.0, 0.0,... |\n",
              "| 573  | Height: 32 Width: 32 |  dog  | [0.592360973358, 0.0, 0.0,... |\n",
              "| 851  | Height: 32 Width: 32 |  dog  | [0.690123438835, 0.0, 0.0,... |\n",
              "| 919  | Height: 32 Width: 32 |  dog  | [0.0, 0.177558660507, 0.13... |\n",
              "| 1172 | Height: 32 Width: 32 |  dog  | [0.517601490021, 0.0, 1.96... |\n",
              "+------+----------------------+-------+-------------------------------+\n",
              "+-------------------------------+\n",
              "|          image_array          |\n",
              "+-------------------------------+\n",
              "| [154.0, 179.0, 152.0, 159.... |\n",
              "| [97.0, 51.0, 31.0, 104.0, ... |\n",
              "| [55.0, 75.0, 42.0, 51.0, 7... |\n",
              "| [60.0, 35.0, 18.0, 63.0, 4... |\n",
              "| [86.0, 69.0, 75.0, 57.0, 4... |\n",
              "| [196.0, 174.0, 113.0, 140.... |\n",
              "| [153.0, 103.0, 52.0, 151.0... |\n",
              "| [39.0, 6.0, 4.0, 53.0, 23.... |\n",
              "| [29.0, 43.0, 4.0, 24.0, 35... |\n",
              "| [182.0, 180.0, 197.0, 196.... |\n",
              "+-------------------------------+\n",
              "[509 rows x 5 columns]\n",
              "Note: Only the head of the SFrame is printed.\n",
              "You can use print_rows(num_rows=m, num_columns=n) to print more rows and columns."
            ],
            "text/html": [
              "<div style=\"max-height:1000px;max-width:1500px;overflow:auto;\"><table frame=\"box\" rules=\"cols\">\n",
              "    <tr>\n",
              "        <th style=\"padding-left: 1em; padding-right: 1em; text-align: center\">id</th>\n",
              "        <th style=\"padding-left: 1em; padding-right: 1em; text-align: center\">image</th>\n",
              "        <th style=\"padding-left: 1em; padding-right: 1em; text-align: center\">label</th>\n",
              "        <th style=\"padding-left: 1em; padding-right: 1em; text-align: center\">deep_features</th>\n",
              "        <th style=\"padding-left: 1em; padding-right: 1em; text-align: center\">image_array</th>\n",
              "    </tr>\n",
              "    <tr>\n",
              "        <td style=\"padding-left: 1em; padding-right: 1em; text-align: center; vertical-align: top\">70</td>\n",
              "        <td style=\"padding-left: 1em; padding-right: 1em; text-align: center; vertical-align: top\">Height: 32 Width: 32</td>\n",
              "        <td style=\"padding-left: 1em; padding-right: 1em; text-align: center; vertical-align: top\">dog</td>\n",
              "        <td style=\"padding-left: 1em; padding-right: 1em; text-align: center; vertical-align: top\">[1.12979578972, 0.0, 0.0,<br>0.778194487095, 0.0, ...</td>\n",
              "        <td style=\"padding-left: 1em; padding-right: 1em; text-align: center; vertical-align: top\">[154.0, 179.0, 152.0,<br>159.0, 183.0, 157.0, ...</td>\n",
              "    </tr>\n",
              "    <tr>\n",
              "        <td style=\"padding-left: 1em; padding-right: 1em; text-align: center; vertical-align: top\">107</td>\n",
              "        <td style=\"padding-left: 1em; padding-right: 1em; text-align: center; vertical-align: top\">Height: 32 Width: 32</td>\n",
              "        <td style=\"padding-left: 1em; padding-right: 1em; text-align: center; vertical-align: top\">dog</td>\n",
              "        <td style=\"padding-left: 1em; padding-right: 1em; text-align: center; vertical-align: top\">[0.0, 0.0,<br>0.220677852631, 0.0,  ...</td>\n",
              "        <td style=\"padding-left: 1em; padding-right: 1em; text-align: center; vertical-align: top\">[97.0, 51.0, 31.0, 104.0,<br>58.0, 38.0, 107.0, 61.0, ...</td>\n",
              "    </tr>\n",
              "    <tr>\n",
              "        <td style=\"padding-left: 1em; padding-right: 1em; text-align: center; vertical-align: top\">177</td>\n",
              "        <td style=\"padding-left: 1em; padding-right: 1em; text-align: center; vertical-align: top\">Height: 32 Width: 32</td>\n",
              "        <td style=\"padding-left: 1em; padding-right: 1em; text-align: center; vertical-align: top\">dog</td>\n",
              "        <td style=\"padding-left: 1em; padding-right: 1em; text-align: center; vertical-align: top\">[0.0, 1.45965671539, 0.0,<br>0.422992348671, 0.0,  ...</td>\n",
              "        <td style=\"padding-left: 1em; padding-right: 1em; text-align: center; vertical-align: top\">[55.0, 75.0, 42.0, 51.0,<br>76.0, 37.0, 57.0, 83.0, ...</td>\n",
              "    </tr>\n",
              "    <tr>\n",
              "        <td style=\"padding-left: 1em; padding-right: 1em; text-align: center; vertical-align: top\">424</td>\n",
              "        <td style=\"padding-left: 1em; padding-right: 1em; text-align: center; vertical-align: top\">Height: 32 Width: 32</td>\n",
              "        <td style=\"padding-left: 1em; padding-right: 1em; text-align: center; vertical-align: top\">dog</td>\n",
              "        <td style=\"padding-left: 1em; padding-right: 1em; text-align: center; vertical-align: top\">[0.942399680614, 0.0,<br>0.220352768898, 0.0,  ...</td>\n",
              "        <td style=\"padding-left: 1em; padding-right: 1em; text-align: center; vertical-align: top\">[60.0, 35.0, 18.0, 63.0,<br>49.0, 38.0, 66.0, 56.0, ...</td>\n",
              "    </tr>\n",
              "    <tr>\n",
              "        <td style=\"padding-left: 1em; padding-right: 1em; text-align: center; vertical-align: top\">462</td>\n",
              "        <td style=\"padding-left: 1em; padding-right: 1em; text-align: center; vertical-align: top\">Height: 32 Width: 32</td>\n",
              "        <td style=\"padding-left: 1em; padding-right: 1em; text-align: center; vertical-align: top\">dog</td>\n",
              "        <td style=\"padding-left: 1em; padding-right: 1em; text-align: center; vertical-align: top\">[1.43462562561, 0.0, 0.0,<br>0.0, 0.0, 0.0, ...</td>\n",
              "        <td style=\"padding-left: 1em; padding-right: 1em; text-align: center; vertical-align: top\">[86.0, 69.0, 75.0, 57.0,<br>41.0, 48.0, 46.0, 35.0, ...</td>\n",
              "    </tr>\n",
              "    <tr>\n",
              "        <td style=\"padding-left: 1em; padding-right: 1em; text-align: center; vertical-align: top\">542</td>\n",
              "        <td style=\"padding-left: 1em; padding-right: 1em; text-align: center; vertical-align: top\">Height: 32 Width: 32</td>\n",
              "        <td style=\"padding-left: 1em; padding-right: 1em; text-align: center; vertical-align: top\">dog</td>\n",
              "        <td style=\"padding-left: 1em; padding-right: 1em; text-align: center; vertical-align: top\">[0.451547086239, 0.0,<br>0.0, 0.0, 0.0, 0.0, ...</td>\n",
              "        <td style=\"padding-left: 1em; padding-right: 1em; text-align: center; vertical-align: top\">[196.0, 174.0, 113.0,<br>140.0, 117.0, 65.0, 8 ...</td>\n",
              "    </tr>\n",
              "    <tr>\n",
              "        <td style=\"padding-left: 1em; padding-right: 1em; text-align: center; vertical-align: top\">573</td>\n",
              "        <td style=\"padding-left: 1em; padding-right: 1em; text-align: center; vertical-align: top\">Height: 32 Width: 32</td>\n",
              "        <td style=\"padding-left: 1em; padding-right: 1em; text-align: center; vertical-align: top\">dog</td>\n",
              "        <td style=\"padding-left: 1em; padding-right: 1em; text-align: center; vertical-align: top\">[0.592360973358, 0.0,<br>0.0, 0.0, 0.0, 0.0, ...</td>\n",
              "        <td style=\"padding-left: 1em; padding-right: 1em; text-align: center; vertical-align: top\">[153.0, 103.0, 52.0,<br>151.0, 102.0, 49.0, ...</td>\n",
              "    </tr>\n",
              "    <tr>\n",
              "        <td style=\"padding-left: 1em; padding-right: 1em; text-align: center; vertical-align: top\">851</td>\n",
              "        <td style=\"padding-left: 1em; padding-right: 1em; text-align: center; vertical-align: top\">Height: 32 Width: 32</td>\n",
              "        <td style=\"padding-left: 1em; padding-right: 1em; text-align: center; vertical-align: top\">dog</td>\n",
              "        <td style=\"padding-left: 1em; padding-right: 1em; text-align: center; vertical-align: top\">[0.690123438835, 0.0,<br>0.0, 0.0, 0.305860161 ...</td>\n",
              "        <td style=\"padding-left: 1em; padding-right: 1em; text-align: center; vertical-align: top\">[39.0, 6.0, 4.0, 53.0,<br>23.0, 24.0, 57.0, 37.0, ...</td>\n",
              "    </tr>\n",
              "    <tr>\n",
              "        <td style=\"padding-left: 1em; padding-right: 1em; text-align: center; vertical-align: top\">919</td>\n",
              "        <td style=\"padding-left: 1em; padding-right: 1em; text-align: center; vertical-align: top\">Height: 32 Width: 32</td>\n",
              "        <td style=\"padding-left: 1em; padding-right: 1em; text-align: center; vertical-align: top\">dog</td>\n",
              "        <td style=\"padding-left: 1em; padding-right: 1em; text-align: center; vertical-align: top\">[0.0, 0.177558660507,<br>0.139396846294, 0.0, ...</td>\n",
              "        <td style=\"padding-left: 1em; padding-right: 1em; text-align: center; vertical-align: top\">[29.0, 43.0, 4.0, 24.0,<br>35.0, 6.0, 24.0, 37.0, ...</td>\n",
              "    </tr>\n",
              "    <tr>\n",
              "        <td style=\"padding-left: 1em; padding-right: 1em; text-align: center; vertical-align: top\">1172</td>\n",
              "        <td style=\"padding-left: 1em; padding-right: 1em; text-align: center; vertical-align: top\">Height: 32 Width: 32</td>\n",
              "        <td style=\"padding-left: 1em; padding-right: 1em; text-align: center; vertical-align: top\">dog</td>\n",
              "        <td style=\"padding-left: 1em; padding-right: 1em; text-align: center; vertical-align: top\">[0.517601490021, 0.0,<br>1.96418333054, 0.0, 0.0, ...</td>\n",
              "        <td style=\"padding-left: 1em; padding-right: 1em; text-align: center; vertical-align: top\">[182.0, 180.0, 197.0,<br>196.0, 192.0, 209.0, ...</td>\n",
              "    </tr>\n",
              "</table>\n",
              "[509 rows x 5 columns]<br/>Note: Only the head of the SFrame is printed.<br/>You can use print_rows(num_rows=m, num_columns=n) to print more rows and columns.\n",
              "</div>"
            ]
          },
          "metadata": {
            "tags": []
          },
          "execution_count": 102
        }
      ]
    },
    {
      "cell_type": "code",
      "metadata": {
        "id": "sTGhb-zf6UHl",
        "outputId": "234ac7e5-11d3-4eb2-9261-c0a902e2f5d7",
        "colab": {
          "base_uri": "https://localhost:8080/",
          "height": 102
        }
      },
      "source": [
        "dog_model = turicreate.nearest_neighbors.create(dog_train_data,\n",
        "                                                features=['deep_features'],\n",
        "                                                label='id')"
      ],
      "execution_count": 103,
      "outputs": [
        {
          "output_type": "display_data",
          "data": {
            "text/plain": [
              "Starting brute force nearest neighbors model training."
            ],
            "text/html": [
              "<pre>Starting brute force nearest neighbors model training.</pre>"
            ]
          },
          "metadata": {
            "tags": []
          }
        },
        {
          "output_type": "display_data",
          "data": {
            "text/plain": [
              "Validating distance components."
            ],
            "text/html": [
              "<pre>Validating distance components.</pre>"
            ]
          },
          "metadata": {
            "tags": []
          }
        },
        {
          "output_type": "display_data",
          "data": {
            "text/plain": [
              "Initializing model data."
            ],
            "text/html": [
              "<pre>Initializing model data.</pre>"
            ]
          },
          "metadata": {
            "tags": []
          }
        },
        {
          "output_type": "display_data",
          "data": {
            "text/plain": [
              "Initializing distances."
            ],
            "text/html": [
              "<pre>Initializing distances.</pre>"
            ]
          },
          "metadata": {
            "tags": []
          }
        },
        {
          "output_type": "display_data",
          "data": {
            "text/plain": [
              "Done."
            ],
            "text/html": [
              "<pre>Done.</pre>"
            ]
          },
          "metadata": {
            "tags": []
          }
        }
      ]
    },
    {
      "cell_type": "code",
      "metadata": {
        "id": "fdDGb31s9mGA"
      },
      "source": [
        "bird_train_data = image_data[image_data['label'] == 'bird']"
      ],
      "execution_count": 104,
      "outputs": []
    },
    {
      "cell_type": "code",
      "metadata": {
        "id": "D-jF4mR--EgA",
        "outputId": "7a133523-8c89-488b-a091-d8fa8e2c2bb7",
        "colab": {
          "base_uri": "https://localhost:8080/",
          "height": 102
        }
      },
      "source": [
        "bird_model = turicreate.nearest_neighbors.create(bird_train_data,\n",
        "                                                 features=['deep_features'],\n",
        "                                                 label='id')"
      ],
      "execution_count": 105,
      "outputs": [
        {
          "output_type": "display_data",
          "data": {
            "text/plain": [
              "Starting brute force nearest neighbors model training."
            ],
            "text/html": [
              "<pre>Starting brute force nearest neighbors model training.</pre>"
            ]
          },
          "metadata": {
            "tags": []
          }
        },
        {
          "output_type": "display_data",
          "data": {
            "text/plain": [
              "Validating distance components."
            ],
            "text/html": [
              "<pre>Validating distance components.</pre>"
            ]
          },
          "metadata": {
            "tags": []
          }
        },
        {
          "output_type": "display_data",
          "data": {
            "text/plain": [
              "Initializing model data."
            ],
            "text/html": [
              "<pre>Initializing model data.</pre>"
            ]
          },
          "metadata": {
            "tags": []
          }
        },
        {
          "output_type": "display_data",
          "data": {
            "text/plain": [
              "Initializing distances."
            ],
            "text/html": [
              "<pre>Initializing distances.</pre>"
            ]
          },
          "metadata": {
            "tags": []
          }
        },
        {
          "output_type": "display_data",
          "data": {
            "text/plain": [
              "Done."
            ],
            "text/html": [
              "<pre>Done.</pre>"
            ]
          },
          "metadata": {
            "tags": []
          }
        }
      ]
    },
    {
      "cell_type": "code",
      "metadata": {
        "id": "XWDlToQq6PES"
      },
      "source": [
        "cat_train_data = image_data[image_data['label'] == 'cat']"
      ],
      "execution_count": 106,
      "outputs": []
    },
    {
      "cell_type": "code",
      "metadata": {
        "id": "L5Woek7-6zWd",
        "outputId": "82ab2d0b-94ba-4f75-e309-451f77c1fa5d",
        "colab": {
          "base_uri": "https://localhost:8080/",
          "height": 102
        }
      },
      "source": [
        "cat_model = turicreate.nearest_neighbors.create(cat_train_data,\n",
        "                                                features=['deep_features'],\n",
        "                                                label='id')"
      ],
      "execution_count": 107,
      "outputs": [
        {
          "output_type": "display_data",
          "data": {
            "text/plain": [
              "Starting brute force nearest neighbors model training."
            ],
            "text/html": [
              "<pre>Starting brute force nearest neighbors model training.</pre>"
            ]
          },
          "metadata": {
            "tags": []
          }
        },
        {
          "output_type": "display_data",
          "data": {
            "text/plain": [
              "Validating distance components."
            ],
            "text/html": [
              "<pre>Validating distance components.</pre>"
            ]
          },
          "metadata": {
            "tags": []
          }
        },
        {
          "output_type": "display_data",
          "data": {
            "text/plain": [
              "Initializing model data."
            ],
            "text/html": [
              "<pre>Initializing model data.</pre>"
            ]
          },
          "metadata": {
            "tags": []
          }
        },
        {
          "output_type": "display_data",
          "data": {
            "text/plain": [
              "Initializing distances."
            ],
            "text/html": [
              "<pre>Initializing distances.</pre>"
            ]
          },
          "metadata": {
            "tags": []
          }
        },
        {
          "output_type": "display_data",
          "data": {
            "text/plain": [
              "Done."
            ],
            "text/html": [
              "<pre>Done.</pre>"
            ]
          },
          "metadata": {
            "tags": []
          }
        }
      ]
    },
    {
      "cell_type": "code",
      "metadata": {
        "id": "CDLHdgxB9Zd0"
      },
      "source": [
        "automobile_train_data = image_data[image_data['label'] == 'automobile']"
      ],
      "execution_count": 108,
      "outputs": []
    },
    {
      "cell_type": "code",
      "metadata": {
        "id": "qZfDd0yn9thc",
        "outputId": "78003ea3-96de-404d-a4cc-e073e5555c33",
        "colab": {
          "base_uri": "https://localhost:8080/",
          "height": 102
        }
      },
      "source": [
        "automobile_model = turicreate.nearest_neighbors.create(automobile_train_data,\n",
        "                                                       features=['deep_features'],\n",
        "                                                       label='id')"
      ],
      "execution_count": 109,
      "outputs": [
        {
          "output_type": "display_data",
          "data": {
            "text/plain": [
              "Starting brute force nearest neighbors model training."
            ],
            "text/html": [
              "<pre>Starting brute force nearest neighbors model training.</pre>"
            ]
          },
          "metadata": {
            "tags": []
          }
        },
        {
          "output_type": "display_data",
          "data": {
            "text/plain": [
              "Validating distance components."
            ],
            "text/html": [
              "<pre>Validating distance components.</pre>"
            ]
          },
          "metadata": {
            "tags": []
          }
        },
        {
          "output_type": "display_data",
          "data": {
            "text/plain": [
              "Initializing model data."
            ],
            "text/html": [
              "<pre>Initializing model data.</pre>"
            ]
          },
          "metadata": {
            "tags": []
          }
        },
        {
          "output_type": "display_data",
          "data": {
            "text/plain": [
              "Initializing distances."
            ],
            "text/html": [
              "<pre>Initializing distances.</pre>"
            ]
          },
          "metadata": {
            "tags": []
          }
        },
        {
          "output_type": "display_data",
          "data": {
            "text/plain": [
              "Done."
            ],
            "text/html": [
              "<pre>Done.</pre>"
            ]
          },
          "metadata": {
            "tags": []
          }
        }
      ]
    },
    {
      "cell_type": "markdown",
      "metadata": {
        "id": "pkANAcpXkwCH"
      },
      "source": [
        "## Now, We will upload the test data and can quering diffenrent models"
      ]
    },
    {
      "cell_type": "code",
      "metadata": {
        "id": "1fd03xxT7ejn"
      },
      "source": [
        "test_image_data = turicreate.SFrame('/content/drive/My Drive/Coursera/image_test_data')"
      ],
      "execution_count": 110,
      "outputs": []
    },
    {
      "cell_type": "markdown",
      "metadata": {
        "id": "KNmT1dhFmUYz"
      },
      "source": [
        "##### Following function will us the cat_model and will shows label of knn of specific obejct  "
      ]
    },
    {
      "cell_type": "code",
      "metadata": {
        "id": "l7cPd0P47YP3"
      },
      "source": [
        "show_neighbors_test = lambda i: get_images_from_ids(cat_model.query(test_image_data[i:i+1]))['label'].explore()"
      ],
      "execution_count": 111,
      "outputs": []
    },
    {
      "cell_type": "code",
      "metadata": {
        "id": "lY2vipxP7DTN",
        "outputId": "6b80ff6d-5215-4375-dd92-2cb6d6aa6b07",
        "colab": {
          "base_uri": "https://localhost:8080/",
          "height": 345
        }
      },
      "source": [
        "show_neighbors_test(0)  # From the data exploration we know that the 0th object is cat."
      ],
      "execution_count": 112,
      "outputs": [
        {
          "output_type": "display_data",
          "data": {
            "text/plain": [
              "Starting pairwise querying."
            ],
            "text/html": [
              "<pre>Starting pairwise querying.</pre>"
            ]
          },
          "metadata": {
            "tags": []
          }
        },
        {
          "output_type": "display_data",
          "data": {
            "text/plain": [
              "+--------------+---------+-------------+--------------+"
            ],
            "text/html": [
              "<pre>+--------------+---------+-------------+--------------+</pre>"
            ]
          },
          "metadata": {
            "tags": []
          }
        },
        {
          "output_type": "display_data",
          "data": {
            "text/plain": [
              "| Query points | # Pairs | % Complete. | Elapsed Time |"
            ],
            "text/html": [
              "<pre>| Query points | # Pairs | % Complete. | Elapsed Time |</pre>"
            ]
          },
          "metadata": {
            "tags": []
          }
        },
        {
          "output_type": "display_data",
          "data": {
            "text/plain": [
              "+--------------+---------+-------------+--------------+"
            ],
            "text/html": [
              "<pre>+--------------+---------+-------------+--------------+</pre>"
            ]
          },
          "metadata": {
            "tags": []
          }
        },
        {
          "output_type": "display_data",
          "data": {
            "text/plain": [
              "| 0            | 1       | 0.196464    | 20.389ms     |"
            ],
            "text/html": [
              "<pre>| 0            | 1       | 0.196464    | 20.389ms     |</pre>"
            ]
          },
          "metadata": {
            "tags": []
          }
        },
        {
          "output_type": "display_data",
          "data": {
            "text/plain": [
              "| Done         |         | 100         | 74.348ms     |"
            ],
            "text/html": [
              "<pre>| Done         |         | 100         | 74.348ms     |</pre>"
            ]
          },
          "metadata": {
            "tags": []
          }
        },
        {
          "output_type": "display_data",
          "data": {
            "text/plain": [
              "+--------------+---------+-------------+--------------+"
            ],
            "text/html": [
              "<pre>+--------------+---------+-------------+--------------+</pre>"
            ]
          },
          "metadata": {
            "tags": []
          }
        },
        {
          "output_type": "display_data",
          "data": {
            "text/plain": [
              "<IPython.core.display.HTML object>"
            ],
            "text/html": [
              "<html lang=\"en\">                                                     <head>                                                               <style>                                                              .sframe {                                                            font-size: 12px;                                                   font-family: HelveticaNeue;                                        border: 1px solid silver;                                        }                                                                  .sframe thead th {                                                   background: #F7F7F7;                                               font-family: HelveticaNeue-Medium;                                 font-size: 14px;                                                   line-height: 16.8px;                                               padding-top: 16px;                                                 padding-bottom: 16px;                                              padding-left: 10px;                                                padding-right: 38px;                                               border-top: 1px solid #E9E9E9;                                     border-bottom: 1px solid #E9E9E9;                                  white-space: nowrap;                                               overflow: hidden;                                                  text-overflow:ellipsis;                                            text-align:center;                                                 font-weight:normal;                                              }                                                                  .sframe tbody th {                                                   background: #FFFFFF;                                               text-align:left;                                                   font-weight:normal;                                                border-right: 1px solid #E9E9E9;                                 }                                                                  .sframe td {                                                         background: #FFFFFF;                                               padding-left: 10px;                                                padding-right: 38px;                                               padding-top: 14px;                                                 padding-bottom: 14px;                                              border-bottom: 1px solid #E9E9E9;                                  max-height: 0px;                                                   transition: max-height 5s ease-out;                                vertical-align: middle;                                            font-family: HelveticaNeue;                                        font-size: 12px;                                                   line-height: 16.8px;                                               background: #FFFFFF;                                             }                                                                  .sframe tr {                                                         padding-left: 10px;                                                padding-right: 38px;                                               padding-top: 14px;                                                 padding-bottom: 14px;                                              border-bottom: 1px solid #E9E9E9;                                  max-height: 0px;                                                   transition: max-height 5s ease-out;                                vertical-align: middle;                                            font-family: HelveticaNeue;                                        font-size: 12px;                                                   line-height: 16.8px;                                               background: #FFFFFF;                                             }                                                                  .sframe tr:hover {                                                   background: silver;                                              },                                                               </style>                                                         </head>                                                            <body>                                                               <h1>  </h1>                                             <table border=\"1\" class=\"dataframe sframe\">\n",
              "  <thead>\n",
              "    <tr style=\"text-align: right;\">\n",
              "      <th></th>\n",
              "      <th>SArray</th>\n",
              "    </tr>\n",
              "  </thead>\n",
              "  <tbody>\n",
              "    <tr>\n",
              "      <th>0</th>\n",
              "      <td>cat</td>\n",
              "    </tr>\n",
              "    <tr>\n",
              "      <th>1</th>\n",
              "      <td>cat</td>\n",
              "    </tr>\n",
              "    <tr>\n",
              "      <th>2</th>\n",
              "      <td>cat</td>\n",
              "    </tr>\n",
              "    <tr>\n",
              "      <th>3</th>\n",
              "      <td>cat</td>\n",
              "    </tr>\n",
              "    <tr>\n",
              "      <th>4</th>\n",
              "      <td>cat</td>\n",
              "    </tr>\n",
              "  </tbody>\n",
              "</table>                          </body>                                                          </html>"
            ]
          },
          "metadata": {
            "tags": []
          }
        }
      ]
    },
    {
      "cell_type": "markdown",
      "metadata": {
        "id": "dv1tKz4_m4ID"
      },
      "source": [
        "#### To get the distace between the specific label and its neighbor can be explored as following."
      ]
    },
    {
      "cell_type": "markdown",
      "metadata": {
        "id": "rINR5nCdnMck"
      },
      "source": [
        "Distance for the  **cat model.**"
      ]
    },
    {
      "cell_type": "code",
      "metadata": {
        "id": "lsACO7037nay",
        "outputId": "b054be22-5bef-4327-d122-7a7d5f51dfb6",
        "colab": {
          "base_uri": "https://localhost:8080/",
          "height": 323
        }
      },
      "source": [
        "cat_near = cat_model.query(test_image_data[0:1])\n",
        "print(cat_near)"
      ],
      "execution_count": 113,
      "outputs": [
        {
          "output_type": "display_data",
          "data": {
            "text/plain": [
              "Starting pairwise querying."
            ],
            "text/html": [
              "<pre>Starting pairwise querying.</pre>"
            ]
          },
          "metadata": {
            "tags": []
          }
        },
        {
          "output_type": "display_data",
          "data": {
            "text/plain": [
              "+--------------+---------+-------------+--------------+"
            ],
            "text/html": [
              "<pre>+--------------+---------+-------------+--------------+</pre>"
            ]
          },
          "metadata": {
            "tags": []
          }
        },
        {
          "output_type": "display_data",
          "data": {
            "text/plain": [
              "| Query points | # Pairs | % Complete. | Elapsed Time |"
            ],
            "text/html": [
              "<pre>| Query points | # Pairs | % Complete. | Elapsed Time |</pre>"
            ]
          },
          "metadata": {
            "tags": []
          }
        },
        {
          "output_type": "display_data",
          "data": {
            "text/plain": [
              "+--------------+---------+-------------+--------------+"
            ],
            "text/html": [
              "<pre>+--------------+---------+-------------+--------------+</pre>"
            ]
          },
          "metadata": {
            "tags": []
          }
        },
        {
          "output_type": "display_data",
          "data": {
            "text/plain": [
              "| 0            | 1       | 0.196464    | 12.563ms     |"
            ],
            "text/html": [
              "<pre>| 0            | 1       | 0.196464    | 12.563ms     |</pre>"
            ]
          },
          "metadata": {
            "tags": []
          }
        },
        {
          "output_type": "display_data",
          "data": {
            "text/plain": [
              "| Done         |         | 100         | 76.999ms     |"
            ],
            "text/html": [
              "<pre>| Done         |         | 100         | 76.999ms     |</pre>"
            ]
          },
          "metadata": {
            "tags": []
          }
        },
        {
          "output_type": "display_data",
          "data": {
            "text/plain": [
              "+--------------+---------+-------------+--------------+"
            ],
            "text/html": [
              "<pre>+--------------+---------+-------------+--------------+</pre>"
            ]
          },
          "metadata": {
            "tags": []
          }
        },
        {
          "output_type": "stream",
          "text": [
            "+-------------+-----------------+---------------+------+\n",
            "| query_label | reference_label |    distance   | rank |\n",
            "+-------------+-----------------+---------------+------+\n",
            "|      0      |      16289      |  34.623719208 |  1   |\n",
            "|      0      |      45646      | 36.0068799284 |  2   |\n",
            "|      0      |      32139      | 36.5200813436 |  3   |\n",
            "|      0      |      25713      | 36.7548502521 |  4   |\n",
            "|      0      |       331       | 36.8731228168 |  5   |\n",
            "+-------------+-----------------+---------------+------+\n",
            "[5 rows x 4 columns]\n",
            "\n"
          ],
          "name": "stdout"
        }
      ]
    },
    {
      "cell_type": "code",
      "metadata": {
        "id": "LDYjkFVt8zC3",
        "outputId": "f5bf65c7-080c-45df-f420-20f30ea8fb4c",
        "colab": {
          "base_uri": "https://localhost:8080/"
        }
      },
      "source": [
        "cat_near[0:5]['distance'].mean()"
      ],
      "execution_count": 114,
      "outputs": [
        {
          "output_type": "execute_result",
          "data": {
            "text/plain": [
              "36.15573070978294"
            ]
          },
          "metadata": {
            "tags": []
          },
          "execution_count": 114
        }
      ]
    },
    {
      "cell_type": "markdown",
      "metadata": {
        "id": "W6U8fQqundC3"
      },
      "source": [
        "Distance for the  **dog model.**"
      ]
    },
    {
      "cell_type": "code",
      "metadata": {
        "id": "W_c1Y4YL71M9",
        "outputId": "1da4aa42-4a03-4353-f253-83f3d20b3d8f",
        "colab": {
          "base_uri": "https://localhost:8080/",
          "height": 323
        }
      },
      "source": [
        "dog_near=dog_model.query(test_image_data[0:1])\n",
        "print(dog_near)"
      ],
      "execution_count": 115,
      "outputs": [
        {
          "output_type": "display_data",
          "data": {
            "text/plain": [
              "Starting pairwise querying."
            ],
            "text/html": [
              "<pre>Starting pairwise querying.</pre>"
            ]
          },
          "metadata": {
            "tags": []
          }
        },
        {
          "output_type": "display_data",
          "data": {
            "text/plain": [
              "+--------------+---------+-------------+--------------+"
            ],
            "text/html": [
              "<pre>+--------------+---------+-------------+--------------+</pre>"
            ]
          },
          "metadata": {
            "tags": []
          }
        },
        {
          "output_type": "display_data",
          "data": {
            "text/plain": [
              "| Query points | # Pairs | % Complete. | Elapsed Time |"
            ],
            "text/html": [
              "<pre>| Query points | # Pairs | % Complete. | Elapsed Time |</pre>"
            ]
          },
          "metadata": {
            "tags": []
          }
        },
        {
          "output_type": "display_data",
          "data": {
            "text/plain": [
              "+--------------+---------+-------------+--------------+"
            ],
            "text/html": [
              "<pre>+--------------+---------+-------------+--------------+</pre>"
            ]
          },
          "metadata": {
            "tags": []
          }
        },
        {
          "output_type": "display_data",
          "data": {
            "text/plain": [
              "| 0            | 1       | 0.196464    | 19.408ms     |"
            ],
            "text/html": [
              "<pre>| 0            | 1       | 0.196464    | 19.408ms     |</pre>"
            ]
          },
          "metadata": {
            "tags": []
          }
        },
        {
          "output_type": "display_data",
          "data": {
            "text/plain": [
              "| Done         |         | 100         | 77.17ms      |"
            ],
            "text/html": [
              "<pre>| Done         |         | 100         | 77.17ms      |</pre>"
            ]
          },
          "metadata": {
            "tags": []
          }
        },
        {
          "output_type": "display_data",
          "data": {
            "text/plain": [
              "+--------------+---------+-------------+--------------+"
            ],
            "text/html": [
              "<pre>+--------------+---------+-------------+--------------+</pre>"
            ]
          },
          "metadata": {
            "tags": []
          }
        },
        {
          "output_type": "stream",
          "text": [
            "+-------------+-----------------+---------------+------+\n",
            "| query_label | reference_label |    distance   | rank |\n",
            "+-------------+-----------------+---------------+------+\n",
            "|      0      |      16976      | 37.4642628784 |  1   |\n",
            "|      0      |      13387      | 37.5666832169 |  2   |\n",
            "|      0      |      35867      | 37.6047267079 |  3   |\n",
            "|      0      |      44603      | 37.7065585153 |  4   |\n",
            "|      0      |       6094      | 38.5113254907 |  5   |\n",
            "+-------------+-----------------+---------------+------+\n",
            "[5 rows x 4 columns]\n",
            "\n"
          ],
          "name": "stdout"
        }
      ]
    },
    {
      "cell_type": "code",
      "metadata": {
        "id": "cmqxPggL8Y_1",
        "outputId": "4c7d9e63-9781-4704-b4be-b117eb1ac324",
        "colab": {
          "base_uri": "https://localhost:8080/"
        }
      },
      "source": [
        "dog_near[0:5]['distance'].mean()"
      ],
      "execution_count": 116,
      "outputs": [
        {
          "output_type": "execute_result",
          "data": {
            "text/plain": [
              "37.77071136184157"
            ]
          },
          "metadata": {
            "tags": []
          },
          "execution_count": 116
        }
      ]
    },
    {
      "cell_type": "markdown",
      "metadata": {
        "id": "jYEcYcpBno1e"
      },
      "source": [
        "## We can also check the most nearest neigbor of object using other model\n",
        "#### i.e. we can use the cat model and will apply it on the image_test_dog data.  \n",
        "\n",
        "##### **Note:** Here we are filtering test data as follow so we can do anlaysis as mentioned above with model. "
      ]
    },
    {
      "cell_type": "code",
      "metadata": {
        "id": "eXwl1jNi8irk"
      },
      "source": [
        "image_test_cat = test_image_data[test_image_data['label'] == 'cat']"
      ],
      "execution_count": 117,
      "outputs": []
    },
    {
      "cell_type": "code",
      "metadata": {
        "id": "yDAngwBq-an2"
      },
      "source": [
        "image_test_dog = test_image_data[test_image_data['label'] == 'dog']\n"
      ],
      "execution_count": 118,
      "outputs": []
    },
    {
      "cell_type": "code",
      "metadata": {
        "id": "umsJOuhL-fzb"
      },
      "source": [
        "image_test_automobile = test_image_data[test_image_data['label'] == 'automobile']\n"
      ],
      "execution_count": 119,
      "outputs": []
    },
    {
      "cell_type": "code",
      "metadata": {
        "id": "n49P6Zn1-khg"
      },
      "source": [
        "image_test_bird = test_image_data[test_image_data['label'] == 'bird']\n"
      ],
      "execution_count": 120,
      "outputs": []
    },
    {
      "cell_type": "markdown",
      "metadata": {
        "id": "qLAzU1xyopfu"
      },
      "source": [
        "#### We are checkig abiltiy of model in cross as mentioned above and sorting the resul per distance."
      ]
    },
    {
      "cell_type": "markdown",
      "metadata": {
        "id": "IOaMQcSrpzcm"
      },
      "source": [
        "###### Applying **cat_model** on image_test_dog"
      ]
    },
    {
      "cell_type": "code",
      "metadata": {
        "id": "b_OAiRFc-ogt",
        "outputId": "e00d97bd-2877-4c65-c759-47f007642703",
        "colab": {
          "base_uri": "https://localhost:8080/",
          "height": 187
        }
      },
      "source": [
        "dog_cat_neighbors = cat_model.query(image_test_dog, k=1)\n",
        "dog_cat_neighbors = dog_cat_neighbors.sort('distance')"
      ],
      "execution_count": 121,
      "outputs": [
        {
          "output_type": "display_data",
          "data": {
            "text/plain": [
              "Starting blockwise querying."
            ],
            "text/html": [
              "<pre>Starting blockwise querying.</pre>"
            ]
          },
          "metadata": {
            "tags": []
          }
        },
        {
          "output_type": "display_data",
          "data": {
            "text/plain": [
              "max rows per data block: 4348"
            ],
            "text/html": [
              "<pre>max rows per data block: 4348</pre>"
            ]
          },
          "metadata": {
            "tags": []
          }
        },
        {
          "output_type": "display_data",
          "data": {
            "text/plain": [
              "number of reference data blocks: 2"
            ],
            "text/html": [
              "<pre>number of reference data blocks: 2</pre>"
            ]
          },
          "metadata": {
            "tags": []
          }
        },
        {
          "output_type": "display_data",
          "data": {
            "text/plain": [
              "number of query data blocks: 1"
            ],
            "text/html": [
              "<pre>number of query data blocks: 1</pre>"
            ]
          },
          "metadata": {
            "tags": []
          }
        },
        {
          "output_type": "display_data",
          "data": {
            "text/plain": [
              "+--------------+---------+-------------+--------------+"
            ],
            "text/html": [
              "<pre>+--------------+---------+-------------+--------------+</pre>"
            ]
          },
          "metadata": {
            "tags": []
          }
        },
        {
          "output_type": "display_data",
          "data": {
            "text/plain": [
              "| Query points | # Pairs | % Complete. | Elapsed Time |"
            ],
            "text/html": [
              "<pre>| Query points | # Pairs | % Complete. | Elapsed Time |</pre>"
            ]
          },
          "metadata": {
            "tags": []
          }
        },
        {
          "output_type": "display_data",
          "data": {
            "text/plain": [
              "+--------------+---------+-------------+--------------+"
            ],
            "text/html": [
              "<pre>+--------------+---------+-------------+--------------+</pre>"
            ]
          },
          "metadata": {
            "tags": []
          }
        },
        {
          "output_type": "display_data",
          "data": {
            "text/plain": [
              "| 1000         | 255000  | 50.0982     | 680.18ms     |"
            ],
            "text/html": [
              "<pre>| 1000         | 255000  | 50.0982     | 680.18ms     |</pre>"
            ]
          },
          "metadata": {
            "tags": []
          }
        },
        {
          "output_type": "display_data",
          "data": {
            "text/plain": [
              "| Done         | 509000  | 100         | 760.42ms     |"
            ],
            "text/html": [
              "<pre>| Done         | 509000  | 100         | 760.42ms     |</pre>"
            ]
          },
          "metadata": {
            "tags": []
          }
        },
        {
          "output_type": "display_data",
          "data": {
            "text/plain": [
              "+--------------+---------+-------------+--------------+"
            ],
            "text/html": [
              "<pre>+--------------+---------+-------------+--------------+</pre>"
            ]
          },
          "metadata": {
            "tags": []
          }
        }
      ]
    },
    {
      "cell_type": "code",
      "metadata": {
        "id": "ewVitD9b_Kqi",
        "outputId": "767b6a60-a3fe-45f8-c3a7-16beb3ccf067",
        "colab": {
          "base_uri": "https://localhost:8080/",
          "height": 279
        }
      },
      "source": [
        "dog_cat_neighbors"
      ],
      "execution_count": 122,
      "outputs": [
        {
          "output_type": "execute_result",
          "data": {
            "text/plain": [
              "Columns:\n",
              "\tquery_label\tint\n",
              "\treference_label\tint\n",
              "\tdistance\tfloat\n",
              "\trank\tint\n",
              "\n",
              "Rows: 1000\n",
              "\n",
              "Data:\n",
              "+-------------+-----------------+---------------+------+\n",
              "| query_label | reference_label |    distance   | rank |\n",
              "+-------------+-----------------+---------------+------+\n",
              "|     630     |      28808      |  28.177487261 |  1   |\n",
              "|      62     |      39423      | 28.2611358405 |  1   |\n",
              "|     287     |      34486      | 28.3980844578 |  1   |\n",
              "|     579     |      13094      | 28.8630684757 |  1   |\n",
              "|     260     |      47044      | 28.9209229055 |  1   |\n",
              "|     817     |      43295      | 28.9376432837 |  1   |\n",
              "|     456     |      34606      |  29.298389664 |  1   |\n",
              "|     499     |      40954      | 29.3239247892 |  1   |\n",
              "|      99     |       3043      |  29.385360443 |  1   |\n",
              "|     433     |      36676      | 29.4381628951 |  1   |\n",
              "+-------------+-----------------+---------------+------+\n",
              "[1000 rows x 4 columns]\n",
              "Note: Only the head of the SFrame is printed.\n",
              "You can use print_rows(num_rows=m, num_columns=n) to print more rows and columns."
            ],
            "text/html": [
              "<div style=\"max-height:1000px;max-width:1500px;overflow:auto;\"><table frame=\"box\" rules=\"cols\">\n",
              "    <tr>\n",
              "        <th style=\"padding-left: 1em; padding-right: 1em; text-align: center\">query_label</th>\n",
              "        <th style=\"padding-left: 1em; padding-right: 1em; text-align: center\">reference_label</th>\n",
              "        <th style=\"padding-left: 1em; padding-right: 1em; text-align: center\">distance</th>\n",
              "        <th style=\"padding-left: 1em; padding-right: 1em; text-align: center\">rank</th>\n",
              "    </tr>\n",
              "    <tr>\n",
              "        <td style=\"padding-left: 1em; padding-right: 1em; text-align: center; vertical-align: top\">630</td>\n",
              "        <td style=\"padding-left: 1em; padding-right: 1em; text-align: center; vertical-align: top\">28808</td>\n",
              "        <td style=\"padding-left: 1em; padding-right: 1em; text-align: center; vertical-align: top\">28.177487261</td>\n",
              "        <td style=\"padding-left: 1em; padding-right: 1em; text-align: center; vertical-align: top\">1</td>\n",
              "    </tr>\n",
              "    <tr>\n",
              "        <td style=\"padding-left: 1em; padding-right: 1em; text-align: center; vertical-align: top\">62</td>\n",
              "        <td style=\"padding-left: 1em; padding-right: 1em; text-align: center; vertical-align: top\">39423</td>\n",
              "        <td style=\"padding-left: 1em; padding-right: 1em; text-align: center; vertical-align: top\">28.2611358405</td>\n",
              "        <td style=\"padding-left: 1em; padding-right: 1em; text-align: center; vertical-align: top\">1</td>\n",
              "    </tr>\n",
              "    <tr>\n",
              "        <td style=\"padding-left: 1em; padding-right: 1em; text-align: center; vertical-align: top\">287</td>\n",
              "        <td style=\"padding-left: 1em; padding-right: 1em; text-align: center; vertical-align: top\">34486</td>\n",
              "        <td style=\"padding-left: 1em; padding-right: 1em; text-align: center; vertical-align: top\">28.3980844578</td>\n",
              "        <td style=\"padding-left: 1em; padding-right: 1em; text-align: center; vertical-align: top\">1</td>\n",
              "    </tr>\n",
              "    <tr>\n",
              "        <td style=\"padding-left: 1em; padding-right: 1em; text-align: center; vertical-align: top\">579</td>\n",
              "        <td style=\"padding-left: 1em; padding-right: 1em; text-align: center; vertical-align: top\">13094</td>\n",
              "        <td style=\"padding-left: 1em; padding-right: 1em; text-align: center; vertical-align: top\">28.8630684757</td>\n",
              "        <td style=\"padding-left: 1em; padding-right: 1em; text-align: center; vertical-align: top\">1</td>\n",
              "    </tr>\n",
              "    <tr>\n",
              "        <td style=\"padding-left: 1em; padding-right: 1em; text-align: center; vertical-align: top\">260</td>\n",
              "        <td style=\"padding-left: 1em; padding-right: 1em; text-align: center; vertical-align: top\">47044</td>\n",
              "        <td style=\"padding-left: 1em; padding-right: 1em; text-align: center; vertical-align: top\">28.9209229055</td>\n",
              "        <td style=\"padding-left: 1em; padding-right: 1em; text-align: center; vertical-align: top\">1</td>\n",
              "    </tr>\n",
              "    <tr>\n",
              "        <td style=\"padding-left: 1em; padding-right: 1em; text-align: center; vertical-align: top\">817</td>\n",
              "        <td style=\"padding-left: 1em; padding-right: 1em; text-align: center; vertical-align: top\">43295</td>\n",
              "        <td style=\"padding-left: 1em; padding-right: 1em; text-align: center; vertical-align: top\">28.9376432837</td>\n",
              "        <td style=\"padding-left: 1em; padding-right: 1em; text-align: center; vertical-align: top\">1</td>\n",
              "    </tr>\n",
              "    <tr>\n",
              "        <td style=\"padding-left: 1em; padding-right: 1em; text-align: center; vertical-align: top\">456</td>\n",
              "        <td style=\"padding-left: 1em; padding-right: 1em; text-align: center; vertical-align: top\">34606</td>\n",
              "        <td style=\"padding-left: 1em; padding-right: 1em; text-align: center; vertical-align: top\">29.298389664</td>\n",
              "        <td style=\"padding-left: 1em; padding-right: 1em; text-align: center; vertical-align: top\">1</td>\n",
              "    </tr>\n",
              "    <tr>\n",
              "        <td style=\"padding-left: 1em; padding-right: 1em; text-align: center; vertical-align: top\">499</td>\n",
              "        <td style=\"padding-left: 1em; padding-right: 1em; text-align: center; vertical-align: top\">40954</td>\n",
              "        <td style=\"padding-left: 1em; padding-right: 1em; text-align: center; vertical-align: top\">29.3239247892</td>\n",
              "        <td style=\"padding-left: 1em; padding-right: 1em; text-align: center; vertical-align: top\">1</td>\n",
              "    </tr>\n",
              "    <tr>\n",
              "        <td style=\"padding-left: 1em; padding-right: 1em; text-align: center; vertical-align: top\">99</td>\n",
              "        <td style=\"padding-left: 1em; padding-right: 1em; text-align: center; vertical-align: top\">3043</td>\n",
              "        <td style=\"padding-left: 1em; padding-right: 1em; text-align: center; vertical-align: top\">29.385360443</td>\n",
              "        <td style=\"padding-left: 1em; padding-right: 1em; text-align: center; vertical-align: top\">1</td>\n",
              "    </tr>\n",
              "    <tr>\n",
              "        <td style=\"padding-left: 1em; padding-right: 1em; text-align: center; vertical-align: top\">433</td>\n",
              "        <td style=\"padding-left: 1em; padding-right: 1em; text-align: center; vertical-align: top\">36676</td>\n",
              "        <td style=\"padding-left: 1em; padding-right: 1em; text-align: center; vertical-align: top\">29.4381628951</td>\n",
              "        <td style=\"padding-left: 1em; padding-right: 1em; text-align: center; vertical-align: top\">1</td>\n",
              "    </tr>\n",
              "</table>\n",
              "[1000 rows x 4 columns]<br/>Note: Only the head of the SFrame is printed.<br/>You can use print_rows(num_rows=m, num_columns=n) to print more rows and columns.\n",
              "</div>"
            ]
          },
          "metadata": {
            "tags": []
          },
          "execution_count": 122
        }
      ]
    },
    {
      "cell_type": "markdown",
      "metadata": {
        "id": "0WRufYrTqbQz"
      },
      "source": [
        "###### Applying **automobile_model** on image_test_dog"
      ]
    },
    {
      "cell_type": "code",
      "metadata": {
        "id": "Gum-LYf3_XS8",
        "outputId": "29761f7a-954a-49ca-fe9d-4f42847a9bcd",
        "colab": {
          "base_uri": "https://localhost:8080/",
          "height": 187
        }
      },
      "source": [
        "dog_automobile_neighbors = automobile_model.query(image_test_dog, k=1)\n",
        "dog_automobile_neighbors = dog_automobile_neighbors.sort('distance')"
      ],
      "execution_count": 123,
      "outputs": [
        {
          "output_type": "display_data",
          "data": {
            "text/plain": [
              "Starting blockwise querying."
            ],
            "text/html": [
              "<pre>Starting blockwise querying.</pre>"
            ]
          },
          "metadata": {
            "tags": []
          }
        },
        {
          "output_type": "display_data",
          "data": {
            "text/plain": [
              "max rows per data block: 4348"
            ],
            "text/html": [
              "<pre>max rows per data block: 4348</pre>"
            ]
          },
          "metadata": {
            "tags": []
          }
        },
        {
          "output_type": "display_data",
          "data": {
            "text/plain": [
              "number of reference data blocks: 2"
            ],
            "text/html": [
              "<pre>number of reference data blocks: 2</pre>"
            ]
          },
          "metadata": {
            "tags": []
          }
        },
        {
          "output_type": "display_data",
          "data": {
            "text/plain": [
              "number of query data blocks: 1"
            ],
            "text/html": [
              "<pre>number of query data blocks: 1</pre>"
            ]
          },
          "metadata": {
            "tags": []
          }
        },
        {
          "output_type": "display_data",
          "data": {
            "text/plain": [
              "+--------------+---------+-------------+--------------+"
            ],
            "text/html": [
              "<pre>+--------------+---------+-------------+--------------+</pre>"
            ]
          },
          "metadata": {
            "tags": []
          }
        },
        {
          "output_type": "display_data",
          "data": {
            "text/plain": [
              "| Query points | # Pairs | % Complete. | Elapsed Time |"
            ],
            "text/html": [
              "<pre>| Query points | # Pairs | % Complete. | Elapsed Time |</pre>"
            ]
          },
          "metadata": {
            "tags": []
          }
        },
        {
          "output_type": "display_data",
          "data": {
            "text/plain": [
              "+--------------+---------+-------------+--------------+"
            ],
            "text/html": [
              "<pre>+--------------+---------+-------------+--------------+</pre>"
            ]
          },
          "metadata": {
            "tags": []
          }
        },
        {
          "output_type": "display_data",
          "data": {
            "text/plain": [
              "| 1000         | 254000  | 49.9018     | 743.698ms    |"
            ],
            "text/html": [
              "<pre>| 1000         | 254000  | 49.9018     | 743.698ms    |</pre>"
            ]
          },
          "metadata": {
            "tags": []
          }
        },
        {
          "output_type": "display_data",
          "data": {
            "text/plain": [
              "| Done         | 509000  | 100         | 745.117ms    |"
            ],
            "text/html": [
              "<pre>| Done         | 509000  | 100         | 745.117ms    |</pre>"
            ]
          },
          "metadata": {
            "tags": []
          }
        },
        {
          "output_type": "display_data",
          "data": {
            "text/plain": [
              "+--------------+---------+-------------+--------------+"
            ],
            "text/html": [
              "<pre>+--------------+---------+-------------+--------------+</pre>"
            ]
          },
          "metadata": {
            "tags": []
          }
        }
      ]
    },
    {
      "cell_type": "code",
      "metadata": {
        "id": "18oZc85sBNg8",
        "outputId": "8d29236c-8ba8-46a3-b5e1-db5b2da66ec0",
        "colab": {
          "base_uri": "https://localhost:8080/",
          "height": 279
        }
      },
      "source": [
        "dog_automobile_neighbors"
      ],
      "execution_count": 124,
      "outputs": [
        {
          "output_type": "execute_result",
          "data": {
            "text/plain": [
              "Columns:\n",
              "\tquery_label\tint\n",
              "\treference_label\tint\n",
              "\tdistance\tfloat\n",
              "\trank\tint\n",
              "\n",
              "Rows: 1000\n",
              "\n",
              "Data:\n",
              "+-------------+-----------------+---------------+------+\n",
              "| query_label | reference_label |    distance   | rank |\n",
              "+-------------+-----------------+---------------+------+\n",
              "|     776     |      19594      | 33.5148522961 |  1   |\n",
              "|     878     |      19594      | 34.8283194442 |  1   |\n",
              "|     351     |      31776      | 35.0219180579 |  1   |\n",
              "|     166     |      34962      | 35.1985567824 |  1   |\n",
              "|     101     |      19890      | 35.2571595878 |  1   |\n",
              "|     248     |      33859      | 35.6933860364 |  1   |\n",
              "|     568     |      30154      | 35.7020189929 |  1   |\n",
              "|     456     |      19594      | 35.7062724643 |  1   |\n",
              "|     630     |      20750      |  36.224097477 |  1   |\n",
              "|     130     |      19594      | 36.2547629997 |  1   |\n",
              "+-------------+-----------------+---------------+------+\n",
              "[1000 rows x 4 columns]\n",
              "Note: Only the head of the SFrame is printed.\n",
              "You can use print_rows(num_rows=m, num_columns=n) to print more rows and columns."
            ],
            "text/html": [
              "<div style=\"max-height:1000px;max-width:1500px;overflow:auto;\"><table frame=\"box\" rules=\"cols\">\n",
              "    <tr>\n",
              "        <th style=\"padding-left: 1em; padding-right: 1em; text-align: center\">query_label</th>\n",
              "        <th style=\"padding-left: 1em; padding-right: 1em; text-align: center\">reference_label</th>\n",
              "        <th style=\"padding-left: 1em; padding-right: 1em; text-align: center\">distance</th>\n",
              "        <th style=\"padding-left: 1em; padding-right: 1em; text-align: center\">rank</th>\n",
              "    </tr>\n",
              "    <tr>\n",
              "        <td style=\"padding-left: 1em; padding-right: 1em; text-align: center; vertical-align: top\">776</td>\n",
              "        <td style=\"padding-left: 1em; padding-right: 1em; text-align: center; vertical-align: top\">19594</td>\n",
              "        <td style=\"padding-left: 1em; padding-right: 1em; text-align: center; vertical-align: top\">33.5148522961</td>\n",
              "        <td style=\"padding-left: 1em; padding-right: 1em; text-align: center; vertical-align: top\">1</td>\n",
              "    </tr>\n",
              "    <tr>\n",
              "        <td style=\"padding-left: 1em; padding-right: 1em; text-align: center; vertical-align: top\">878</td>\n",
              "        <td style=\"padding-left: 1em; padding-right: 1em; text-align: center; vertical-align: top\">19594</td>\n",
              "        <td style=\"padding-left: 1em; padding-right: 1em; text-align: center; vertical-align: top\">34.8283194442</td>\n",
              "        <td style=\"padding-left: 1em; padding-right: 1em; text-align: center; vertical-align: top\">1</td>\n",
              "    </tr>\n",
              "    <tr>\n",
              "        <td style=\"padding-left: 1em; padding-right: 1em; text-align: center; vertical-align: top\">351</td>\n",
              "        <td style=\"padding-left: 1em; padding-right: 1em; text-align: center; vertical-align: top\">31776</td>\n",
              "        <td style=\"padding-left: 1em; padding-right: 1em; text-align: center; vertical-align: top\">35.0219180579</td>\n",
              "        <td style=\"padding-left: 1em; padding-right: 1em; text-align: center; vertical-align: top\">1</td>\n",
              "    </tr>\n",
              "    <tr>\n",
              "        <td style=\"padding-left: 1em; padding-right: 1em; text-align: center; vertical-align: top\">166</td>\n",
              "        <td style=\"padding-left: 1em; padding-right: 1em; text-align: center; vertical-align: top\">34962</td>\n",
              "        <td style=\"padding-left: 1em; padding-right: 1em; text-align: center; vertical-align: top\">35.1985567824</td>\n",
              "        <td style=\"padding-left: 1em; padding-right: 1em; text-align: center; vertical-align: top\">1</td>\n",
              "    </tr>\n",
              "    <tr>\n",
              "        <td style=\"padding-left: 1em; padding-right: 1em; text-align: center; vertical-align: top\">101</td>\n",
              "        <td style=\"padding-left: 1em; padding-right: 1em; text-align: center; vertical-align: top\">19890</td>\n",
              "        <td style=\"padding-left: 1em; padding-right: 1em; text-align: center; vertical-align: top\">35.2571595878</td>\n",
              "        <td style=\"padding-left: 1em; padding-right: 1em; text-align: center; vertical-align: top\">1</td>\n",
              "    </tr>\n",
              "    <tr>\n",
              "        <td style=\"padding-left: 1em; padding-right: 1em; text-align: center; vertical-align: top\">248</td>\n",
              "        <td style=\"padding-left: 1em; padding-right: 1em; text-align: center; vertical-align: top\">33859</td>\n",
              "        <td style=\"padding-left: 1em; padding-right: 1em; text-align: center; vertical-align: top\">35.6933860364</td>\n",
              "        <td style=\"padding-left: 1em; padding-right: 1em; text-align: center; vertical-align: top\">1</td>\n",
              "    </tr>\n",
              "    <tr>\n",
              "        <td style=\"padding-left: 1em; padding-right: 1em; text-align: center; vertical-align: top\">568</td>\n",
              "        <td style=\"padding-left: 1em; padding-right: 1em; text-align: center; vertical-align: top\">30154</td>\n",
              "        <td style=\"padding-left: 1em; padding-right: 1em; text-align: center; vertical-align: top\">35.7020189929</td>\n",
              "        <td style=\"padding-left: 1em; padding-right: 1em; text-align: center; vertical-align: top\">1</td>\n",
              "    </tr>\n",
              "    <tr>\n",
              "        <td style=\"padding-left: 1em; padding-right: 1em; text-align: center; vertical-align: top\">456</td>\n",
              "        <td style=\"padding-left: 1em; padding-right: 1em; text-align: center; vertical-align: top\">19594</td>\n",
              "        <td style=\"padding-left: 1em; padding-right: 1em; text-align: center; vertical-align: top\">35.7062724643</td>\n",
              "        <td style=\"padding-left: 1em; padding-right: 1em; text-align: center; vertical-align: top\">1</td>\n",
              "    </tr>\n",
              "    <tr>\n",
              "        <td style=\"padding-left: 1em; padding-right: 1em; text-align: center; vertical-align: top\">630</td>\n",
              "        <td style=\"padding-left: 1em; padding-right: 1em; text-align: center; vertical-align: top\">20750</td>\n",
              "        <td style=\"padding-left: 1em; padding-right: 1em; text-align: center; vertical-align: top\">36.224097477</td>\n",
              "        <td style=\"padding-left: 1em; padding-right: 1em; text-align: center; vertical-align: top\">1</td>\n",
              "    </tr>\n",
              "    <tr>\n",
              "        <td style=\"padding-left: 1em; padding-right: 1em; text-align: center; vertical-align: top\">130</td>\n",
              "        <td style=\"padding-left: 1em; padding-right: 1em; text-align: center; vertical-align: top\">19594</td>\n",
              "        <td style=\"padding-left: 1em; padding-right: 1em; text-align: center; vertical-align: top\">36.2547629997</td>\n",
              "        <td style=\"padding-left: 1em; padding-right: 1em; text-align: center; vertical-align: top\">1</td>\n",
              "    </tr>\n",
              "</table>\n",
              "[1000 rows x 4 columns]<br/>Note: Only the head of the SFrame is printed.<br/>You can use print_rows(num_rows=m, num_columns=n) to print more rows and columns.\n",
              "</div>"
            ]
          },
          "metadata": {
            "tags": []
          },
          "execution_count": 124
        }
      ]
    },
    {
      "cell_type": "markdown",
      "metadata": {
        "id": "rqM6uillqgtz"
      },
      "source": [
        "###### Applying **bird_model** on image_test_dog"
      ]
    },
    {
      "cell_type": "code",
      "metadata": {
        "id": "sc-5aEMU_lgW",
        "outputId": "8145fd1f-9574-43c8-c532-632a41007a56",
        "colab": {
          "base_uri": "https://localhost:8080/",
          "height": 187
        }
      },
      "source": [
        "dog_bird_neighbors = bird_model.query(image_test_dog, k=1)\n",
        "dog_bird_neighbors = dog_bird_neighbors.sort('distance')"
      ],
      "execution_count": 125,
      "outputs": [
        {
          "output_type": "display_data",
          "data": {
            "text/plain": [
              "Starting blockwise querying."
            ],
            "text/html": [
              "<pre>Starting blockwise querying.</pre>"
            ]
          },
          "metadata": {
            "tags": []
          }
        },
        {
          "output_type": "display_data",
          "data": {
            "text/plain": [
              "max rows per data block: 4348"
            ],
            "text/html": [
              "<pre>max rows per data block: 4348</pre>"
            ]
          },
          "metadata": {
            "tags": []
          }
        },
        {
          "output_type": "display_data",
          "data": {
            "text/plain": [
              "number of reference data blocks: 2"
            ],
            "text/html": [
              "<pre>number of reference data blocks: 2</pre>"
            ]
          },
          "metadata": {
            "tags": []
          }
        },
        {
          "output_type": "display_data",
          "data": {
            "text/plain": [
              "number of query data blocks: 1"
            ],
            "text/html": [
              "<pre>number of query data blocks: 1</pre>"
            ]
          },
          "metadata": {
            "tags": []
          }
        },
        {
          "output_type": "display_data",
          "data": {
            "text/plain": [
              "+--------------+---------+-------------+--------------+"
            ],
            "text/html": [
              "<pre>+--------------+---------+-------------+--------------+</pre>"
            ]
          },
          "metadata": {
            "tags": []
          }
        },
        {
          "output_type": "display_data",
          "data": {
            "text/plain": [
              "| Query points | # Pairs | % Complete. | Elapsed Time |"
            ],
            "text/html": [
              "<pre>| Query points | # Pairs | % Complete. | Elapsed Time |</pre>"
            ]
          },
          "metadata": {
            "tags": []
          }
        },
        {
          "output_type": "display_data",
          "data": {
            "text/plain": [
              "+--------------+---------+-------------+--------------+"
            ],
            "text/html": [
              "<pre>+--------------+---------+-------------+--------------+</pre>"
            ]
          },
          "metadata": {
            "tags": []
          }
        },
        {
          "output_type": "display_data",
          "data": {
            "text/plain": [
              "| 1000         | 239000  | 50          | 682.633ms    |"
            ],
            "text/html": [
              "<pre>| 1000         | 239000  | 50          | 682.633ms    |</pre>"
            ]
          },
          "metadata": {
            "tags": []
          }
        },
        {
          "output_type": "display_data",
          "data": {
            "text/plain": [
              "| Done         | 478000  | 100         | 683.783ms    |"
            ],
            "text/html": [
              "<pre>| Done         | 478000  | 100         | 683.783ms    |</pre>"
            ]
          },
          "metadata": {
            "tags": []
          }
        },
        {
          "output_type": "display_data",
          "data": {
            "text/plain": [
              "+--------------+---------+-------------+--------------+"
            ],
            "text/html": [
              "<pre>+--------------+---------+-------------+--------------+</pre>"
            ]
          },
          "metadata": {
            "tags": []
          }
        }
      ]
    },
    {
      "cell_type": "code",
      "metadata": {
        "id": "YMRjZy5arU2F",
        "outputId": "f471de79-1dd6-4bff-bd28-58a47b72e4b5",
        "colab": {
          "base_uri": "https://localhost:8080/",
          "height": 279
        }
      },
      "source": [
        "dog_bird_neighbors"
      ],
      "execution_count": 126,
      "outputs": [
        {
          "output_type": "execute_result",
          "data": {
            "text/plain": [
              "Columns:\n",
              "\tquery_label\tint\n",
              "\treference_label\tint\n",
              "\tdistance\tfloat\n",
              "\trank\tint\n",
              "\n",
              "Rows: 1000\n",
              "\n",
              "Data:\n",
              "+-------------+-----------------+---------------+------+\n",
              "| query_label | reference_label |    distance   | rank |\n",
              "+-------------+-----------------+---------------+------+\n",
              "|     879     |       4242      | 28.3162275661 |  1   |\n",
              "|     155     |       4242      | 29.0780048303 |  1   |\n",
              "|     521     |       4242      | 29.5226045495 |  1   |\n",
              "|     537     |       802       | 29.7975319435 |  1   |\n",
              "|     573     |       4242      | 29.8462510601 |  1   |\n",
              "|     894     |       9215      | 29.9052253929 |  1   |\n",
              "|      52     |       4242      | 30.5899109487 |  1   |\n",
              "|      99     |       4242      | 30.6492258335 |  1   |\n",
              "|     817     |      20102      | 31.6125050536 |  1   |\n",
              "|     380     |       9659      | 31.6437576472 |  1   |\n",
              "+-------------+-----------------+---------------+------+\n",
              "[1000 rows x 4 columns]\n",
              "Note: Only the head of the SFrame is printed.\n",
              "You can use print_rows(num_rows=m, num_columns=n) to print more rows and columns."
            ],
            "text/html": [
              "<div style=\"max-height:1000px;max-width:1500px;overflow:auto;\"><table frame=\"box\" rules=\"cols\">\n",
              "    <tr>\n",
              "        <th style=\"padding-left: 1em; padding-right: 1em; text-align: center\">query_label</th>\n",
              "        <th style=\"padding-left: 1em; padding-right: 1em; text-align: center\">reference_label</th>\n",
              "        <th style=\"padding-left: 1em; padding-right: 1em; text-align: center\">distance</th>\n",
              "        <th style=\"padding-left: 1em; padding-right: 1em; text-align: center\">rank</th>\n",
              "    </tr>\n",
              "    <tr>\n",
              "        <td style=\"padding-left: 1em; padding-right: 1em; text-align: center; vertical-align: top\">879</td>\n",
              "        <td style=\"padding-left: 1em; padding-right: 1em; text-align: center; vertical-align: top\">4242</td>\n",
              "        <td style=\"padding-left: 1em; padding-right: 1em; text-align: center; vertical-align: top\">28.3162275661</td>\n",
              "        <td style=\"padding-left: 1em; padding-right: 1em; text-align: center; vertical-align: top\">1</td>\n",
              "    </tr>\n",
              "    <tr>\n",
              "        <td style=\"padding-left: 1em; padding-right: 1em; text-align: center; vertical-align: top\">155</td>\n",
              "        <td style=\"padding-left: 1em; padding-right: 1em; text-align: center; vertical-align: top\">4242</td>\n",
              "        <td style=\"padding-left: 1em; padding-right: 1em; text-align: center; vertical-align: top\">29.0780048303</td>\n",
              "        <td style=\"padding-left: 1em; padding-right: 1em; text-align: center; vertical-align: top\">1</td>\n",
              "    </tr>\n",
              "    <tr>\n",
              "        <td style=\"padding-left: 1em; padding-right: 1em; text-align: center; vertical-align: top\">521</td>\n",
              "        <td style=\"padding-left: 1em; padding-right: 1em; text-align: center; vertical-align: top\">4242</td>\n",
              "        <td style=\"padding-left: 1em; padding-right: 1em; text-align: center; vertical-align: top\">29.5226045495</td>\n",
              "        <td style=\"padding-left: 1em; padding-right: 1em; text-align: center; vertical-align: top\">1</td>\n",
              "    </tr>\n",
              "    <tr>\n",
              "        <td style=\"padding-left: 1em; padding-right: 1em; text-align: center; vertical-align: top\">537</td>\n",
              "        <td style=\"padding-left: 1em; padding-right: 1em; text-align: center; vertical-align: top\">802</td>\n",
              "        <td style=\"padding-left: 1em; padding-right: 1em; text-align: center; vertical-align: top\">29.7975319435</td>\n",
              "        <td style=\"padding-left: 1em; padding-right: 1em; text-align: center; vertical-align: top\">1</td>\n",
              "    </tr>\n",
              "    <tr>\n",
              "        <td style=\"padding-left: 1em; padding-right: 1em; text-align: center; vertical-align: top\">573</td>\n",
              "        <td style=\"padding-left: 1em; padding-right: 1em; text-align: center; vertical-align: top\">4242</td>\n",
              "        <td style=\"padding-left: 1em; padding-right: 1em; text-align: center; vertical-align: top\">29.8462510601</td>\n",
              "        <td style=\"padding-left: 1em; padding-right: 1em; text-align: center; vertical-align: top\">1</td>\n",
              "    </tr>\n",
              "    <tr>\n",
              "        <td style=\"padding-left: 1em; padding-right: 1em; text-align: center; vertical-align: top\">894</td>\n",
              "        <td style=\"padding-left: 1em; padding-right: 1em; text-align: center; vertical-align: top\">9215</td>\n",
              "        <td style=\"padding-left: 1em; padding-right: 1em; text-align: center; vertical-align: top\">29.9052253929</td>\n",
              "        <td style=\"padding-left: 1em; padding-right: 1em; text-align: center; vertical-align: top\">1</td>\n",
              "    </tr>\n",
              "    <tr>\n",
              "        <td style=\"padding-left: 1em; padding-right: 1em; text-align: center; vertical-align: top\">52</td>\n",
              "        <td style=\"padding-left: 1em; padding-right: 1em; text-align: center; vertical-align: top\">4242</td>\n",
              "        <td style=\"padding-left: 1em; padding-right: 1em; text-align: center; vertical-align: top\">30.5899109487</td>\n",
              "        <td style=\"padding-left: 1em; padding-right: 1em; text-align: center; vertical-align: top\">1</td>\n",
              "    </tr>\n",
              "    <tr>\n",
              "        <td style=\"padding-left: 1em; padding-right: 1em; text-align: center; vertical-align: top\">99</td>\n",
              "        <td style=\"padding-left: 1em; padding-right: 1em; text-align: center; vertical-align: top\">4242</td>\n",
              "        <td style=\"padding-left: 1em; padding-right: 1em; text-align: center; vertical-align: top\">30.6492258335</td>\n",
              "        <td style=\"padding-left: 1em; padding-right: 1em; text-align: center; vertical-align: top\">1</td>\n",
              "    </tr>\n",
              "    <tr>\n",
              "        <td style=\"padding-left: 1em; padding-right: 1em; text-align: center; vertical-align: top\">817</td>\n",
              "        <td style=\"padding-left: 1em; padding-right: 1em; text-align: center; vertical-align: top\">20102</td>\n",
              "        <td style=\"padding-left: 1em; padding-right: 1em; text-align: center; vertical-align: top\">31.6125050536</td>\n",
              "        <td style=\"padding-left: 1em; padding-right: 1em; text-align: center; vertical-align: top\">1</td>\n",
              "    </tr>\n",
              "    <tr>\n",
              "        <td style=\"padding-left: 1em; padding-right: 1em; text-align: center; vertical-align: top\">380</td>\n",
              "        <td style=\"padding-left: 1em; padding-right: 1em; text-align: center; vertical-align: top\">9659</td>\n",
              "        <td style=\"padding-left: 1em; padding-right: 1em; text-align: center; vertical-align: top\">31.6437576472</td>\n",
              "        <td style=\"padding-left: 1em; padding-right: 1em; text-align: center; vertical-align: top\">1</td>\n",
              "    </tr>\n",
              "</table>\n",
              "[1000 rows x 4 columns]<br/>Note: Only the head of the SFrame is printed.<br/>You can use print_rows(num_rows=m, num_columns=n) to print more rows and columns.\n",
              "</div>"
            ]
          },
          "metadata": {
            "tags": []
          },
          "execution_count": 126
        }
      ]
    },
    {
      "cell_type": "markdown",
      "metadata": {
        "id": "0ija_2MHqk6N"
      },
      "source": [
        "###### Lastly, applying **dog_model** on image_test_dog"
      ]
    },
    {
      "cell_type": "code",
      "metadata": {
        "id": "i4wmA0TM_2-j",
        "outputId": "63b9591d-50ac-4d2d-b3c1-b8905b8577e9",
        "colab": {
          "base_uri": "https://localhost:8080/",
          "height": 187
        }
      },
      "source": [
        "dog_dog_neighbors = dog_model.query(image_test_dog, k=1)\n",
        "dog_dog_neighbors = dog_dog_neighbors.sort('distance')"
      ],
      "execution_count": 127,
      "outputs": [
        {
          "output_type": "display_data",
          "data": {
            "text/plain": [
              "Starting blockwise querying."
            ],
            "text/html": [
              "<pre>Starting blockwise querying.</pre>"
            ]
          },
          "metadata": {
            "tags": []
          }
        },
        {
          "output_type": "display_data",
          "data": {
            "text/plain": [
              "max rows per data block: 4348"
            ],
            "text/html": [
              "<pre>max rows per data block: 4348</pre>"
            ]
          },
          "metadata": {
            "tags": []
          }
        },
        {
          "output_type": "display_data",
          "data": {
            "text/plain": [
              "number of reference data blocks: 2"
            ],
            "text/html": [
              "<pre>number of reference data blocks: 2</pre>"
            ]
          },
          "metadata": {
            "tags": []
          }
        },
        {
          "output_type": "display_data",
          "data": {
            "text/plain": [
              "number of query data blocks: 1"
            ],
            "text/html": [
              "<pre>number of query data blocks: 1</pre>"
            ]
          },
          "metadata": {
            "tags": []
          }
        },
        {
          "output_type": "display_data",
          "data": {
            "text/plain": [
              "+--------------+---------+-------------+--------------+"
            ],
            "text/html": [
              "<pre>+--------------+---------+-------------+--------------+</pre>"
            ]
          },
          "metadata": {
            "tags": []
          }
        },
        {
          "output_type": "display_data",
          "data": {
            "text/plain": [
              "| Query points | # Pairs | % Complete. | Elapsed Time |"
            ],
            "text/html": [
              "<pre>| Query points | # Pairs | % Complete. | Elapsed Time |</pre>"
            ]
          },
          "metadata": {
            "tags": []
          }
        },
        {
          "output_type": "display_data",
          "data": {
            "text/plain": [
              "+--------------+---------+-------------+--------------+"
            ],
            "text/html": [
              "<pre>+--------------+---------+-------------+--------------+</pre>"
            ]
          },
          "metadata": {
            "tags": []
          }
        },
        {
          "output_type": "display_data",
          "data": {
            "text/plain": [
              "| 1000         | 255000  | 50.0982     | 691.071ms    |"
            ],
            "text/html": [
              "<pre>| 1000         | 255000  | 50.0982     | 691.071ms    |</pre>"
            ]
          },
          "metadata": {
            "tags": []
          }
        },
        {
          "output_type": "display_data",
          "data": {
            "text/plain": [
              "| Done         | 509000  | 100         | 720.984ms    |"
            ],
            "text/html": [
              "<pre>| Done         | 509000  | 100         | 720.984ms    |</pre>"
            ]
          },
          "metadata": {
            "tags": []
          }
        },
        {
          "output_type": "display_data",
          "data": {
            "text/plain": [
              "+--------------+---------+-------------+--------------+"
            ],
            "text/html": [
              "<pre>+--------------+---------+-------------+--------------+</pre>"
            ]
          },
          "metadata": {
            "tags": []
          }
        }
      ]
    },
    {
      "cell_type": "code",
      "metadata": {
        "id": "isctuDIrryfY",
        "outputId": "742a9c9c-c239-4668-c15e-441912c558a5",
        "colab": {
          "base_uri": "https://localhost:8080/",
          "height": 279
        }
      },
      "source": [
        "dog_dog_neighbors"
      ],
      "execution_count": 128,
      "outputs": [
        {
          "output_type": "execute_result",
          "data": {
            "text/plain": [
              "Columns:\n",
              "\tquery_label\tint\n",
              "\treference_label\tint\n",
              "\tdistance\tfloat\n",
              "\trank\tint\n",
              "\n",
              "Rows: 1000\n",
              "\n",
              "Data:\n",
              "+-------------+-----------------+---------------+------+\n",
              "| query_label | reference_label |    distance   | rank |\n",
              "+-------------+-----------------+---------------+------+\n",
              "|      40     |      43412      | 19.6714036689 |  1   |\n",
              "|     784     |      10897      | 22.7341660589 |  1   |\n",
              "|     215     |      17495      | 24.4687373227 |  1   |\n",
              "|     919     |       2736      | 25.1889291315 |  1   |\n",
              "|     650     |      30098      | 25.4056530265 |  1   |\n",
              "|     905     |      19683      |  26.05065473  |  1   |\n",
              "|     600     |      21928      |  26.794022032 |  1   |\n",
              "|      78     |      32118      | 26.8454652383 |  1   |\n",
              "|     976     |      17591      |  27.037752414 |  1   |\n",
              "|     145     |       8252      | 27.0425915156 |  1   |\n",
              "+-------------+-----------------+---------------+------+\n",
              "[1000 rows x 4 columns]\n",
              "Note: Only the head of the SFrame is printed.\n",
              "You can use print_rows(num_rows=m, num_columns=n) to print more rows and columns."
            ],
            "text/html": [
              "<div style=\"max-height:1000px;max-width:1500px;overflow:auto;\"><table frame=\"box\" rules=\"cols\">\n",
              "    <tr>\n",
              "        <th style=\"padding-left: 1em; padding-right: 1em; text-align: center\">query_label</th>\n",
              "        <th style=\"padding-left: 1em; padding-right: 1em; text-align: center\">reference_label</th>\n",
              "        <th style=\"padding-left: 1em; padding-right: 1em; text-align: center\">distance</th>\n",
              "        <th style=\"padding-left: 1em; padding-right: 1em; text-align: center\">rank</th>\n",
              "    </tr>\n",
              "    <tr>\n",
              "        <td style=\"padding-left: 1em; padding-right: 1em; text-align: center; vertical-align: top\">40</td>\n",
              "        <td style=\"padding-left: 1em; padding-right: 1em; text-align: center; vertical-align: top\">43412</td>\n",
              "        <td style=\"padding-left: 1em; padding-right: 1em; text-align: center; vertical-align: top\">19.6714036689</td>\n",
              "        <td style=\"padding-left: 1em; padding-right: 1em; text-align: center; vertical-align: top\">1</td>\n",
              "    </tr>\n",
              "    <tr>\n",
              "        <td style=\"padding-left: 1em; padding-right: 1em; text-align: center; vertical-align: top\">784</td>\n",
              "        <td style=\"padding-left: 1em; padding-right: 1em; text-align: center; vertical-align: top\">10897</td>\n",
              "        <td style=\"padding-left: 1em; padding-right: 1em; text-align: center; vertical-align: top\">22.7341660589</td>\n",
              "        <td style=\"padding-left: 1em; padding-right: 1em; text-align: center; vertical-align: top\">1</td>\n",
              "    </tr>\n",
              "    <tr>\n",
              "        <td style=\"padding-left: 1em; padding-right: 1em; text-align: center; vertical-align: top\">215</td>\n",
              "        <td style=\"padding-left: 1em; padding-right: 1em; text-align: center; vertical-align: top\">17495</td>\n",
              "        <td style=\"padding-left: 1em; padding-right: 1em; text-align: center; vertical-align: top\">24.4687373227</td>\n",
              "        <td style=\"padding-left: 1em; padding-right: 1em; text-align: center; vertical-align: top\">1</td>\n",
              "    </tr>\n",
              "    <tr>\n",
              "        <td style=\"padding-left: 1em; padding-right: 1em; text-align: center; vertical-align: top\">919</td>\n",
              "        <td style=\"padding-left: 1em; padding-right: 1em; text-align: center; vertical-align: top\">2736</td>\n",
              "        <td style=\"padding-left: 1em; padding-right: 1em; text-align: center; vertical-align: top\">25.1889291315</td>\n",
              "        <td style=\"padding-left: 1em; padding-right: 1em; text-align: center; vertical-align: top\">1</td>\n",
              "    </tr>\n",
              "    <tr>\n",
              "        <td style=\"padding-left: 1em; padding-right: 1em; text-align: center; vertical-align: top\">650</td>\n",
              "        <td style=\"padding-left: 1em; padding-right: 1em; text-align: center; vertical-align: top\">30098</td>\n",
              "        <td style=\"padding-left: 1em; padding-right: 1em; text-align: center; vertical-align: top\">25.4056530265</td>\n",
              "        <td style=\"padding-left: 1em; padding-right: 1em; text-align: center; vertical-align: top\">1</td>\n",
              "    </tr>\n",
              "    <tr>\n",
              "        <td style=\"padding-left: 1em; padding-right: 1em; text-align: center; vertical-align: top\">905</td>\n",
              "        <td style=\"padding-left: 1em; padding-right: 1em; text-align: center; vertical-align: top\">19683</td>\n",
              "        <td style=\"padding-left: 1em; padding-right: 1em; text-align: center; vertical-align: top\">26.05065473</td>\n",
              "        <td style=\"padding-left: 1em; padding-right: 1em; text-align: center; vertical-align: top\">1</td>\n",
              "    </tr>\n",
              "    <tr>\n",
              "        <td style=\"padding-left: 1em; padding-right: 1em; text-align: center; vertical-align: top\">600</td>\n",
              "        <td style=\"padding-left: 1em; padding-right: 1em; text-align: center; vertical-align: top\">21928</td>\n",
              "        <td style=\"padding-left: 1em; padding-right: 1em; text-align: center; vertical-align: top\">26.794022032</td>\n",
              "        <td style=\"padding-left: 1em; padding-right: 1em; text-align: center; vertical-align: top\">1</td>\n",
              "    </tr>\n",
              "    <tr>\n",
              "        <td style=\"padding-left: 1em; padding-right: 1em; text-align: center; vertical-align: top\">78</td>\n",
              "        <td style=\"padding-left: 1em; padding-right: 1em; text-align: center; vertical-align: top\">32118</td>\n",
              "        <td style=\"padding-left: 1em; padding-right: 1em; text-align: center; vertical-align: top\">26.8454652383</td>\n",
              "        <td style=\"padding-left: 1em; padding-right: 1em; text-align: center; vertical-align: top\">1</td>\n",
              "    </tr>\n",
              "    <tr>\n",
              "        <td style=\"padding-left: 1em; padding-right: 1em; text-align: center; vertical-align: top\">976</td>\n",
              "        <td style=\"padding-left: 1em; padding-right: 1em; text-align: center; vertical-align: top\">17591</td>\n",
              "        <td style=\"padding-left: 1em; padding-right: 1em; text-align: center; vertical-align: top\">27.037752414</td>\n",
              "        <td style=\"padding-left: 1em; padding-right: 1em; text-align: center; vertical-align: top\">1</td>\n",
              "    </tr>\n",
              "    <tr>\n",
              "        <td style=\"padding-left: 1em; padding-right: 1em; text-align: center; vertical-align: top\">145</td>\n",
              "        <td style=\"padding-left: 1em; padding-right: 1em; text-align: center; vertical-align: top\">8252</td>\n",
              "        <td style=\"padding-left: 1em; padding-right: 1em; text-align: center; vertical-align: top\">27.0425915156</td>\n",
              "        <td style=\"padding-left: 1em; padding-right: 1em; text-align: center; vertical-align: top\">1</td>\n",
              "    </tr>\n",
              "</table>\n",
              "[1000 rows x 4 columns]<br/>Note: Only the head of the SFrame is printed.<br/>You can use print_rows(num_rows=m, num_columns=n) to print more rows and columns.\n",
              "</div>"
            ]
          },
          "metadata": {
            "tags": []
          },
          "execution_count": 128
        }
      ]
    },
    {
      "cell_type": "code",
      "metadata": {
        "id": "3g1f59jcABWy"
      },
      "source": [
        "dog_distances = turicreate.SFrame({'dog-automobile': dog_automobile_neighbors['distance'],\n",
        "                                   'dog-bird': dog_bird_neighbors['distance'],\n",
        "                                   'dog-cat': dog_cat_neighbors['distance'],\n",
        "                                   'dog-dog': dog_dog_neighbors['distance']})"
      ],
      "execution_count": 129,
      "outputs": []
    },
    {
      "cell_type": "code",
      "metadata": {
        "id": "h7pjLswLCbCu",
        "outputId": "634896fb-95e3-4a6d-96d8-041d14816145",
        "colab": {
          "base_uri": "https://localhost:8080/",
          "height": 279
        }
      },
      "source": [
        "dog_distances"
      ],
      "execution_count": 130,
      "outputs": [
        {
          "output_type": "execute_result",
          "data": {
            "text/plain": [
              "Columns:\n",
              "\tdog-automobile\tfloat\n",
              "\tdog-bird\tfloat\n",
              "\tdog-cat\tfloat\n",
              "\tdog-dog\tfloat\n",
              "\n",
              "Rows: 1000\n",
              "\n",
              "Data:\n",
              "+----------------+---------------+---------------+---------------+\n",
              "| dog-automobile |    dog-bird   |    dog-cat    |    dog-dog    |\n",
              "+----------------+---------------+---------------+---------------+\n",
              "| 33.5148522961  | 28.3162275661 |  28.177487261 | 19.6714036689 |\n",
              "| 34.8283194442  | 29.0780048303 | 28.2611358405 | 22.7341660589 |\n",
              "| 35.0219180579  | 29.5226045495 | 28.3980844578 | 24.4687373227 |\n",
              "| 35.1985567824  | 29.7975319435 | 28.8630684757 | 25.1889291315 |\n",
              "| 35.2571595878  | 29.8462510601 | 28.9209229055 | 25.4056530265 |\n",
              "| 35.6933860364  | 29.9052253929 | 28.9376432837 |  26.05065473  |\n",
              "| 35.7020189929  | 30.5899109487 |  29.298389664 |  26.794022032 |\n",
              "| 35.7062724643  | 30.6492258335 | 29.3239247892 | 26.8454652383 |\n",
              "|  36.224097477  | 31.6125050536 |  29.385360443 |  27.037752414 |\n",
              "| 36.2547629997  | 31.6437576472 | 29.4381628951 | 27.0425915156 |\n",
              "+----------------+---------------+---------------+---------------+\n",
              "[1000 rows x 4 columns]\n",
              "Note: Only the head of the SFrame is printed.\n",
              "You can use print_rows(num_rows=m, num_columns=n) to print more rows and columns."
            ],
            "text/html": [
              "<div style=\"max-height:1000px;max-width:1500px;overflow:auto;\"><table frame=\"box\" rules=\"cols\">\n",
              "    <tr>\n",
              "        <th style=\"padding-left: 1em; padding-right: 1em; text-align: center\">dog-automobile</th>\n",
              "        <th style=\"padding-left: 1em; padding-right: 1em; text-align: center\">dog-bird</th>\n",
              "        <th style=\"padding-left: 1em; padding-right: 1em; text-align: center\">dog-cat</th>\n",
              "        <th style=\"padding-left: 1em; padding-right: 1em; text-align: center\">dog-dog</th>\n",
              "    </tr>\n",
              "    <tr>\n",
              "        <td style=\"padding-left: 1em; padding-right: 1em; text-align: center; vertical-align: top\">33.5148522961</td>\n",
              "        <td style=\"padding-left: 1em; padding-right: 1em; text-align: center; vertical-align: top\">28.3162275661</td>\n",
              "        <td style=\"padding-left: 1em; padding-right: 1em; text-align: center; vertical-align: top\">28.177487261</td>\n",
              "        <td style=\"padding-left: 1em; padding-right: 1em; text-align: center; vertical-align: top\">19.6714036689</td>\n",
              "    </tr>\n",
              "    <tr>\n",
              "        <td style=\"padding-left: 1em; padding-right: 1em; text-align: center; vertical-align: top\">34.8283194442</td>\n",
              "        <td style=\"padding-left: 1em; padding-right: 1em; text-align: center; vertical-align: top\">29.0780048303</td>\n",
              "        <td style=\"padding-left: 1em; padding-right: 1em; text-align: center; vertical-align: top\">28.2611358405</td>\n",
              "        <td style=\"padding-left: 1em; padding-right: 1em; text-align: center; vertical-align: top\">22.7341660589</td>\n",
              "    </tr>\n",
              "    <tr>\n",
              "        <td style=\"padding-left: 1em; padding-right: 1em; text-align: center; vertical-align: top\">35.0219180579</td>\n",
              "        <td style=\"padding-left: 1em; padding-right: 1em; text-align: center; vertical-align: top\">29.5226045495</td>\n",
              "        <td style=\"padding-left: 1em; padding-right: 1em; text-align: center; vertical-align: top\">28.3980844578</td>\n",
              "        <td style=\"padding-left: 1em; padding-right: 1em; text-align: center; vertical-align: top\">24.4687373227</td>\n",
              "    </tr>\n",
              "    <tr>\n",
              "        <td style=\"padding-left: 1em; padding-right: 1em; text-align: center; vertical-align: top\">35.1985567824</td>\n",
              "        <td style=\"padding-left: 1em; padding-right: 1em; text-align: center; vertical-align: top\">29.7975319435</td>\n",
              "        <td style=\"padding-left: 1em; padding-right: 1em; text-align: center; vertical-align: top\">28.8630684757</td>\n",
              "        <td style=\"padding-left: 1em; padding-right: 1em; text-align: center; vertical-align: top\">25.1889291315</td>\n",
              "    </tr>\n",
              "    <tr>\n",
              "        <td style=\"padding-left: 1em; padding-right: 1em; text-align: center; vertical-align: top\">35.2571595878</td>\n",
              "        <td style=\"padding-left: 1em; padding-right: 1em; text-align: center; vertical-align: top\">29.8462510601</td>\n",
              "        <td style=\"padding-left: 1em; padding-right: 1em; text-align: center; vertical-align: top\">28.9209229055</td>\n",
              "        <td style=\"padding-left: 1em; padding-right: 1em; text-align: center; vertical-align: top\">25.4056530265</td>\n",
              "    </tr>\n",
              "    <tr>\n",
              "        <td style=\"padding-left: 1em; padding-right: 1em; text-align: center; vertical-align: top\">35.6933860364</td>\n",
              "        <td style=\"padding-left: 1em; padding-right: 1em; text-align: center; vertical-align: top\">29.9052253929</td>\n",
              "        <td style=\"padding-left: 1em; padding-right: 1em; text-align: center; vertical-align: top\">28.9376432837</td>\n",
              "        <td style=\"padding-left: 1em; padding-right: 1em; text-align: center; vertical-align: top\">26.05065473</td>\n",
              "    </tr>\n",
              "    <tr>\n",
              "        <td style=\"padding-left: 1em; padding-right: 1em; text-align: center; vertical-align: top\">35.7020189929</td>\n",
              "        <td style=\"padding-left: 1em; padding-right: 1em; text-align: center; vertical-align: top\">30.5899109487</td>\n",
              "        <td style=\"padding-left: 1em; padding-right: 1em; text-align: center; vertical-align: top\">29.298389664</td>\n",
              "        <td style=\"padding-left: 1em; padding-right: 1em; text-align: center; vertical-align: top\">26.794022032</td>\n",
              "    </tr>\n",
              "    <tr>\n",
              "        <td style=\"padding-left: 1em; padding-right: 1em; text-align: center; vertical-align: top\">35.7062724643</td>\n",
              "        <td style=\"padding-left: 1em; padding-right: 1em; text-align: center; vertical-align: top\">30.6492258335</td>\n",
              "        <td style=\"padding-left: 1em; padding-right: 1em; text-align: center; vertical-align: top\">29.3239247892</td>\n",
              "        <td style=\"padding-left: 1em; padding-right: 1em; text-align: center; vertical-align: top\">26.8454652383</td>\n",
              "    </tr>\n",
              "    <tr>\n",
              "        <td style=\"padding-left: 1em; padding-right: 1em; text-align: center; vertical-align: top\">36.224097477</td>\n",
              "        <td style=\"padding-left: 1em; padding-right: 1em; text-align: center; vertical-align: top\">31.6125050536</td>\n",
              "        <td style=\"padding-left: 1em; padding-right: 1em; text-align: center; vertical-align: top\">29.385360443</td>\n",
              "        <td style=\"padding-left: 1em; padding-right: 1em; text-align: center; vertical-align: top\">27.037752414</td>\n",
              "    </tr>\n",
              "    <tr>\n",
              "        <td style=\"padding-left: 1em; padding-right: 1em; text-align: center; vertical-align: top\">36.2547629997</td>\n",
              "        <td style=\"padding-left: 1em; padding-right: 1em; text-align: center; vertical-align: top\">31.6437576472</td>\n",
              "        <td style=\"padding-left: 1em; padding-right: 1em; text-align: center; vertical-align: top\">29.4381628951</td>\n",
              "        <td style=\"padding-left: 1em; padding-right: 1em; text-align: center; vertical-align: top\">27.0425915156</td>\n",
              "    </tr>\n",
              "</table>\n",
              "[1000 rows x 4 columns]<br/>Note: Only the head of the SFrame is printed.<br/>You can use print_rows(num_rows=m, num_columns=n) to print more rows and columns.\n",
              "</div>"
            ]
          },
          "metadata": {
            "tags": []
          },
          "execution_count": 130
        }
      ]
    },
    {
      "cell_type": "markdown",
      "metadata": {
        "id": "6ffrpawnrx4h"
      },
      "source": [
        "#### From above results we can implies that for test_dog_data best fit model are as below:\n",
        "<ol> \n",
        "<li> dog_model \n",
        "<li> cat_model \n",
        "<li> bird_model \n",
        "<li> automobie_model \n"
      ]
    },
    {
      "cell_type": "markdown",
      "metadata": {
        "id": "_TR23nF9tjZg"
      },
      "source": [
        "##### We can also check that for how many images our dog_model performed better in showing nearest neighbor compare to other model "
      ]
    },
    {
      "cell_type": "code",
      "metadata": {
        "id": "ZMskzytACdK9"
      },
      "source": [
        "def is_dog_correct(row):\n",
        "  if row['dog-dog'] < row['dog-automobile'] and row['dog-dog'] < row['dog-bird'] and row['dog-dog'] < row['dog-cat']:\n",
        "    return 1\n",
        "  else:\n",
        "    return 0  "
      ],
      "execution_count": 131,
      "outputs": []
    },
    {
      "cell_type": "code",
      "metadata": {
        "id": "m2mu0S90ENe7"
      },
      "source": [
        "array_new = dog_distances.apply(is_dog_correct)"
      ],
      "execution_count": 132,
      "outputs": []
    },
    {
      "cell_type": "code",
      "metadata": {
        "id": "daEA0mzrEe7E",
        "outputId": "62ed1f26-9edd-4479-cd37-555226090fda",
        "colab": {
          "base_uri": "https://localhost:8080/",
          "height": 74
        }
      },
      "source": [
        "array_new.value_counts()"
      ],
      "execution_count": 133,
      "outputs": [
        {
          "output_type": "execute_result",
          "data": {
            "text/plain": [
              "Columns:\n",
              "\tvalue\tint\n",
              "\tcount\tint\n",
              "\n",
              "Rows: 1\n",
              "\n",
              "Data:\n",
              "+-------+-------+\n",
              "| value | count |\n",
              "+-------+-------+\n",
              "|   1   |  1000 |\n",
              "+-------+-------+\n",
              "[1 rows x 2 columns]"
            ],
            "text/html": [
              "<div style=\"max-height:1000px;max-width:1500px;overflow:auto;\"><table frame=\"box\" rules=\"cols\">\n",
              "    <tr>\n",
              "        <th style=\"padding-left: 1em; padding-right: 1em; text-align: center\">value</th>\n",
              "        <th style=\"padding-left: 1em; padding-right: 1em; text-align: center\">count</th>\n",
              "    </tr>\n",
              "    <tr>\n",
              "        <td style=\"padding-left: 1em; padding-right: 1em; text-align: center; vertical-align: top\">1</td>\n",
              "        <td style=\"padding-left: 1em; padding-right: 1em; text-align: center; vertical-align: top\">1000</td>\n",
              "    </tr>\n",
              "</table>\n",
              "[1 rows x 2 columns]<br/>\n",
              "</div>"
            ]
          },
          "metadata": {
            "tags": []
          },
          "execution_count": 133
        }
      ]
    },
    {
      "cell_type": "markdown",
      "metadata": {
        "id": "FwgDDIEGwKcI"
      },
      "source": [
        "## Purport: \n",
        "From above results, we can say that our dog_model is performing better than others considering all the samples in test_dog_data. "
      ]
    }
  ]
}